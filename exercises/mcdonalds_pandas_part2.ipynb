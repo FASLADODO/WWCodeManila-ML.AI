{
 "cells": [
  {
   "cell_type": "markdown",
   "metadata": {},
   "source": [
    "## Learning Pandas with McDonalds - Part 2\n",
    "Continuation of [Learning Pandas with McDonalds - Part 1](https://github.com/wwcodemanila/WWCodeManila-ML.AI/blob/master/exercises/mcdonalds_pandas_part1.ipynb)."
   ]
  },
  {
   "cell_type": "markdown",
   "metadata": {},
   "source": [
    "### Selection by Type\n",
    "Note: For the following items, refer to [this tutorial](http://nbviewer.jupyter.org/github/jvns/pandas-cookbook/blob/v0.1/cookbook/Chapter%203%20-%20Which%20borough%20has%20the%20most%20noise%20complaints%3F%20%28or%2C%20more%20selecting%20data%29.ipynb).\n",
    "1. Retrieve the first 3 menu items in the dataset whose Category is 'Chicken & Fish'. \n",
    "2. Retrieve the first 3 menu items whose Trans fat is greater than or equal to 1. (Then try getting only the Trans Fat column)\n",
    "3. Retrieve all menu items that are desserts and whose sugar content is greater than 40 grams. (Try getting only the Sugars column)\n",
    "4. Retrieve all menu items that are beverages and whose sugar content is greater than 50 grams. (Try getting only the Sugars column)\n",
    "5. Retrieve the row data of <b>Baked Apple Pie</b> and <b>Hot Fudge Sundae</b> in a single table. [Hint: use df.index]\n",
    "6. How many breakfast menu items are there whose Calories from Fat make up more than 50% of the total Calories? "
   ]
  },
  {
   "cell_type": "markdown",
   "metadata": {
    "collapsed": true
   },
   "source": [
    "### Selection by Characteristic\n",
    "Retrieve the name and statistics of the menu item as requested below.\n",
    "\n",
    "<b>Bonus Challenge</b>: If there are more than one item for each category, print all of them (e.g. there may be multiple items sharing the same highest Calories)\n",
    "\n",
    "1. Choose 5 among the following that interest you the most and retrieve those items:\n",
    "    - Highest Calories\n",
    "    - Highest Calories from Fat\n",
    "    - Highest Total Fat (% Daily Value)\n",
    "    - Saturated Fat (% Daily Value)\n",
    "    - Highest Trans Fat\n",
    "    - Highest Cholesterol (% Daily Value)\n",
    "    - Highest Sodium (% Daily Value)\n",
    "    - Highest Carbohydrates (% Daily Value)\n",
    "    - Highest Dietary Fiber (% Daily Value)\n",
    "    - Highest Sugars\n",
    "    - Highest Protein\n",
    "    - Highest Vitamin A (% Daily Value)\n",
    "    - Highest Vitamin C (% Daily Value)\n",
    "    - Highest Calcium (% Daily Value)\n",
    "    - Highest Iron (% Daily Value)\n",
    "2. For the 7 you chose in Number 1, get their lowest counterparts.\n",
    "3. Print the top 10 items with the highest Calories in descending order.\n",
    "4. Print the top 10 items with the lowest Calories in ascending order.\n",
    "\n",
    "<b>Bonus:</b> Have questions of your own? (e.g. Which top 10 items have the most sugar? least sugar?) Answer them here!"
   ]
  },
  {
   "cell_type": "markdown",
   "metadata": {},
   "source": [
    "### Final Challenge: Eating Healthy with McDonald's?\n",
    "For 1 million pesos, your friend challenges you to eat nothing but McDonalds for an entire month. \n",
    "\n",
    "<b>Task</b>: Plan your meals (breakfast, lunch and dinner) for one whole day in such a way that you manage to still live healthily. Use the following restrictions as a guide:\n",
    "- Total amount calories should be less than 2000\n",
    "- Calories from fat is recommended to be less than or equal to 30% of the Total Calories.\n",
    "- Sugar should be less than 25 grams (women) or 37.5 grams (men)\n",
    "- Protein should be less than 46 grams (women) or 56 grams (men)\n",
    "- Try not to exceed the 100 % Daily Value \n",
    "\n",
    "<b>Rules:</b> \n",
    "- Breakfast meals are served only at breakfast (meaning you can't have Egg McMuffin for lunch)\n",
    "- Try to maximize your enjoyment as well; don't just have salad and water all day if you hate salad\n",
    "\n",
    "### Congrats on finishing the exercise!"
   ]
  },
  {
   "cell_type": "code",
   "execution_count": null,
   "metadata": {
    "collapsed": true
   },
   "outputs": [],
   "source": []
  }
 ],
 "metadata": {
  "kernelspec": {
   "display_name": "Python 3",
   "language": "python",
   "name": "python3"
  },
  "language_info": {
   "codemirror_mode": {
    "name": "ipython",
    "version": 3
   },
   "file_extension": ".py",
   "mimetype": "text/x-python",
   "name": "python",
   "nbconvert_exporter": "python",
   "pygments_lexer": "ipython3",
   "version": "3.6.0"
  }
 },
 "nbformat": 4,
 "nbformat_minor": 2
}
