{
 "cells": [
  {
   "cell_type": "markdown",
   "metadata": {},
   "source": [
    "## Learning Pandas with McDonalds - Part 2\n",
    "Continuation of [Learning Pandas with McDonalds - Part 1](https://github.com/wwcodemanila/WWCodeManila-ML.AI/blob/master/exercises/mcdonalds_pandas_part1.ipynb)."
   ]
  },
  {
   "cell_type": "markdown",
   "metadata": {},
   "source": [
    "### More on Selection and Counting\n",
    "Note: For the following items, refer to [this tutorial](http://nbviewer.jupyter.org/github/jvns/pandas-cookbook/blob/v0.1/cookbook/Chapter%202%20-%20Selecting%20data%20&%20finding%20the%20most%20common%20complaint%20type.ipynb).\n",
    "\n",
    "1. Select just the 'Calories' column of the first 5 items. [Hint](http://nbviewer.jupyter.org/github/jvns/pandas-cookbook/blob/v0.1/cookbook/Chapter%202%20-%20Selecting%20data%20&%20finding%20the%20most%20common%20complaint%20type.ipynb#2.2-Selecting-columns-and-rows)\n",
    "2. Select just the 'Calories' and 'Total Fat' columns of the first 5 items. [Hint](http://nbviewer.jupyter.org/github/jvns/pandas-cookbook/blob/v0.1/cookbook/Chapter%202%20-%20Selecting%20data%20&%20finding%20the%20most%20common%20complaint%20type.ipynb#2.3-Selecting-multiple-columns)\n",
    "3. What are the unique categories under column 'Category'? [Hint](https://chrisalbon.com/python/pandas_list_unique_values_in_column.html) \n",
    "4. How many items belong to each Category? [Hint](http://nbviewer.jupyter.org/github/jvns/pandas-cookbook/blob/v0.1/cookbook/Chapter%202%20-%20Selecting%20data%20&%20finding%20the%20most%20common%20complaint%20type.ipynb#2.4-What's-the-most-common-complaint-type?)\n",
    "5. What's the most common Category?\n",
    "\n",
    "<b>Challenge: </b> Plot the bar graph for item 4. \n",
    "- Label the axes properly [Hint](https://stackoverflow.com/questions/42223587/plt-scatter-how-to-add-title-and-xlabel-and-ylabel)\n",
    "- Make sure to call `plt.show()` if you're using jupyter notebook.\n",
    "- Plus points if you can order the elements in the bar plot in descending order (i.e. highest first) [Hint1](https://pandas.pydata.org/pandas-docs/stable/generated/pandas.Series.sort_values.html) [Hint2](https://stackoverflow.com/questions/22149584/what-does-axis-in-pandas-mean)"
   ]
  },
  {
   "cell_type": "markdown",
   "metadata": {},
   "source": [
    "### Selection by Category\n",
    "Note: For the following items, refer to [this tutorial](http://nbviewer.jupyter.org/github/jvns/pandas-cookbook/blob/v0.1/cookbook/Chapter%203%20-%20Which%20borough%20has%20the%20most%20noise%20complaints%3F%20%28or%2C%20more%20selecting%20data%29.ipynb).\n",
    "1. Retrieve the first 3 menu items in the dataset whose Category is 'Chicken & Fish'. \n",
    "2. Retrieve the first 3 menu items whose Trans fat is greater than or equal to 1. (Then try getting only the Trans Fat column)\n",
    "3. Retrieve all menu items that are desserts and whose sugar content is greater than 40 grams. (Try getting only the Sugars column)\n",
    "4. Retrieve all menu items that are beverages and whose sugar content is greater than 50 grams. (Try getting only the Sugars column)\n",
    "5. Retrieve the row data of <b>Baked Apple Pie</b> and <b>Hot Fudge Sundae</b> in a single table. [Hint: use df.index]\n",
    "6. How many breakfast menu items are there whose Calories from Fat make up more than 50% of the total Calories? "
   ]
  },
  {
   "cell_type": "markdown",
   "metadata": {
    "collapsed": true
   },
   "source": [
    "###  Congrats on making it this far! [Click here for Part 3.](https://github.com/wwcodemanila/WWCodeManila-ML.AI/blob/master/exercises/mcdonalds_pandas_part3.ipynb)"
   ]
  }
 ],
 "metadata": {
  "kernelspec": {
   "display_name": "Python 3",
   "language": "python",
   "name": "python3"
  },
  "language_info": {
   "codemirror_mode": {
    "name": "ipython",
    "version": 3
   },
   "file_extension": ".py",
   "mimetype": "text/x-python",
   "name": "python",
   "nbconvert_exporter": "python",
   "pygments_lexer": "ipython3",
   "version": "3.6.0"
  }
 },
 "nbformat": 4,
 "nbformat_minor": 2
}
