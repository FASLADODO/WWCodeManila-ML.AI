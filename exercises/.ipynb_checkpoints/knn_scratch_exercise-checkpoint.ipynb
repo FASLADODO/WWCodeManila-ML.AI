{
 "cells": [
  {
   "cell_type": "markdown",
   "metadata": {},
   "source": [
    "## KNN from Scratch ٩(●ᴗ●)۶\n",
    "\n",
    "<b>Goal</b>: Implement your first machine learning algorithm! KNN is one of the simplest algorithms to implement. \n",
    "\n",
    "[See this very detailed tutorial for more information. ](https://kevinzakka.github.io/2016/07/13/k-nearest-neighbor/)"
   ]
  },
  {
   "cell_type": "markdown",
   "metadata": {},
   "source": [
    "#### 1.) Import relevant libraries: \n",
    "- `pandas`\n",
    "- `numpy`\n",
    "- from the `sklearn` library\n",
    "    - `train_test_split`\n",
    "    - `accuracy_score`."
   ]
  },
  {
   "cell_type": "code",
   "execution_count": null,
   "metadata": {
    "collapsed": true
   },
   "outputs": [],
   "source": []
  },
  {
   "cell_type": "markdown",
   "metadata": {},
   "source": [
    "#### 2.) Load iris dataset."
   ]
  },
  {
   "cell_type": "code",
   "execution_count": 169,
   "metadata": {
    "collapsed": true
   },
   "outputs": [],
   "source": [
    "filename = None\n",
    "df = None"
   ]
  },
  {
   "cell_type": "markdown",
   "metadata": {},
   "source": [
    "#### 3.) Extract features and labels.\n",
    "- Create matrix X containing the features. \n",
    "- Create target vector y containing the classes."
   ]
  },
  {
   "cell_type": "code",
   "execution_count": 170,
   "metadata": {
    "collapsed": true
   },
   "outputs": [],
   "source": [
    "X = None\n",
    "y = None"
   ]
  },
  {
   "cell_type": "markdown",
   "metadata": {},
   "source": [
    "#### 4.) Split the dataset"
   ]
  },
  {
   "cell_type": "code",
   "execution_count": 171,
   "metadata": {
    "collapsed": true
   },
   "outputs": [],
   "source": [
    "X_train, X_test, y_train, y_test = None, None, None, None"
   ]
  },
  {
   "cell_type": "markdown",
   "metadata": {},
   "source": [
    "#### 5.) K-Nearest Neighbor Algorithm\n",
    "We first create a function `knn_predict()` that:\n",
    "- Takes as input the training features `X_train`, the correspond training labels `y_train`, a new observation `x_test`, and the hyperparameter `k`.\n",
    "- Returns the predicted label of `x_test`.\n",
    "\n",
    "(Note: all code under Step 5 falls under the `knn_predict()` function.)"
   ]
  },
  {
   "cell_type": "markdown",
   "metadata": {},
   "source": [
    "<b>5.1.)</b> Compute distance of x_test to every training example in X_train. That is, we ceate a for loop iterating over the rows of X_train.\n",
    "    \n",
    "    For each row i within the total number of rows in X_train,\n",
    "        - Set x_train = the training example at row i (Question: How do you access the training example of X_train at row i?)\n",
    "        - Compute the euclidean distance between x_test and x_train (You can try googling how to do this. :D)\n",
    "        - Get the corresponding training label of x_train.\n",
    "        - Append the tuple (euclidean_distance, x_train_label) to the distances list.\n",
    "        \n",
    "<b>5.2.)</b> Sort elements in list `distances` in ascending order according to euclidean distance.\n",
    "\n",
    "<b>5.3.)</b> Define `k_neighbors` to be the list of k nearest neighbors of `x_test`. (i.e. `k_neighbors` = first k elements in the sorted distances list).\n",
    "\n",
    "<b>5.4.)</b> Perform a majority vote on nearest k neighbors.\n",
    "\t\n",
    "    Define votes to be a Python dictionary containing:\n",
    "        - class labels as keys \n",
    "        - number of votes as values\n",
    "\tInitially, set the number of votes for each label to zero.\n",
    "\ti.e. {'Iris-setosa': 0, 'Iris-versicolor': 0, 'Iris-virginica': 0}\n",
    "\tNote: Ideally, this shouldn't be hard-coded. \n",
    "\tTip: To get the list of the unique values of y, use:\n",
    "        - np.unique(y) - for Numpy arrays\n",
    "        - y.unique() - for DataFrames\n",
    "        \n",
    "<b>5.5.)</b> Increment the value of the labels in vote that appear in `k_neighbors`.\n",
    "\n",
    "    For each tuple in the form (euclidean_distance, x_train_label) in k_neighbors\n",
    "        Increment the value of votes[x_train_label] by one\n",
    "\n",
    "<b>5.6.)</b> Return the key (label) with the highest value (number of votes) in the votes dictionary"
   ]
  },
  {
   "cell_type": "code",
   "execution_count": 172,
   "metadata": {
    "collapsed": true
   },
   "outputs": [],
   "source": [
    "def knn_predict(X_train, y_train, x_test, k):\n",
    "    \n",
    "    # 5.1 Compute distance of x_test to every training example in X_train \n",
    "    distances = []\n",
    "    \n",
    "    # 5.2 Sort elements in list 'distances' in ascending order\n",
    "    \n",
    "    # 5.3 Define k_neighbors to be the k nearest neighbors of x-test \n",
    "    k_neighbors = []\n",
    "    \n",
    "    # 5.4 Perform a majority vote on nearest k neighbors.\n",
    "    votes = dict()\n",
    "    \n",
    "    # 5.5 For each tuple in k_neighbors\n",
    "    #       - Increment the value of votes[label] by one\n",
    "    \n",
    "    # 5.6 Return the key (label) with the highest value (number of votes) in the votes dictionary\n",
    "    return None"
   ]
  },
  {
   "cell_type": "markdown",
   "metadata": {},
   "source": [
    "####  6.) Create a for loop iterating over the rows of `X_test`.\n",
    "\n",
    "    For each row i within the total number of rows in X_test:\n",
    "        - Set x_test = the test example at row i\n",
    "        - Predict the label of x_test using our knn_predict() function\n",
    "        - Append the predicted label to y_pred"
   ]
  },
  {
   "cell_type": "code",
   "execution_count": 173,
   "metadata": {
    "collapsed": false
   },
   "outputs": [
    {
     "ename": "NameError",
     "evalue": "name 'accuracy_score' is not defined",
     "output_type": "error",
     "traceback": [
      "\u001b[0;31m---------------------------------------------------------------------------\u001b[0m",
      "\u001b[0;31mNameError\u001b[0m                                 Traceback (most recent call last)",
      "\u001b[0;32m<ipython-input-173-f67b44b3b1e7>\u001b[0m in \u001b[0;36m<module>\u001b[0;34m()\u001b[0m\n\u001b[1;32m      1\u001b[0m \u001b[0my_pred\u001b[0m \u001b[1;33m=\u001b[0m \u001b[1;33m[\u001b[0m\u001b[1;33m]\u001b[0m\u001b[1;33m\u001b[0m\u001b[0m\n\u001b[0;32m----> 2\u001b[0;31m \u001b[1;32mprint\u001b[0m\u001b[1;33m(\u001b[0m\u001b[1;34m\"KNN Accuracy: \"\u001b[0m \u001b[1;33m+\u001b[0m \u001b[0mstr\u001b[0m\u001b[1;33m(\u001b[0m\u001b[0maccuracy_score\u001b[0m\u001b[1;33m(\u001b[0m\u001b[0my_test\u001b[0m\u001b[1;33m,\u001b[0m \u001b[0my_pred\u001b[0m\u001b[1;33m)\u001b[0m\u001b[1;33m)\u001b[0m\u001b[1;33m)\u001b[0m\u001b[1;33m\u001b[0m\u001b[0m\n\u001b[0m",
      "\u001b[0;31mNameError\u001b[0m: name 'accuracy_score' is not defined"
     ]
    }
   ],
   "source": [
    "y_pred = []\n",
    "print(\"KNN Accuracy: \" + str(accuracy_score(y_test, y_pred)))"
   ]
  },
  {
   "cell_type": "markdown",
   "metadata": {},
   "source": [
    "To check that your implementation is correct, try comparing your results with the results obtained using the sklearn library KNeighborsClassifier.\n",
    "\n",
    "If done correctly, the results should be the same. :) \n",
    "Try other datasets such as `wine.csv` in the dataset folder. "
   ]
  }
 ],
 "metadata": {
  "kernelspec": {
   "display_name": "Python 2",
   "language": "python",
   "name": "python2"
  },
  "language_info": {
   "codemirror_mode": {
    "name": "ipython",
    "version": 2
   },
   "file_extension": ".py",
   "mimetype": "text/x-python",
   "name": "python",
   "nbconvert_exporter": "python",
   "pygments_lexer": "ipython2",
   "version": "2.7.13"
  }
 },
 "nbformat": 4,
 "nbformat_minor": 2
}
