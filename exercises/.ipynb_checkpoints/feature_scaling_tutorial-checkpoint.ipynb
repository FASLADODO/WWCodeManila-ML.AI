{
 "cells": [
  {
   "cell_type": "markdown",
   "metadata": {},
   "source": [
    "# Feature scaling\n",
    "\n",
    "Different features can be measured on different scales. \n",
    "\n",
    "> For example:\n",
    "> * height can be measure in centimeters\n",
    "> * weight in kilograms\n",
    "> * blood pressure in mmHg\n",
    "> * etc. \n",
    "\n",
    "Some classifiers combine and compare feature values, e.g. computing distance using Euclidean distance. The problem is that if one of the features has a broad range of values, the distance will be governed by this particular feature!\n",
    "\n",
    "> For example, consider the two features:\n",
    "> * the percentage of unemployment in a city - ranges from 0.0 to 1.0\n",
    "> * the population of the city - can range up to 500,000\n",
    ">\n",
    "> Population will govern percentage by far. \n",
    "\n",
    "Scaling transforms the data so that the features have, more or less, uniform range.\n",
    "\n",
    "> <i>The main advantage of scaling is to avoid attributes in greater numeric ranges dominating those in smaller numeric ranges.</i>\n",
    "\n",
    "As we'll see later, scaling features can lead to a faster optimization process and better results. However, for other algorithms like the Decision Tree Classifier, scaling is *not* necessary (i.e. it's scale-invariant). \n"
   ]
  },
  {
   "cell_type": "markdown",
   "metadata": {},
   "source": [
    "### Wine Dataset\n",
    "About the dataset: `wine.csv`\n",
    "\n",
    "These data are the results of a chemical analysis of wines grown in the same region in Italy but derived from three different cultivars. The analysis determined the quantities of 13 constituents found in each of the three types of wines\n",
    "\n",
    "The data consists of:\n",
    "- 13 features (see dataset/wine.headers)\n",
    "- 3 classes - types of wine (I'm not sure what these types particularly are. In the dataset, they're just denoted as 1, 2, and 3. Sarreh.) \n",
    "\n",
    "See more detail here: https://archive.ics.uci.edu/ml/datasets/wine"
   ]
  },
  {
   "cell_type": "markdown",
   "metadata": {},
   "source": [
    "## Let's get started\n",
    "Scikit-learn comes with a package for data preprocessing `sklearn.preprocessing`. Let's start by importing that."
   ]
  },
  {
   "cell_type": "code",
   "execution_count": 113,
   "metadata": {
    "collapsed": true
   },
   "outputs": [],
   "source": [
    "from sklearn import preprocessing"
   ]
  },
  {
   "cell_type": "markdown",
   "metadata": {},
   "source": [
    "<b>1.)</b> Import as well all libraries that we've used from the previous sessions. We'll also be plotting some things so rememeber to import `matplotlib as plt`."
   ]
  },
  {
   "cell_type": "code",
   "execution_count": 114,
   "metadata": {
    "collapsed": true
   },
   "outputs": [],
   "source": [
    "import pandas as pd\n",
    "import matplotlib.pyplot as plt\n",
    "\n",
    "from sklearn.model_selection import train_test_split\n",
    "from sklearn.neural_network import MLPClassifier\n",
    "from sklearn.tree import DecisionTreeClassifier\n",
    "from sklearn.neighbors import KNeighborsClassifier\n",
    "from sklearn.naive_bayes import GaussianNB\n",
    "from sklearn.svm import SVC"
   ]
  },
  {
   "cell_type": "markdown",
   "metadata": {},
   "source": [
    "<b>2.)</b> Load the dataset wine.csv located in the /datasets folder. Set header=None since the dataset has no headers."
   ]
  },
  {
   "cell_type": "code",
   "execution_count": 115,
   "metadata": {
    "collapsed": false
   },
   "outputs": [],
   "source": [
    "#filename = None\n",
    "#df = pandas.read_csv(filename)\n",
    "filename = '../datasets/wine.csv'\n",
    "df = pd.read_csv(filename, header=None) "
   ]
  },
  {
   "cell_type": "markdown",
   "metadata": {},
   "source": [
    "The headers are actually stored in the file /datasets/wine.names. We load this file as follows:"
   ]
  },
  {
   "cell_type": "code",
   "execution_count": 116,
   "metadata": {
    "collapsed": false
   },
   "outputs": [],
   "source": [
    "headers = []\n",
    "with open('../datasets/wine.names','r') as file:\n",
    "    for line in file:\n",
    "        #headers.append(None)\n",
    "        headers.append(line.strip())\n",
    "        # Append each line to the 'headers' list.\n",
    "        # Important: Strip each line of line breaks(\\n) and trailing white spaces. \n",
    "        # In short, append line.strip() to headers."
   ]
  },
  {
   "cell_type": "code",
   "execution_count": 117,
   "metadata": {
    "collapsed": true
   },
   "outputs": [],
   "source": [
    "df.columns = headers #Sets the headers"
   ]
  },
  {
   "cell_type": "markdown",
   "metadata": {},
   "source": [
    "<b>3.)</b> Print the first 10 instances of the dataframe using `head()` just to check that we loaded the data and headers properly."
   ]
  },
  {
   "cell_type": "code",
   "execution_count": 118,
   "metadata": {
    "collapsed": false
   },
   "outputs": [
    {
     "name": "stdout",
     "output_type": "stream",
     "text": [
      "   Class Label  Alcohol  Malic acid   Ash  Alcalinity of ash  Magnesium  \\\n",
      "0            1    14.23        1.71  2.43               15.6        127   \n",
      "1            1    13.20        1.78  2.14               11.2        100   \n",
      "2            1    13.16        2.36  2.67               18.6        101   \n",
      "3            1    14.37        1.95  2.50               16.8        113   \n",
      "4            1    13.24        2.59  2.87               21.0        118   \n",
      "5            1    14.20        1.76  2.45               15.2        112   \n",
      "6            1    14.39        1.87  2.45               14.6         96   \n",
      "7            1    14.06        2.15  2.61               17.6        121   \n",
      "8            1    14.83        1.64  2.17               14.0         97   \n",
      "9            1    13.86        1.35  2.27               16.0         98   \n",
      "\n",
      "   Total phenols  Flavanoids  Nonflavanoid phenols  Proanthocyanins  \\\n",
      "0           2.80        3.06                  0.28             2.29   \n",
      "1           2.65        2.76                  0.26             1.28   \n",
      "2           2.80        3.24                  0.30             2.81   \n",
      "3           3.85        3.49                  0.24             2.18   \n",
      "4           2.80        2.69                  0.39             1.82   \n",
      "5           3.27        3.39                  0.34             1.97   \n",
      "6           2.50        2.52                  0.30             1.98   \n",
      "7           2.60        2.51                  0.31             1.25   \n",
      "8           2.80        2.98                  0.29             1.98   \n",
      "9           2.98        3.15                  0.22             1.85   \n",
      "\n",
      "   Color intensity   Hue  OD280/OD315 of diluted wines  Proline  \n",
      "0             5.64  1.04                          3.92     1065  \n",
      "1             4.38  1.05                          3.40     1050  \n",
      "2             5.68  1.03                          3.17     1185  \n",
      "3             7.80  0.86                          3.45     1480  \n",
      "4             4.32  1.04                          2.93      735  \n",
      "5             6.75  1.05                          2.85     1450  \n",
      "6             5.25  1.02                          3.58     1290  \n",
      "7             5.05  1.06                          3.58     1295  \n",
      "8             5.20  1.08                          2.85     1045  \n",
      "9             7.22  1.01                          3.55     1045  \n"
     ]
    }
   ],
   "source": [
    "#print()\n",
    "print(df.head(10))"
   ]
  },
  {
   "cell_type": "markdown",
   "metadata": {},
   "source": [
    "<b>4.)</b> Create matrix `X` containing the features and target vector `y` containing the classes.\n",
    "\n",
    "Note that with DataFrames, you can access certain features using their column names/headers. This will be useful for us later."
   ]
  },
  {
   "cell_type": "code",
   "execution_count": 119,
   "metadata": {
    "collapsed": true
   },
   "outputs": [],
   "source": [
    "X = None\n",
    "y = None\n",
    "X = df.iloc[:, 1:]\n",
    "y = df.iloc[:, 0]"
   ]
  },
  {
   "cell_type": "markdown",
   "metadata": {},
   "source": [
    "## Standardization \n",
    "Some machine learning algorithms (e.g. SVM) behave badly when their individual features don't look like standard normally distributed data (i.e. Gaussian distribution with zero mean and unit variance). \n",
    "<center><img src=\"https://docs-assets.developer.apple.com/published/568138fb95/gaussian_labeled_2x_b95dbf3b-42f2-44b8-8034-88835c10b3e4.png\" alt=\"Drawing\" width=\"400\" /> </center>\n",
    "Data scaled using standardization has zero mean and unit variance:\n",
    "\n",
    "The function `scale` provides a quick and easy way to perform this operation on a single array-like dataset:\n",
    "```python \n",
    "X_standard = preprocessing.scale(X)\n",
    "```\n",
    "Another way to do this is to use `StandardScaler` as follows:\n",
    "```python\n",
    "scaler = preprocessing.StandardScaler().fit(X)\n",
    "X_standard = scaler.transform(X)\n",
    "```\n",
    "If you get an error, simple cast `X_standard` back into a DataFrame.\n",
    "```python\n",
    "X_standard = pd.DataFrame(X_standard, columns = X.columns)\n",
    "```\n",
    "This is because `StandardScaler` returns a numpy array. We want to preserve X's DataFrame data type."
   ]
  },
  {
   "cell_type": "markdown",
   "metadata": {},
   "source": [
    "<b>5.)</b> Scale X using standardization"
   ]
  },
  {
   "cell_type": "code",
   "execution_count": 120,
   "metadata": {
    "collapsed": false
   },
   "outputs": [],
   "source": [
    "X_standard = None\n",
    "scaler = preprocessing.StandardScaler().fit(X)\n",
    "X_standard = scaler.transform(X)\n",
    "X_standard = pd.DataFrame(X_standard, columns = X.columns)"
   ]
  },
  {
   "cell_type": "code",
   "execution_count": 121,
   "metadata": {
    "collapsed": false
   },
   "outputs": [
    {
     "name": "stdout",
     "output_type": "stream",
     "text": [
      "Standardization\n",
      "Alcoholmean = -0.00, std = 1.00\n",
      "Malic acidmean = -0.00, std = 1.00\n",
      "Ashmean = -0.00, std = 1.00\n",
      "Alcalinity of ashmean = -0.00, std = 1.00\n",
      "Magnesiummean = -0.00, std = 1.00\n",
      "Total phenolsmean = -0.00, std = 1.00\n",
      "Flavanoidsmean = -0.00, std = 1.00\n",
      "Nonflavanoid phenolsmean = 0.00, std = 1.00\n",
      "Proanthocyaninsmean = -0.00, std = 1.00\n",
      "Color intensitymean = -0.00, std = 1.00\n",
      "Huemean = 0.00, std = 1.00\n",
      "OD280/OD315 of diluted winesmean = 0.00, std = 1.00\n",
      "Prolinemean = -0.00, std = 1.00\n"
     ]
    }
   ],
   "source": [
    "print('Standardization')\n",
    "for feature in X_standard:\n",
    "    mean = X_standard[feature].mean() # get mean\n",
    "    variance = X_standard[feature].std() # get variance\n",
    "    print(feature + 'mean = {:.2f}, std = {:.2f}'.format(mean, variance))"
   ]
  },
  {
   "cell_type": "markdown",
   "metadata": {},
   "source": [
    "Each feature vector should have a mean = 0, variance = 1."
   ]
  },
  {
   "cell_type": "markdown",
   "metadata": {},
   "source": [
    "<b>6.)</b> Print the first 10 instances of `X_standard` (using `head()`, again) to see how our data has transformed"
   ]
  },
  {
   "cell_type": "code",
   "execution_count": 122,
   "metadata": {
    "collapsed": false
   },
   "outputs": [
    {
     "name": "stdout",
     "output_type": "stream",
     "text": [
      "()\n",
      "    Alcohol  Malic acid       Ash  Alcalinity of ash  Magnesium  \\\n",
      "0  1.518613   -0.562250  0.232053          -1.169593   1.913905   \n",
      "1  0.246290   -0.499413 -0.827996          -2.490847   0.018145   \n",
      "2  0.196879    0.021231  1.109334          -0.268738   0.088358   \n",
      "3  1.691550   -0.346811  0.487926          -0.809251   0.930918   \n",
      "4  0.295700    0.227694  1.840403           0.451946   1.281985   \n",
      "\n",
      "   Total phenols  Flavanoids  Nonflavanoid phenols  Proanthocyanins  \\\n",
      "0       0.808997    1.034819             -0.659563         1.224884   \n",
      "1       0.568648    0.733629             -0.820719        -0.544721   \n",
      "2       0.808997    1.215533             -0.498407         2.135968   \n",
      "3       2.491446    1.466525             -0.981875         1.032155   \n",
      "4       0.808997    0.663351              0.226796         0.401404   \n",
      "\n",
      "   Color intensity       Hue  OD280/OD315 of diluted wines   Proline  \n",
      "0         0.251717  0.362177                      1.847920  1.013009  \n",
      "1        -0.293321  0.406051                      1.113449  0.965242  \n",
      "2         0.269020  0.318304                      0.788587  1.395148  \n",
      "3         1.186068 -0.427544                      1.184071  2.334574  \n",
      "4        -0.319276  0.362177                      0.449601 -0.037874  \n"
     ]
    }
   ],
   "source": [
    "print()\n",
    "print(X_standard.head())"
   ]
  },
  {
   "cell_type": "markdown",
   "metadata": {},
   "source": [
    "## Scaling Features to a range\n",
    "For some classifiers, it's useful to scale the features down to a value within the range 0 to 1. \n",
    "\n",
    "In scikit-learn, we use `MinMaxScaler` to scale the matrix to a `[0,1]` range:\n",
    "```python \n",
    "scaler = preprocessing.MinMaxScaler()\n",
    "X_minmax = scaler.fit_transform(X)\n",
    "```\n",
    "\n",
    "Again, if you get an error, simply cast `X_minmax` back into a DataFrame.\n",
    "```python\n",
    "X_minmax = pd.DataFrame(X_minmax, columns = X.columns)\n",
    "```"
   ]
  },
  {
   "cell_type": "markdown",
   "metadata": {},
   "source": [
    "Scale X so that it is within the range 0 to 1."
   ]
  },
  {
   "cell_type": "code",
   "execution_count": 123,
   "metadata": {
    "collapsed": true
   },
   "outputs": [],
   "source": [
    "X_minmax = None\n",
    "scaler = preprocessing.MinMaxScaler()\n",
    "X_minmax = scaler.fit_transform(X)\n",
    "X_minmax = pd.DataFrame(X_minmax, columns = X.columns)"
   ]
  },
  {
   "cell_type": "code",
   "execution_count": 124,
   "metadata": {
    "collapsed": false
   },
   "outputs": [
    {
     "name": "stdout",
     "output_type": "stream",
     "text": [
      "\n",
      "\n",
      "Min-max Scaling\n",
      "Alcoholmin = 0.00, max = 1.00\n",
      "Malic acidmin = 0.00, max = 1.00\n",
      "Ashmin = 0.00, max = 1.00\n",
      "Alcalinity of ashmin = 0.00, max = 1.00\n",
      "Magnesiummin = 0.00, max = 1.00\n",
      "Total phenolsmin = 0.00, max = 1.00\n",
      "Flavanoidsmin = 0.00, max = 1.00\n",
      "Nonflavanoid phenolsmin = 0.00, max = 1.00\n",
      "Proanthocyaninsmin = 0.00, max = 1.00\n",
      "Color intensitymin = 0.00, max = 1.00\n",
      "Huemin = 0.00, max = 1.00\n",
      "OD280/OD315 of diluted winesmin = 0.00, max = 1.00\n",
      "Prolinemin = 0.00, max = 1.00\n"
     ]
    }
   ],
   "source": [
    "print('\\n\\nMin-max Scaling')\n",
    "for feature in X_minmax:\n",
    "    min_ = X_minmax[feature].min()\n",
    "    max_ = X_minmax[feature].max()\n",
    "    print(feature + 'min = {:.2f}, max = {:.2f}'.format(min_, max_))"
   ]
  },
  {
   "cell_type": "markdown",
   "metadata": {},
   "source": [
    "The lowest value (min) in each feature vector should be 0.\n",
    "\n",
    "The highest value (max) should be 1."
   ]
  },
  {
   "cell_type": "markdown",
   "metadata": {},
   "source": [
    "<b>7.)</b> Print the first 10 instances of X_minmax (using head(), again) to see how our data has transformed."
   ]
  },
  {
   "cell_type": "code",
   "execution_count": 125,
   "metadata": {
    "collapsed": false
   },
   "outputs": [
    {
     "name": "stdout",
     "output_type": "stream",
     "text": [
      "()\n",
      "    Alcohol  Malic acid       Ash  Alcalinity of ash  Magnesium  \\\n",
      "0  0.842105    0.191700  0.572193           0.257732   0.619565   \n",
      "1  0.571053    0.205534  0.417112           0.030928   0.326087   \n",
      "2  0.560526    0.320158  0.700535           0.412371   0.336957   \n",
      "3  0.878947    0.239130  0.609626           0.319588   0.467391   \n",
      "4  0.581579    0.365613  0.807487           0.536082   0.521739   \n",
      "\n",
      "   Total phenols  Flavanoids  Nonflavanoid phenols  Proanthocyanins  \\\n",
      "0       0.627586    0.573840              0.283019         0.593060   \n",
      "1       0.575862    0.510549              0.245283         0.274448   \n",
      "2       0.627586    0.611814              0.320755         0.757098   \n",
      "3       0.989655    0.664557              0.207547         0.558360   \n",
      "4       0.627586    0.495781              0.490566         0.444795   \n",
      "\n",
      "   Color intensity       Hue  OD280/OD315 of diluted wines   Proline  \n",
      "0         0.372014  0.455285                      0.970696  0.561341  \n",
      "1         0.264505  0.463415                      0.780220  0.550642  \n",
      "2         0.375427  0.447154                      0.695971  0.646933  \n",
      "3         0.556314  0.308943                      0.798535  0.857347  \n",
      "4         0.259386  0.455285                      0.608059  0.325963  \n"
     ]
    }
   ],
   "source": [
    "print()\n",
    "print(X_minmax.head())"
   ]
  },
  {
   "cell_type": "markdown",
   "metadata": {},
   "source": [
    "We'll now plot the data to see (visually) how the data has been transformed. Here, we use only the first two attributes: Alcohol and Malic acid"
   ]
  },
  {
   "cell_type": "code",
   "execution_count": 126,
   "metadata": {
    "collapsed": false
   },
   "outputs": [
    {
     "data": {
      "image/png": "[encoded data removed]",
      "text/plain": [
       "<matplotlib.figure.Figure at 0xb72a7f0>"
      ]
     },
     "metadata": {},
     "output_type": "display_data"
    }
   ],
   "source": [
    "def plot():\n",
    "    plt.figure(figsize=(10, 10))\n",
    "    feature1 = 'Alcohol' #alternatively, you can call headers[1] to avoid hard-coding\n",
    "    feature2 = 'Malic acid' #headers[2]\n",
    "\n",
    "    plt.scatter(X[feature1], X[feature2], color='green', label='Raw input scale', alpha=0.5)\n",
    "    plt.scatter(X_standard[feature1], X_standard[feature2], color='red', label='Standardized', alpha=0.5)\n",
    "    plt.scatter(X_minmax[feature1], X_minmax[feature2], color='blue', label='Scaled between 0 to 1', alpha=0.5)\n",
    "    plt.xlabel(feature1)\n",
    "    plt.ylabel(feature2)\n",
    "    plt.legend(loc='upper left')\n",
    "    plt.show()\n",
    "plot()"
   ]
  },
  {
   "cell_type": "markdown",
   "metadata": {},
   "source": [
    "Alright! It's time to compare the performances of the classifiers for the scaled and unscaled data."
   ]
  },
  {
   "cell_type": "code",
   "execution_count": 129,
   "metadata": {
    "collapsed": false
   },
   "outputs": [],
   "source": [
    "def classify(string, X):\n",
    "    print('\\n' + string)\n",
    "    \n",
    "    train_size = 0.8\n",
    "    seed = 7\n",
    "    X_train, X_test, y_train, y_test = train_test_split(X, y, train_size=train_size, random_state=seed)\n",
    "\n",
    "    classifiers = dict() \n",
    "    classifiers['Gaussian Naive Bayes'] = GaussianNB()\n",
    "    classifiers['Decision Tree Classifier'] = DecisionTreeClassifier(random_state=7)\n",
    "    classifiers['KNeighborsClassifier(n_neighbors=3)'] = KNeighborsClassifier(n_neighbors=3)\n",
    "\n",
    "    for clf_name, clf in classifiers.items():\n",
    "        clf.fit(X_train, y_train)\n",
    "        accuracy = clf.score(X_test, y_test)\n",
    "    print(clf_name, accuracy)\n",
    "\n",
    "    # As we've done before, let's apply our machine learning algorithms!\n",
    "\n",
    "    # 8. Split the dataset into training and testing data\n",
    "    #    Set the train size to 80%, and hold back 20% for testing \n",
    "    #    For random_state, set the seed to 7 (para uniform results natin lahat :D).\n",
    "\n",
    "    # 9. Train X using different classifiers.\n",
    "    #    I suggest trying \n",
    "    #      K-Nearest Neighbor (KNN)\n",
    "    #      DecisionTreeClassifier\n",
    "    #      etc.\n",
    "    \n",
    "    # 10. Calculate the accuracy for each classifier model, then print it. "
   ]
  },
  {
   "cell_type": "code",
   "execution_count": 128,
   "metadata": {
    "collapsed": false
   },
   "outputs": [
    {
     "name": "stdout",
     "output_type": "stream",
     "text": [
      "\n",
      "Not scaled\n",
      "('KNeighborsClassifier(n_neighbors=3)', 0.66666666666666663)\n",
      "\n",
      "Standardized\n",
      "('KNeighborsClassifier(n_neighbors=3)', 1.0)\n",
      "\n",
      "Scaled to range 0 -1\n",
      "('KNeighborsClassifier(n_neighbors=3)', 1.0)\n"
     ]
    },
    {
     "name": "stderr",
     "output_type": "stream",
     "text": [
      "C:\\ProgramData\\Anaconda2\\lib\\site-packages\\sklearn\\neural_network\\multilayer_perceptron.py:563: ConvergenceWarning: Stochastic Optimizer: Maximum iterations reached and the optimization hasn't converged yet.\n",
      "  % (), ConvergenceWarning)\n"
     ]
    }
   ],
   "source": [
    "classify('Not scaled', X)\n",
    "classify('Standardized', X_standard)\n",
    "classify('Scaled to range 0 -1', X_minmax)"
   ]
  },
  {
   "cell_type": "markdown",
   "metadata": {},
   "source": [
    "### Share your results! :D\n",
    "\n",
    "This tutorial is based on http://sebastianraschka.com/Articles/2014_about_feature_scaling.html. \n",
    "* This also shows you how to implement scaling manually (equations are given).\n",
    "* If you want a more detailed explanation, check it out!"
   ]
  }
 ],
 "metadata": {
  "kernelspec": {
   "display_name": "Python 2",
   "language": "python",
   "name": "python2"
  },
  "language_info": {
   "codemirror_mode": {
    "name": "ipython",
    "version": 2
   },
   "file_extension": ".py",
   "mimetype": "text/x-python",
   "name": "python",
   "nbconvert_exporter": "python",
   "pygments_lexer": "ipython2",
   "version": "2.7.13"
  }
 },
 "nbformat": 4,
 "nbformat_minor": 2
}
