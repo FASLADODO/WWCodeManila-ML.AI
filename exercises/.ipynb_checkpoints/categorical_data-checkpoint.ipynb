{
 "cells": [
  {
   "cell_type": "markdown",
   "metadata": {},
   "source": [
    "# Handling Categorical Values"
   ]
  },
  {
   "cell_type": "markdown",
   "metadata": {},
   "source": [
    "Adult Census Income Data Set: `datasets/adult.csv`\n",
    "\n",
    "Prediction task is to determine whether a person makes over 50K a year. \n",
    "See for more information: https://www.kaggle.com/uciml/adult-census-income\n",
    "\n",
    "(<b>Note</b>: the attribute `fnlwgt` pertains to  a weight attribute which is a demographic score assigned to an individual based on information such as state of residence and type of employment. People with similar demographic characteristics\n",
    "should have similar weights. [Source](https://cseweb.ucsd.edu/classes/wi17/cse258-a/reports/a120.pdf))"
   ]
  },
  {
   "cell_type": "markdown",
   "metadata": {},
   "source": [
    "1.) Import relevant libraries (don't forget the scikit preprocessing library)"
   ]
  },
  {
   "cell_type": "code",
   "execution_count": null,
   "metadata": {
    "collapsed": true
   },
   "outputs": [],
   "source": []
  },
  {
   "cell_type": "markdown",
   "metadata": {},
   "source": [
    "2.) Load `adult.csv` dataset located in the folder `datasets`"
   ]
  },
  {
   "cell_type": "code",
   "execution_count": 3,
   "metadata": {
    "collapsed": false
   },
   "outputs": [],
   "source": [
    "filename = None\n",
    "df = None"
   ]
  },
  {
   "cell_type": "markdown",
   "metadata": {},
   "source": [
    "3.) Explore and analyze you data. \n",
    "\n",
    "Helpful resources:\n",
    "- [Understand your Data with Descriptive Statistics](http://machinelearningmastery.com/understand-machine-learning-data-descriptive-statistics-python/)\n",
    "- [Visualize Machine Learning Data in Python With Pandas](http://machinelearningmastery.com/visualize-machine-learning-data-python-pandas/)\n",
    "- [Visualize Categorical Data ](http://adataanalyst.com/data-analysis-resources/visualise-categorical-variables-in-python/)\n",
    "\n",
    "<b>Tip</b>: To describe categorical features, use:\n",
    "```python\n",
    "df.describe(include = ['O'])\n",
    "```\n",
    "The `include=['O']` indicates including objects or strings.\n",
    "\n",
    "To see describe both numerical and categorical features, you can opt to use:\n",
    "```python\n",
    "df.describe(include = 'all')\n",
    "```\n",
    "The `include = \"all\"` arguments allows you to see the summary of both numerical and object (string) features."
   ]
  },
  {
   "cell_type": "code",
   "execution_count": null,
   "metadata": {
    "collapsed": false,
    "scrolled": true
   },
   "outputs": [],
   "source": []
  },
  {
   "cell_type": "markdown",
   "metadata": {},
   "source": [
    "4.) Extract features and labels."
   ]
  },
  {
   "cell_type": "code",
   "execution_count": 4,
   "metadata": {
    "collapsed": false
   },
   "outputs": [],
   "source": [
    "X = None\n",
    "y = None"
   ]
  },
  {
   "cell_type": "markdown",
   "metadata": {},
   "source": [
    "5.) Using the [categorical data tutorial](https://github.com/wwcodemanila/WWCodeManila-ML.AI/blob/master/tutorials/categorical_data.md) and other [additional resources](https://github.com/wwcodemanila/WWCodeManila-ML.AI/blob/master/tutorials/session_resources.md#categorical-values), find ways to appropriately handle the categorical data in the data set. Also, take note of redundant features and missing values, and make sure you take care of those too. There are a lot of different ways to accomplish this task, so this is a good time to put your critical thinking skills to work. :D\n",
    "\n",
    "<b>Tip</b>: Some models perform worse with a large number of features. Observe the data (see Step 3) and decide how to encode certain features without the feature space blowing up. You may also opt to reduce the number of levels (unique values) per feature. [See this for more info.](https://www.analyticsvidhya.com/blog/2015/11/easy-methods-deal-categorical-variables-predictive-modeling/)\n",
    "\n",
    "Good luck! (ง •̀ω•́)ง✧"
   ]
  },
  {
   "cell_type": "code",
   "execution_count": null,
   "metadata": {
    "collapsed": true
   },
   "outputs": [],
   "source": []
  },
  {
   "cell_type": "markdown",
   "metadata": {},
   "source": [
    "6.) Once you're done pre-processing the data, it's time to apply our machine learning algorithms!\n",
    "- As usual, split the dataset. For uniformity, use an 80/20 split and set the random state (seed) to 7.\n",
    "- Apply your favorite machine learning algorithms and evaluate the accuracy. Which algorithm gives you the highest accuracy?"
   ]
  },
  {
   "cell_type": "code",
   "execution_count": null,
   "metadata": {
    "collapsed": true
   },
   "outputs": [],
   "source": []
  },
  {
   "cell_type": "markdown",
   "metadata": {},
   "source": [
    "7.) Does scaling the data improve or worsen the performance of the models? Try it to find out!"
   ]
  },
  {
   "cell_type": "code",
   "execution_count": null,
   "metadata": {
    "collapsed": true
   },
   "outputs": [],
   "source": []
  },
  {
   "cell_type": "markdown",
   "metadata": {},
   "source": [
    "### Share your work! :D \n",
    "Upload this to our github repo and share your knowledge."
   ]
  }
 ],
 "metadata": {
  "kernelspec": {
   "display_name": "Python 2",
   "language": "python",
   "name": "python2"
  },
  "language_info": {
   "codemirror_mode": {
    "name": "ipython",
    "version": 2
   },
   "file_extension": ".py",
   "mimetype": "text/x-python",
   "name": "python",
   "nbconvert_exporter": "python",
   "pygments_lexer": "ipython2",
   "version": "2.7.13"
  }
 },
 "nbformat": 4,
 "nbformat_minor": 2
}
