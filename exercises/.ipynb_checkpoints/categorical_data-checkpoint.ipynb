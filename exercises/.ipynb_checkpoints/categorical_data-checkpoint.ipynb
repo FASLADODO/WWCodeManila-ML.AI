{
 "cells": [
  {
   "cell_type": "markdown",
   "metadata": {},
   "source": [
    "# Handling Categorical Values"
   ]
  },
  {
   "cell_type": "markdown",
   "metadata": {},
   "source": [
    "Adult Census Income Data Set: `datasets/adult.csv`\n",
    "\n",
    "Prediction task is to determine whether a person makes over 50K a year. \n",
    "See for more information: # https://www.kaggle.com/uciml/adult-census-income\n",
    "\n",
    "(<b>Note</b>: the attribute `fnlwgt` pertains to  a weight attribute which is a demographic score assigned to an individual based on information such as state of residence and type of employment. People with similar demographic characteristics\n",
    "should have similar weights.)\n",
    "\n",
    "Source: https://cseweb.ucsd.edu/classes/wi17/cse258-a/reports/a120.pdf"
   ]
  },
  {
   "cell_type": "markdown",
   "metadata": {},
   "source": [
    "1.) Import relevant libraries (don't forget the scikit preprocessing library)"
   ]
  },
  {
   "cell_type": "code",
   "execution_count": 31,
   "metadata": {
    "collapsed": true
   },
   "outputs": [],
   "source": [
    "import pandas as pd\n",
    "import numpy as np\n",
    "import matplotlib.pyplot as plt\n",
    "from sklearn.model_selection import train_test_split\n",
    "from sklearn.neural_network import MLPClassifier\n",
    "from sklearn.tree import DecisionTreeClassifier\n",
    "from sklearn.naive_bayes import GaussianNB\n",
    "from sklearn.svm import SVC\n",
    "from sklearn.metrics import classification_report\n",
    "from sklearn import preprocessing"
   ]
  },
  {
   "cell_type": "markdown",
   "metadata": {},
   "source": [
    "2.) Load `adult.csv` dataset located in the folder `datasets`"
   ]
  },
  {
   "cell_type": "code",
   "execution_count": 32,
   "metadata": {
    "collapsed": false
   },
   "outputs": [],
   "source": [
    "filename = '../datasets/adult.csv'\n",
    "df = pd.read_csv(filename, header=0)"
   ]
  },
  {
   "cell_type": "markdown",
   "metadata": {},
   "source": [
    "3.) Inspect your data. Notice that some values are `?`. These indicate missing values. "
   ]
  },
  {
   "cell_type": "code",
   "execution_count": null,
   "metadata": {
    "collapsed": false
   },
   "outputs": [],
   "source": []
  },
  {
   "cell_type": "markdown",
   "metadata": {},
   "source": [
    "4.) Extract features and labels."
   ]
  },
  {
   "cell_type": "code",
   "execution_count": 34,
   "metadata": {
    "collapsed": false
   },
   "outputs": [],
   "source": [
    "X = df.iloc[0:10000, :-1]\n",
    "y = df.iloc[0:10000, -1]"
   ]
  },
  {
   "cell_type": "code",
   "execution_count": null,
   "metadata": {
    "collapsed": false
   },
   "outputs": [],
   "source": []
  },
  {
   "cell_type": "code",
   "execution_count": 35,
   "metadata": {
    "collapsed": true
   },
   "outputs": [],
   "source": [
    "X = X.drop('education', 1)"
   ]
  },
  {
   "cell_type": "code",
   "execution_count": 36,
   "metadata": {
    "collapsed": true
   },
   "outputs": [],
   "source": [
    "X['sex'] = X['sex'].astype(\"category\")\n",
    "X['sex'].cat.categories = [0,1]"
   ]
  },
  {
   "cell_type": "code",
   "execution_count": 37,
   "metadata": {
    "collapsed": false,
    "scrolled": true
   },
   "outputs": [
    {
     "name": "stdout",
     "output_type": "stream",
     "text": [
      "['age' 'fnlwgt' 'education.num' 'sex' 'capital.gain' 'capital.loss'\n",
      " 'hours.per.week' 'native.country' 'rel_num' 'workclass_?'\n",
      " 'workclass_Federal-gov' 'workclass_Local-gov' 'workclass_Never-worked'\n",
      " 'workclass_Private' 'workclass_Self-emp-inc' 'workclass_Self-emp-not-inc'\n",
      " 'workclass_State-gov' 'workclass_Without-pay' 'marital.status_Divorced'\n",
      " 'marital.status_Married-AF-spouse' 'marital.status_Married-civ-spouse'\n",
      " 'marital.status_Married-spouse-absent' 'marital.status_Never-married'\n",
      " 'marital.status_Separated' 'marital.status_Widowed' 'occupation_?'\n",
      " 'occupation_Adm-clerical' 'occupation_Armed-Forces'\n",
      " 'occupation_Craft-repair' 'occupation_Exec-managerial'\n",
      " 'occupation_Farming-fishing' 'occupation_Handlers-cleaners'\n",
      " 'occupation_Machine-op-inspct' 'occupation_Other-service'\n",
      " 'occupation_Priv-house-serv' 'occupation_Prof-specialty'\n",
      " 'occupation_Protective-serv' 'occupation_Sales' 'occupation_Tech-support'\n",
      " 'occupation_Transport-moving' 'race_Amer-Indian-Eskimo'\n",
      " 'race_Asian-Pac-Islander' 'race_Black' 'race_Other' 'race_White']\n"
     ]
    }
   ],
   "source": [
    "X['rel_num'] = X['relationship'].map({'Not-in-family':0, 'Unmarried':0, 'Own-child':0, 'Other-relative':0, 'Husband':1, 'Wife':1})\n",
    "del X['relationship']\n",
    "\n",
    "# Get dummy features\n",
    "nominals = ['workclass', 'marital.status', 'occupation',  'race']\n",
    "X = pd.get_dummies(X, prefix=nominals, columns=nominals)\n",
    "\n",
    "# Manually set it\n",
    "X['native.country'] = np.where(X['native.country'] == 'United-States', 1, 0)\n",
    "\n",
    "print(X.columns.values)"
   ]
  },
  {
   "cell_type": "code",
   "execution_count": null,
   "metadata": {
    "collapsed": true
   },
   "outputs": [],
   "source": []
  }
 ],
 "metadata": {
  "kernelspec": {
   "display_name": "Python 2",
   "language": "python",
   "name": "python2"
  },
  "language_info": {
   "codemirror_mode": {
    "name": "ipython",
    "version": 2
   },
   "file_extension": ".py",
   "mimetype": "text/x-python",
   "name": "python",
   "nbconvert_exporter": "python",
   "pygments_lexer": "ipython2",
   "version": "2.7.13"
  }
 },
 "nbformat": 4,
 "nbformat_minor": 2
}
