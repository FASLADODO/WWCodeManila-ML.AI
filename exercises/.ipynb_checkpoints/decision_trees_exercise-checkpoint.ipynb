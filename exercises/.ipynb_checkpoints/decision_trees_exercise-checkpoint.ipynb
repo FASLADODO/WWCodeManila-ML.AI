{
 "cells": [
  {
   "cell_type": "markdown",
   "metadata": {},
   "source": [
    "# Decision Trees Exercise\n",
    "\n",
    "Your task is to build a decision tree for Dataset1 and Dataset2, answer the given questions, and upload your solutions. \n",
    "\n",
    "<b>Exercise Options: </b>\n",
    "1. Solve by hand / calculator (this might take a lot of time!)\n",
    "2. Use python to write function(s) that compute the entropy and information gain.\n",
    "    - Make sure to handle log2 0.\n",
    "3. (Advanced) Write a program that builds a decision tree!\n",
    "    - Requires some knowledge on recursion, abstract data types\n",
    "\n",
    "\n",
    "<b>Submission</b>\n",
    "1. Draw your decision tree using any graphics app (e.g. MS Paint) or by taking photo (if drawn on paper).   \n",
    "   Include your solution and/or Python code. \n",
    "2. Save your files as [Your Name] - DecisionTree\n",
    "3. Upload the files to the following Dropbox:https://tinyurl.com/yarmxkbl\n",
    "\n",
    "<b>Enjoy!</b>"
   ]
  },
  {
   "cell_type": "markdown",
   "metadata": {},
   "source": [
    "## Dataset 1\n",
    "Dataset 1 shows whether or not a file is infected with a computer virus based on its size, writability, and whether or not it has been updated recently.\n",
    "\n",
    "|   \t| Writable \t| Updated \t| Size  \t| Class    \t|\n",
    "|---\t|----------\t|---------\t|-------\t|----------\t|\n",
    "| 1 \t| yes      \t| no      \t| small \t| infected \t|\n",
    "| 2 \t| yes      \t| yes     \t| large \t| infected \t|\n",
    "| 3 \t| no       \t| yes     \t| med   \t| infected \t|\n",
    "| 4 \t| no       \t| no      \t| med   \t| clean    \t|\n",
    "| 5 \t| yes      \t| no      \t| large \t| clean    \t|\n",
    "| 6 \t| no       \t| no      \t| large \t| clean    \t|\n",
    "\n",
    "Would a writable, medium-sized file that has not been updated recently be flagged as infected or not?"
   ]
  },
  {
   "cell_type": "markdown",
   "metadata": {},
   "source": [
    "## Dataset 2\n",
    "Dataset 2 shows the type of vegetation that is likely to grow in areas of land based on the following descriptive features:\n",
    "- Stream - describes whether or not a stream is near the area\n",
    "- Slope - determines whether the slope of the terrain is steep, moderate, or flat\n",
    "- Elevation - determines whether the elevation of the terrain is highest, high, medium, or low\n",
    "\n",
    "|   \t| Stream \t| Slope    \t| Elevation \t| Vegetation \t|\n",
    "|---\t|--------\t|----------\t|-----------\t|------------\t|\n",
    "| 1 \t| False  \t| Steep    \t| High      \t| Chapparal  \t|\n",
    "| 2 \t| True   \t| Moderate \t| Low       \t| Riparian   \t|\n",
    "| 3 \t| True   \t| Steep    \t| Medium    \t| Riparian   \t|\n",
    "| 4 \t| False  \t| Steep    \t| Medium    \t| Chapparal  \t|\n",
    "| 5 \t| False  \t| Flat     \t| High      \t| Conifer    \t|\n",
    "| 6 \t| True   \t| Steep    \t| Highest   \t| Conifer    \t|\n",
    "| 7 \t| True   \t| Steep    \t| High      \t| Chapparal  \t|\n",
    "\n",
    "1. What type of vegetation would likely grow on terrain with a steep slope and medium elevation and is near a stream?\n",
    "2. How about on terrain near a stream with high elevation, moderate slope?"
   ]
  }
 ],
 "metadata": {
  "kernelspec": {
   "display_name": "Python 3",
   "language": "python",
   "name": "python3"
  },
  "language_info": {
   "codemirror_mode": {
    "name": "ipython",
    "version": 3
   },
   "file_extension": ".py",
   "mimetype": "text/x-python",
   "name": "python",
   "nbconvert_exporter": "python",
   "pygments_lexer": "ipython3",
   "version": "3.6.0"
  }
 },
 "nbformat": 4,
 "nbformat_minor": 2
}
