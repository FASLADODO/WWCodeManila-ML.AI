{
 "cells": [
  {
   "cell_type": "markdown",
   "metadata": {},
   "source": [
    "## Learning Pandas with Pokemon \n",
    "\n",
    "### What is pandas?\n",
    "In computer programming, pandas is a software library written for the Python programming language for data manipulation and analysis. In particular, it offers data structures and operations for manipulating numerical tables and time series. It is free software released under the three-clause BSD license. The name is derived from the term \"<b>pan</b>el <b>da</b>ta\", an econometrics term for multidimensional, structured data sets. (Source: wikipedia)"
   ]
  },
  {
   "cell_type": "markdown",
   "metadata": {},
   "source": [
    "### Today, we'll be exploring the Pokemon Dataset! \n",
    "![alt text](images/pokemon.jpg)"
   ]
  },
  {
   "cell_type": "markdown",
   "metadata": {},
   "source": [
    "#### About the Dataset: \n",
    "---\n",
    "This data set includes 721 Pokemon, including their number, name, first and second type, and basic stats: HP, Attack, Defense, Special Attack, Special Defense, and Speed. These are the raw attributes that are used for calculating how much damage an attack will do in the games. This dataset is about the pokemon games (NOT pokemon cards or Pokemon Go). \n",
    "\n",
    "- <b>#</b>: ID for each pokemon\n",
    "- <b>Name</b>: Name of each pokemon\n",
    "- <b>Type 1</b>: Primary type; each pokemon has a type, this determines weakness/resistance to attacks\n",
    "- <b>Type 2</b>: Secondary type; some pokemon are dual type and have 2\n",
    "- <b>Total</b>: sum of all stats that come after this, a general guide to how strong a pokemon is\n",
    "- <b>HP</b>: hit points, or health, defines how much damage a pokemon can withstand before fainting\n",
    "- <b>Attack</b>: the base modifier for normal attacks (eg. Scratch, Punch)\n",
    "- <b>Defense</b>: the base damage resistance against normal attacks\n",
    "- <b>SP Atk</b>: special attack, the base modifier for special attacks (e.g. fire blast, bubble beam)\n",
    "- <b>SP Def</b>: the base damage resistance against special attacks\n",
    "- <b>Speed</b>: determines which pokemon attacks first each round\n",
    "\n",
    "The data for this table has been acquired from several different sites, including: pokemon.com, pokemondb, and bulbapeida.\n",
    "    \n",
    "<b>Source</b>: https://www.kaggle.com/abcsds/pokemon"
   ]
  },
  {
   "cell_type": "markdown",
   "metadata": {},
   "source": [
    "#### Exercise 0: Getting Started\n",
    "---\n",
    "1. Download: [Pokemon dataset](https://github.com/wwcodemanila/WWCodeManila-ML.AI/blob/master/datasets/pokemon.csv)\n",
    "2. Import the necessary libraries (`pandas`, `numpy`, `matplotlib.pyplot`)\n",
    "3. Load the dataset "
   ]
  },
  {
   "cell_type": "code",
   "execution_count": 4,
   "metadata": {
    "collapsed": false
   },
   "outputs": [],
   "source": [
    "# Write your code here"
   ]
  },
  {
   "cell_type": "markdown",
   "metadata": {},
   "source": [
    "#### Exercise 1: Warmup\n",
    "---\n",
    "<b>Hint</b>: Most commands for this section can be found in our [first machine learning project](https://github.com/wwcodemanila/WWCodeManila-ML.AI/blob/master/tutorials/Intro-to-Machine-Learning.ipynb).\n",
    "\n",
    "1. How many pokemon are there in the dataset?\n",
    "2. How many columns are in the dataset?\n",
    "3. What are the columns in the dataset? \n",
    "4. What are the datatypes of each column?\n",
    "5. What are the first 5 pokemon in the dataset?\n",
    "6. What are the last 5 pokemon in the dataset?\n",
    "7. Print a summary of the data (count, mean, min, max, etc.)"
   ]
  },
  {
   "cell_type": "code",
   "execution_count": 5,
   "metadata": {
    "collapsed": true
   },
   "outputs": [],
   "source": [
    "# Write your code here "
   ]
  },
  {
   "cell_type": "markdown",
   "metadata": {},
   "source": [
    "#### Exercise 2: Cleaning the Data\n",
    "---\n",
    "1. Right now, the dataset is indexed by numbers 0 - 800. You can confirm this by printing `df.index`. Suppose we want to index the pokemon by 'Name' instead of by number. Set the index to become the 'Name' column. [[Hint](https://pandas.pydata.org/pandas-docs/stable/generated/pandas.DataFrame.set_index.html)]\n",
    "2. Drop the '#' column and inspect your dataset for changes. [[Hint1](https://pandas.pydata.org/pandas-docs/stable/generated/pandas.DataFrame.drop.html)] [[Hint2](https://stackoverflow.com/questions/22149584/what-does-axis-in-pandas-mean)]\n",
    "3. - Option 1: Remove all spaces in the column names (e.g. 'Type 1' becomes 'Type1'); \n",
    "   - Option 2: Replace all spaces in the column names with underscores (e.g. 'Type 1' becomes 'Type_1'). [[Hint](https://stackoverflow.com/questions/30763351/removing-space-in-dataframe-python)]\n",
    "4. Time to clean up null entries. You can check if a column contains null values using `df.isnull().any()`. Your job is to find columns with null values and replace NaN with the string 'None'. [[Hint](https://pandas.pydata.org/pandas-docs/stable/generated/pandas.DataFrame.fillna.html)]"
   ]
  },
  {
   "cell_type": "code",
   "execution_count": 6,
   "metadata": {
    "collapsed": true
   },
   "outputs": [],
   "source": [
    "# Write your code here"
   ]
  },
  {
   "cell_type": "markdown",
   "metadata": {},
   "source": [
    "#### Exercise 3: Basic Selection - by Index and Position \n",
    "---\n",
    "1. Retrieve the row data of the first pokemon in the dataset by <b>integer-location</b> based indexing. [[Hint](https://pandas.pydata.org/pandas-docs/stable/generated/pandas.DataFrame.iloc.html)]\n",
    "2. Retrieve the row data of <b>Bulbasaur</b> in the dataset by <b>label-location</b> based indexing. [[Hint](https://pandas.pydata.org/pandas-docs/stable/generated/pandas.DataFrame.loc.html)] \n",
    "3. Retrieve the row data of the <b>20th</b> pokemon in the dataset by <b>integer-location</b> based indexing. [[Hint](https://pandas.pydata.org/pandas-docs/stable/generated/pandas.DataFrame.iloc.html)]\n",
    "4. Retrieve the row data of <b>Ninetales</b> in the dataset by <b>label-location</b> based indexing. [[Hint](https://pandas.pydata.org/pandas-docs/stable/generated/pandas.DataFrame.loc.html)] \n",
    "5. Retrieve the row data of your favorite Pokemon.  "
   ]
  },
  {
   "cell_type": "code",
   "execution_count": 7,
   "metadata": {
    "collapsed": true
   },
   "outputs": [],
   "source": [
    "# Write your code here"
   ]
  },
  {
   "cell_type": "markdown",
   "metadata": {},
   "source": [
    "#### Exercise 4: Selection, Counting, and Basic Plotting\n",
    "---\n",
    "<b>Hint</b>: For the following items, refer to [this tutorial](http://nbviewer.jupyter.org/github/jvns/pandas-cookbook/blob/v0.1/cookbook/Chapter%202%20-%20Selecting%20data%20&%20finding%20the%20most%20common%20complaint%20type.ipynb).\n",
    "\n",
    "1. Select just the 'Total' column of the first 5 Pokemon. [[Hint](http://nbviewer.jupyter.org/github/jvns/pandas-cookbook/blob/v0.1/cookbook/Chapter%202%20-%20Selecting%20data%20&%20finding%20the%20most%20common%20complaint%20type.ipynb#2.2-Selecting-columns-and-rows)]\n",
    "2. Select just the Total and HP columns of the first 5 Pokemon. [[Hint](http://nbviewer.jupyter.org/github/jvns/pandas-cookbook/blob/v0.1/cookbook/Chapter%202%20-%20Selecting%20data%20&%20finding%20the%20most%20common%20complaint%20type.ipynb#2.3-Selecting-multiple-columns)]\n",
    "3. How many Pokemon are Legendary types? How many are not? [[Hint](http://nbviewer.jupyter.org/github/jvns/pandas-cookbook/blob/v0.1/cookbook/Chapter%202%20-%20Selecting%20data%20&%20finding%20the%20most%20common%20complaint%20type.ipynb#2.4-What's-the-most-common-complaint-type?)]\n",
    "4. How many Pokemon belong to each Generation? \n",
    "5. How many Pokemon belong to each Primary type?\n",
    "6. How many Pokemon belong to each Secondary type?\n",
    "7. How many Pokemon belong to each Type in general (combine Primary and Secondary types)? [[Hint1](https://pandas.pydata.org/pandas-docs/stable/generated/pandas.Series.add.html)] [[Hint2](https://stackoverflow.com/questions/20235401/remove-nan-from-pandas-series)]\n",
    "8. What's the most common Type of Pokemon?\n",
    "9. Plot the bar graphs for items 3, 4, and 6. \n",
    "    - Label the axes properly [[Hint](https://stackoverflow.com/questions/42223587/plt-scatter-how-to-add-title-and-xlabel-and-ylabel)]\n",
    "    - Make sure to call `plt.show()` if you're using jupyter notebook.\n",
    "    - Bonus points if you can order the elements in the bar plot in descending order (i.e. highest first) [[Hint1](https://pandas.pydata.org/pandas-docs/stable/generated/pandas.Series.sort_values.html)] [[Hint2](https://stackoverflow.com/questions/22149584/what-does-axis-in-pandas-mean)]"
   ]
  },
  {
   "cell_type": "code",
   "execution_count": 8,
   "metadata": {
    "collapsed": true
   },
   "outputs": [],
   "source": [
    "# Write your code here"
   ]
  },
  {
   "cell_type": "markdown",
   "metadata": {},
   "source": [
    "#### Exercise 5: Selection by Type using Boolean Expressions\n",
    "---\n",
    "Note: For the following items, refer to [this tutorial](http://nbviewer.jupyter.org/github/jvns/pandas-cookbook/blob/v0.1/cookbook/Chapter%203%20-%20Which%20borough%20has%20the%20most%20noise%20complaints%3F%20%28or%2C%20more%20selecting%20data%29.ipynb).\n",
    "1. Retrieve the first 3 Pokemon in the dataset whose Primary type is 'Psychic'. \n",
    "2. Retrieve the first 3 Fire Type Pokemon (i.e. either Primary type is Fire or Secondary type is Fire)\n",
    "3. Retrieve the row data of Vulpix and Ninetales in a single table. [Hint: use df.index]\n",
    "4. How many Pokemon are there that are both Bug type and Flying type? \n",
    "5. How many Pokemon are either Dragon type or Flying type?\n",
    "6. How many Pokemon are Water Type and have an attack greater than 100? \n",
    "7. - What are your favorite Pokemon Types? \n",
    "   - Choose one (or two) types, and retrieve all Pokemon that fit that criteria. \n",
    "   - e.g. \"I like Pokemon that are both Psychic and Flying\"."
   ]
  },
  {
   "cell_type": "code",
   "execution_count": 9,
   "metadata": {
    "collapsed": true
   },
   "outputs": [],
   "source": [
    "# Write your code here"
   ]
  },
  {
   "cell_type": "markdown",
   "metadata": {},
   "source": [
    "#### Exercise 6: Selection by Characteristic\n",
    "---\n",
    "Retrieve the name and statistics of the Pokemon as requested below.\n",
    "\n",
    "Bonus Challenge: If there are more than one Pokemon for each category, (e.g. there may be multiple Pokemon sharing the same highest Total value), print all of them.\n",
    "\n",
    "1. Strongest Pokemon (i.e. has the highest 'Total' value) \n",
    "2. Choose 3 to answer among the following: \n",
    "    - Pokemon with the highest HP\n",
    "    - Pokemon with the highest Attack\n",
    "    - Pokemon with the highest Defense\n",
    "    - Pokemon with the highest Special Attack\n",
    "    - Pokemon with the highest Special Defense\n",
    "    - Pokemon with the highest Speed \n",
    "3. For items 1 and 2, get their lowest counterparts.\n",
    "4. Print the top 10 strongest Pokemon in descending order. \n",
    "5. Print the top 10 weakest Pokemon in ascending order.\n",
    "6. Print the top 10 strongest non-legendary Pokemon whose name does not contain 'Mega' in descending order. [[Hint](https://stackoverflow.com/questions/17097643/search-for-does-not-contain-on-a-dataframe-in-pandas)]\n",
    "\n",
    "<b>Bonus:</b> Have questions of your own? (e.g. Which is the strongest Psychic Pokemon?) Answer them here!"
   ]
  },
  {
   "cell_type": "code",
   "execution_count": 10,
   "metadata": {
    "collapsed": true
   },
   "outputs": [],
   "source": [
    "# Write your code here"
   ]
  },
  {
   "cell_type": "markdown",
   "metadata": {},
   "source": [
    "#### Exercise 7: Final Challenge\n",
    "---\n",
    "Suppose Professor Oak allows you to choose 5 Pokemon from his entire collection to be in your starter team. However, he has the following restrictions:\n",
    "- Your first pokemon must be one of the 1st generation starter pokemon: <b>Bulbasaur, Squirtle, Charmander, Pikachu, Eevee</b>\n",
    "- You cannot choose a legendary Pokemon or a Pokemon whose name contains the word \"Mega\" to be in your team. [[Hint](https://stackoverflow.com/questions/17097643/search-for-does-not-contain-on-a-dataframe-in-pandas)]\n",
    "- No two Pokemon can have the same Primary type.\n",
    "- You can only have at most 2 Pokemon from the same generation.\n",
    "- If you chose Eevee, who will you evolve it to? You can check out [Eevee's evolve forms here](https://www.bustle.com/articles/174759-what-are-the-different-eevee-evolutions-vaporeon-flareon-and-jolteon-arent-the-only-ones). \n",
    "\n",
    "#### Your Task:\n",
    "1. Mine the dataset for additional information.\n",
    "2. Using what you've discovered, which 5 Pokemon will you choose and why? "
   ]
  },
  {
   "cell_type": "code",
   "execution_count": 11,
   "metadata": {
    "collapsed": true
   },
   "outputs": [],
   "source": [
    "# Write your code here"
   ]
  },
  {
   "cell_type": "markdown",
   "metadata": {},
   "source": [
    "### Congrats on finishing the exercise!"
   ]
  }
 ],
 "metadata": {
  "kernelspec": {
   "display_name": "Python 3",
   "language": "python",
   "name": "python3"
  },
  "language_info": {
   "codemirror_mode": {
    "name": "ipython",
    "version": 3
   },
   "file_extension": ".py",
   "mimetype": "text/x-python",
   "name": "python",
   "nbconvert_exporter": "python",
   "pygments_lexer": "ipython3",
   "version": "3.6.0"
  }
 },
 "nbformat": 4,
 "nbformat_minor": 2
}
