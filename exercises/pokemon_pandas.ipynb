{
 "cells": [
  {
   "cell_type": "markdown",
   "metadata": {},
   "source": [
    "## Basic Pandas \n",
    "pandas is a Python package providing fast, flexible, and expressive data structures designed to make working with “relational” or “labeled” data both easy and intuitive. It aims to be the fundamental high-level building block for doing practical, real world data analysis in Python. Additionally, it has the broader goal of becoming the most powerful and flexible open source data analysis / manipulation tool available in any language. It is already well on its way toward this goal. (Source: http://pandas.pydata.org/pandas-docs/stable/)\n",
    "\n",
    "If you're not a Pokemon fan, you can check out the Pokedex: http://www.ign.com/pokedex\n",
    "\n",
    "Before we begin:\n",
    "1. Download: [Pokemon dataset](https://github.com/wwcodemanila/WWCodeManila-ML.AI/blob/master/datasets/mnist.csv)\n",
    "2. Import the necessary libraries (`pandas`, `numpy`)\n",
    "3. Load the dataset using panda's `read_csv` function\n",
    "\n",
    "#### Warmup\n",
    "Note: Most commands for this section can be found in our [first machine learning project](https://github.com/wwcodemanila/WWCodeManila-ML.AI/blob/master/tutorials/Intro-to-Machine-Learning.ipynb).\n",
    "\n",
    "1. How many pokemon are there in the dataset?\n",
    "2. What are the columns in the dataset? \n",
    "3. What are the datatypes of each column?\n",
    "4. What are the first 5 pokemon in the dataset?\n",
    "5. What are the last 5 pokemon in the dataset?\n",
    "6. How many Pokemon are Legendary types? How many are not?\n",
    "7. How many Pokemon belong to each Generation?\n",
    "8. How Pokemon belong to each Type (e.g. Bug, Dark, Dragon, etc.) in Type 1? in Type 2?\n",
    "9. How many Pokemon belong to each Type (in general)? Which Type has the most number of Pokemon? [Hint](https://pandas.pydata.org/pandas-docs/stable/generated/pandas.Series.add.html)\n",
    "10. Print a summary of the data (count, mean, min, max, etc.)\n",
    "\n",
    "#### Cleaning the Data\n",
    "7. Right now, the dataset is indexed by numbers 0 - 800. You can confirm this by printing `df.index`. Suppose we want to index the pokemon by 'Name' instead of by number. Set the index to become the 'Name' column. [Hint](https://pandas.pydata.org/pandas-docs/stable/generated/pandas.DataFrame.set_index.html)\n",
    "9. - Option 1: Remove all spaces in the column names (e.g. 'Type 1' becomes 'Type1'); \n",
    "   - Option 2: Replace all spaces in the column names with underscores (e.g. 'Type 1' becomes 'Type_1'). [Hint](https://stackoverflow.com/questions/30763351/removing-space-in-dataframe-python)\n",
    "8. Drop the '#' column and inspect your dataset for changes. [Hint1](https://pandas.pydata.org/pandas-docs/stable/generated/pandas.DataFrame.drop.html) [Hint2](https://stackoverflow.com/questions/22149584/what-does-axis-in-pandas-mean)\n",
    "\n",
    "#### Selection\n",
    "9. Retrieve the row data of the first pokemon in the dataset (Bulbasaur) by <b>integer-location</b> based indexing. [Hint](https://pandas.pydata.org/pandas-docs/stable/generated/pandas.DataFrame.iloc.html)\n",
    "10. Retrieve the row data of the first pokemon in the dataset (Bulbasaur) by <b>label-location</b> based indexing. [Hint](https://pandas.pydata.org/pandas-docs/stable/generated/pandas.DataFrame.loc.html) \n",
    "11. Retrieve the row data of your favorite Pokemon. \n",
    "\n",
    "<b>Note</b>: Congrats on making it this far! No more hints from this point forth, good luck! \n",
    "#### Selection by Type\n",
    "1. Retrieve the first 5 Pokemon whose 'Type 1' is 'Flying'. \n",
    "2. Retrieve the first 5 Flying Type Pokemon (i.e. either Type 1 is Flying or Type 2 is Flying)\n",
    "3. Retrieve the first 5 Fire Type Pokemon (i.e. either Type 1 is Flying or Type 2 is Fire)\n",
    "4. Retrieve the first 5 Pokemon that are both Bug type and Flying type. \n",
    "5. Retrieve the first 5 Pokemon that are both Flying type and Dragon type. \n",
    "6. - What are your favorite Pokemon Types? \n",
    "   - Choose one (or two) types, and retrieve all Pokemon that fit that criteria. (e.g. I like Pokemon that are both Psychic and Flying)\n",
    "\n",
    "#### Selection by the Numbers\n",
    "Retrieve the name and statistics of the Pokemon as requested below. (e.g. For number 1, print only the name(s) of the pokemon and their 'Total' value(s))\n",
    "\n",
    "<b>Bonus Challenge</b>: If there are more than one Pokemon for each category, (e.g. there might be more than one Pokemon sharing the same highest Total value), print all of them.\n",
    "\n",
    "1. Strongest Pokemon (i.e. has the highest 'Total' value) \n",
    "2. Pokemon with the highest HP\n",
    "3. Pokemon with the highest Attack\n",
    "4. Pokemon with the highest Defense\n",
    "5. Pokemon with the highest Special Attack\n",
    "6. Pokemon with the highest Special Defense\n",
    "7. Pokemon with the highest Speed \n",
    "8. For items 1-7, get their lowest counterpart.\n",
    "9. Print the top 10 strongest Pokemon in descending order. \n",
    "10. Print the top 10 weakest Pokemon in ascending order. \n",
    "\n",
    "<b>Congrats on finishing the exercise!</b>"
   ]
  },
  {
   "cell_type": "code",
   "execution_count": null,
   "metadata": {
    "collapsed": true
   },
   "outputs": [],
   "source": []
  }
 ],
 "metadata": {
  "kernelspec": {
   "display_name": "Python 3",
   "language": "python",
   "name": "python3"
  },
  "language_info": {
   "codemirror_mode": {
    "name": "ipython",
    "version": 3
   },
   "file_extension": ".py",
   "mimetype": "text/x-python",
   "name": "python",
   "nbconvert_exporter": "python",
   "pygments_lexer": "ipython3",
   "version": "3.6.0"
  }
 },
 "nbformat": 4,
 "nbformat_minor": 2
}
