{
 "cells": [
  {
   "cell_type": "markdown",
   "metadata": {},
   "source": [
    "## Python Numpy Basics Exercise Part 1\n",
    "\n",
    "Main Resource: [Python Numpy Tutorial](http://cs231n.github.io/python-numpy-tutorial/)\n",
    "\n",
    "Python is a great general-purpose programming language on its own, but with the help of a few popular libraries (numpy, scipy, matplotlib) it becomes a powerful environment for scientific computing.\n",
    "\n",
    "This section will serve as a quick crash course both on the Python programming language and on the use of Python for scientific computing. "
   ]
  },
  {
   "cell_type": "markdown",
   "metadata": {},
   "source": [
    "## Basic Data Types\n",
    "\n",
    "Section Resource: [Basic data types](http://cs231n.github.io/python-numpy-tutorial/#python-basic)\n",
    "\n",
    "### Numbers \n",
    "Given $x = 15$ and $y = 3.5$, use Python to find: \n",
    "- $x + 10$\n",
    "- $x - y$\n",
    "- $5x$\n",
    "- $x \\times y$\n",
    "- $y^5$\n",
    "- $x^y$\n",
    "- $\\sqrt{xy}$ \n",
    "- $\\log_2{x}$ \n",
    "- Data type of x\n",
    "- Data type of y"
   ]
  },
  {
   "cell_type": "markdown",
   "metadata": {},
   "source": [
    "## Strings\n",
    "\n",
    "Assign values to variables `string1` and `string2` as follows:\n",
    "```python\n",
    "string1 = 'machine'\n",
    "string2 = 'learning'\n",
    "string3 = '     is fun'\n",
    "```\n",
    "\n",
    "1. Print the value of `string1`.\n",
    "2. Print the length of `string1`.\n",
    "3. Concatenates `string1`, a space (' '), and `string2` to form the new string `machine learning`.\n",
    "4. Print `string1`, `string2`, and their lengths using sprintf style formatting.\n",
    "5. Capitalize the first letter of `string1`.\n",
    "6. Print `string1` in all caps (i.e. MACHINE)\n",
    "7. Replace all `n`'s in `string2` with `m`'s.\n",
    "8. Remove all trailing white spaces in `string3`\n",
    "9. Print \"`machine learning is fun`\" using `string1`, `string2`, and `string3`."
   ]
  },
  {
   "cell_type": "markdown",
   "metadata": {},
   "source": [
    "### Booleans\n",
    "Suppose we have two sentences:\n",
    "\n",
    "- \"The sun rises in the east.\"\n",
    "- \"All bears are white.\"\n",
    "\n",
    "Represent each sentence as variables $x$ and $y$, each holding its respective truth value (e.g. `x = True`)\n",
    "\n",
    "Use Python logical operators to answer the following:\n",
    "\n",
    "1. Print the data type of x and y.\n",
    "2. What is the truth value of the sentence: \"The sun rises in the east <b>and</b> all bears are white\"?\n",
    "3. What is the truth value of the sentence: \"The sun rises in the east <b>or</b> all bears are white\"?\n",
    "4. What is the truth value of the sentence: \"The sun rises <b>does not</b> rise in the east.\"?"
   ]
  },
  {
   "cell_type": "code",
   "execution_count": null,
   "metadata": {
    "collapsed": true
   },
   "outputs": [],
   "source": []
  }
 ],
 "metadata": {
  "kernelspec": {
   "display_name": "Python 3",
   "language": "python",
   "name": "python3"
  },
  "language_info": {
   "codemirror_mode": {
    "name": "ipython",
    "version": 3
   },
   "file_extension": ".py",
   "mimetype": "text/x-python",
   "name": "python",
   "nbconvert_exporter": "python",
   "pygments_lexer": "ipython3",
   "version": "3.6.0"
  }
 },
 "nbformat": 4,
 "nbformat_minor": 2
}
