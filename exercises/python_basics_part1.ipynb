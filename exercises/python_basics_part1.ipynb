{
 "cells": [
  {
   "cell_type": "markdown",
   "metadata": {},
   "source": [
    "# Python Basics Exercise Part 1\n",
    "\n",
    "<b>Resources:</b> [[Python/Numpy Tutorial](http://cs231n.github.io/python-numpy-tutorial/)], [[Python Study Group Tutorials](https://github.com/wwcodemanila/WWCodeManila-Python)]\n",
    "\n",
    "Python is a great general-purpose programming language on its own, but with the help of a few popular libraries (numpy, scipy, matplotlib) it becomes a powerful environment for scientific computing.\n",
    "\n",
    "These exercises will serve as a quick crash course both on the Python programming language and on the use of Python for scientific computing. "
   ]
  },
  {
   "cell_type": "markdown",
   "metadata": {},
   "source": [
    "## Basic Data Types, Conditional Statements, and Loops"
   ]
  },
  {
   "cell_type": "markdown",
   "metadata": {},
   "source": [
    "#### Exercise 1: Basic Arithmetic and String Manipulation\n",
    "---\n",
    "Create a program that asks the user to enter their name and their age (at the end of this year). Print out a message addressed to them that tells them the year they will turn 100. Observe proper capitalization. \n",
    "```shell\n",
    "Enter your name: miChELle\n",
    "Enter your age: 24\n",
    "Hello Michelle! You will turn 100 in the year 2094.\n",
    "```\n",
    "<b>Hints</b>: [[Basic Data Types: Numbers and Strings](http://cs231n.github.io/python-numpy-tutorial/#python-basic)] [[Variables, Arithmetic Operations, Keyboard Input](https://github.com/wwcodemanila/WWCodeManila-Python/blob/master/discussions/discussion01.MD)]"
   ]
  },
  {
   "cell_type": "code",
   "execution_count": null,
   "metadata": {
    "collapsed": false
   },
   "outputs": [],
   "source": [
    "# Write your code here"
   ]
  },
  {
   "cell_type": "markdown",
   "metadata": {},
   "source": [
    "#### Exercise 2: Conditional Statements and Booleans\n",
    "---\n",
    "- Prompt the user for a number grade (0-100). \n",
    "- Use a series of conditional statements and Boolean expressions to print out their letter grade. \n",
    "- If the user input is invalid (e.g. strings, floats, negative integers), print \"Your input is invalid!\".\n",
    "- Use the following grade chart:\n",
    "\n",
    "| Letter Grade | Range |\n",
    "|--------------|-------------|\n",
    "| A            | 90-100      |\n",
    "| B            | 80-89       |\n",
    "| C            | 70-79       |\n",
    "| D            | 60-69       |\n",
    "| E            | 0-59        |\n",
    "\n",
    "Test cases:\n",
    "```shell\n",
    "Enter your grade: 59\n",
    "Your letter grade is: E\n",
    "```\n",
    "```shell\n",
    "Enter your grade: 90\n",
    "Your letter grade is: A\n",
    "```\n",
    "```shell\n",
    "Enter your grade: 1000\n",
    "Your input is invalid!\n",
    "```\n",
    "\n",
    "<b>Hints</b>: [[Basic Data Types: Booleans](http://cs231n.github.io/python-numpy-tutorial/#python-basic)] [[Conditional Statements](https://www.python-course.eu/conditional_statements.php)]"
   ]
  },
  {
   "cell_type": "code",
   "execution_count": null,
   "metadata": {
    "collapsed": false
   },
   "outputs": [],
   "source": [
    "# Write your code here"
   ]
  },
  {
   "cell_type": "markdown",
   "metadata": {},
   "source": [
    "#### Exercise 3: Conditional Statement and Modular Arithmetic\n",
    "---\n",
    "Ask the user for a number. Depending on whether the number is even or odd, print out an appropriate message to the user.\n",
    "```shell\n",
    "Enter an integer: 5\n",
    "Output: The integer is odd.\n",
    "```\n",
    "```shell\n",
    "Enter an integer: 24\n",
    "Output: The integer is even.\n",
    "```\n",
    "<b>Hints</b>: [[Modulo Operation](https://stackoverflow.com/questions/4432208/how-does-work-in-python)]"
   ]
  },
  {
   "cell_type": "code",
   "execution_count": null,
   "metadata": {
    "collapsed": false
   },
   "outputs": [],
   "source": [
    "# Write your code here"
   ]
  },
  {
   "cell_type": "markdown",
   "metadata": {},
   "source": [
    "#### Challenge: Loops \n",
    "---\n",
    "Write a program which can compute the factorial of a given number.\n",
    "- The factorial of a number $x$ is equal to $(x)(x-1)(x-2)...(1)$.\n",
    "- For example, $5!$ is equal to $5 \\times 4 \\times 3 \\times 2 \\times 1$ = 120.\n",
    "\n",
    "Test cases:\n",
    "```shell\n",
    "Enter an integer: 6\n",
    "Output: 720\n",
    "```\n",
    "```shell\n",
    "Enter an integer: 8\n",
    "Output: 40320\n",
    "```\n",
    "```shell\n",
    "Enter an integer: 15\n",
    "Output: 1307674368000\n",
    "```"
   ]
  },
  {
   "cell_type": "code",
   "execution_count": null,
   "metadata": {
    "collapsed": false
   },
   "outputs": [],
   "source": [
    "# Write your code here"
   ]
  },
  {
   "cell_type": "markdown",
   "metadata": {},
   "source": [
    "### [Continue to Part 2 (Containers)](https://github.com/wwcodemanila/WWCodeManila-ML.AI/blob/master/exercises/python_basics_part2.ipynb)"
   ]
  }
 ],
 "metadata": {
  "kernelspec": {
   "display_name": "Python 3",
   "language": "python",
   "name": "python3"
  },
  "language_info": {
   "codemirror_mode": {
    "name": "ipython",
    "version": 3
   },
   "file_extension": ".py",
   "mimetype": "text/x-python",
   "name": "python",
   "nbconvert_exporter": "python",
   "pygments_lexer": "ipython3",
   "version": "3.6.0"
  }
 },
 "nbformat": 4,
 "nbformat_minor": 2
}
