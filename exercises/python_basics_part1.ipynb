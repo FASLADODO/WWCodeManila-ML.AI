{
 "cells": [
  {
   "cell_type": "markdown",
   "metadata": {},
   "source": [
    "# Python Basics Exercise Part 1\n",
    "\n",
    "<b>Resources:</b> \n",
    "- [Python/Numpy Tutorial](http://cs231n.github.io/python-numpy-tutorial/)\n",
    "- [Python Study Group Tutorials](https://github.com/wwcodemanila/WWCodeManila-Python)"
   ]
  },
  {
   "cell_type": "markdown",
   "metadata": {},
   "source": [
    "## Basic Data Types, Conditional Statements, and Loops"
   ]
  },
  {
   "cell_type": "markdown",
   "metadata": {},
   "source": [
    "#### Exercise 1: Basic Arithmetic and String Manipulation\n",
    "---\n",
    "Create a program that asks the user to enter their name and their age (at the end of this year). Print out a message addressed to them that tells them the year they will turn 100. Observe proper capitalization. \n",
    "```shell\n",
    "Enter your name: miChELle\n",
    "Enter your age: 24\n",
    "Hello Michelle! You will turn 100 in the year 2094.\n",
    "```"
   ]
  },
  {
   "cell_type": "code",
   "execution_count": null,
   "metadata": {
    "collapsed": false
   },
   "outputs": [],
   "source": [
    "# Write your code here"
   ]
  },
  {
   "cell_type": "markdown",
   "metadata": {},
   "source": [
    "#### Exercise 2: Rock Paper Scissors\n",
    "---\n",
    "- Create a rock-paper-scissors game.\n",
    "- Prompt player 1 and player 2 for their play (input).\n",
    "- Remember the rules\n",
    "    - rock beats scissors\n",
    "    - scissors beats paper\n",
    "    - paper beats rock\n",
    "- If it's a draw, print \"`Draw!`\".\n",
    "- Try handling abnormal inputs, i.e. if the input is anything other than rock, paper, or scissors, print \"`Invalid input!`\".\n",
    "- Try making the game continuous, i.e. the program will continue to keep asking for user input until the input is \"`quit`\". \n",
    "    - Hint: use the break statement\n",
    "\n",
    "Example:\n",
    "```shell\n",
    "Player1 input: paper\n",
    "Player2 input: scissors\n",
    "The winner of this round is Player2!\n",
    "Player1 input: paper\n",
    "Player2 input: rock\n",
    "The winner of this round is Player1!\n",
    "Player1 input: paper\n",
    "Player2 input: spock\n",
    "Invalid input!\n",
    "Player1 input: rock\n",
    "Player2 input: quit\n",
    "[program terminates]\n",
    "```"
   ]
  },
  {
   "cell_type": "code",
   "execution_count": null,
   "metadata": {
    "collapsed": true
   },
   "outputs": [],
   "source": [
    "# Write your code here"
   ]
  },
  {
   "cell_type": "markdown",
   "metadata": {},
   "source": [
    "#### Exercise 3: Prime Numbers \n",
    "---\n",
    "A prime number is a whole number greater than 1 that is divisible only by 1 and itself. A factor is a whole numbers that can be divided evenly into another number. See the yellow boxes for examples of prime numbers:\n",
    "![alt=text](images/prime.jpg)\n",
    "\n",
    "Using loops, write a program that takes an integer as an input and outputs 'Prime' or 'Not Prime'. (Hint: use the \"modulo\" operator)\n",
    "\n",
    "Example\n",
    "```\n",
    "Enter a number: 89\n",
    "Output: Prime\n",
    "\n",
    "Enter a number: 87\n",
    "Output: Not Prime\n",
    "```"
   ]
  },
  {
   "cell_type": "markdown",
   "metadata": {},
   "source": [
    "### [Continue to Part 2 (Containers)](https://github.com/wwcodemanila/WWCodeManila-ML.AI/blob/master/exercises/python_basics_part2.ipynb)"
   ]
  }
 ],
 "metadata": {
  "kernelspec": {
   "display_name": "Python 3",
   "language": "python",
   "name": "python3"
  },
  "language_info": {
   "codemirror_mode": {
    "name": "ipython",
    "version": 3
   },
   "file_extension": ".py",
   "mimetype": "text/x-python",
   "name": "python",
   "nbconvert_exporter": "python",
   "pygments_lexer": "ipython3",
   "version": "3.6.0"
  }
 },
 "nbformat": 4,
 "nbformat_minor": 2
}
