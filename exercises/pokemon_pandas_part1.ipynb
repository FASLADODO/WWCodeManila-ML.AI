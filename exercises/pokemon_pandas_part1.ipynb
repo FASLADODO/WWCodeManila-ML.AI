{
 "cells": [
  {
   "cell_type": "markdown",
   "metadata": {},
   "source": [
    "## Learning Pandas with Pokemon - Part 1\n",
    "\n",
    "### What is pandas?\n",
    "In computer programming, pandas is a software library written for the Python programming language for data manipulation and analysis. In particular, it offers data structures and operations for manipulating numerical tables and time series. It is free software released under the three-clause BSD license. The name is derived from the term \"<b>pan</b>el <b>da</b>ta\", an econometrics term for multidimensional, structured data sets. (Source: wikipedia)"
   ]
  },
  {
   "cell_type": "markdown",
   "metadata": {},
   "source": [
    "### Today, we'll be exploring the Pokemon Dataset! \n",
    "![alt text](images/pokemon.jpg)"
   ]
  },
  {
   "cell_type": "markdown",
   "metadata": {},
   "source": [
    "#### About the Dataset: \n",
    "---\n",
    "This data set includes 721 Pokemon, including their number, name, first and second type, and basic stats: HP, Attack, Defense, Special Attack, Special Defense, and Speed. These are the raw attributes that are used for calculating how much damage an attack will do in the games. This dataset is about the pokemon games (NOT pokemon cards or Pokemon Go). \n",
    "\n",
    "- <b>#</b>: ID for each pokemon\n",
    "- <b>Name</b>: Name of each pokemon\n",
    "- <b>Type 1</b>: Primary type; each pokemon has a type, this determines weakness/resistance to attacks\n",
    "- <b>Type 2</b>: Secondary type; some pokemon are dual type and have 2\n",
    "- <b>Total</b>: sum of all stats that come after this, a general guide to how strong a pokemon is\n",
    "- <b>HP</b>: hit points, or health, defines how much damage a pokemon can withstand before fainting\n",
    "- <b>Attack</b>: the base modifier for normal attacks (eg. Scratch, Punch)\n",
    "- <b>Defense</b>: the base damage resistance against normal attacks\n",
    "- <b>SP Atk</b>: special attack, the base modifier for special attacks (e.g. fire blast, bubble beam)\n",
    "- <b>SP Def</b>: the base damage resistance against special attacks\n",
    "- <b>Speed</b>: determines which pokemon attacks first each round\n",
    "\n",
    "The data for this table has been acquired from several different sites, including: pokemon.com, pokemondb, and bulbapeida.\n",
    "    \n",
    "<b>Source</b>: https://www.kaggle.com/abcsds/pokemon"
   ]
  },
  {
   "cell_type": "markdown",
   "metadata": {},
   "source": [
    "#### Exercise 0: Getting Started\n",
    "---\n",
    "1. Download: [Pokemon dataset](https://github.com/wwcodemanila/WWCodeManila-ML.AI/blob/master/datasets/pokemon.csv)\n",
    "2. Import the necessary libraries (`pandas`, `numpy`, `matplotlib.pyplot`)\n",
    "3. Load the dataset "
   ]
  },
  {
   "cell_type": "code",
   "execution_count": null,
   "metadata": {
    "collapsed": true
   },
   "outputs": [],
   "source": [
    "# Write your code here"
   ]
  },
  {
   "cell_type": "markdown",
   "metadata": {},
   "source": [
    "#### Exercise 1: Warmup\n",
    "---\n",
    "<b>Hint</b>: Most commands for this section can be found in our [first machine learning project](https://github.com/wwcodemanila/WWCodeManila-ML.AI/blob/master/tutorials/Intro-to-Machine-Learning.ipynb).\n",
    "\n",
    "1. How many pokemon are there in the dataset?\n",
    "2. What are the columns in the dataset? \n",
    "3. What are the datatypes of each column?\n",
    "4. What are the first 5 pokemon in the dataset?\n",
    "5. What are the last 5 pokemon in the dataset?\n",
    "6. Print a summary of the data (count, mean, min, max, etc.)"
   ]
  },
  {
   "cell_type": "code",
   "execution_count": null,
   "metadata": {
    "collapsed": true
   },
   "outputs": [],
   "source": [
    "# Write your code here"
   ]
  },
  {
   "cell_type": "markdown",
   "metadata": {},
   "source": [
    "#### Exercise 2: Cleaning the Data\n",
    "---\n",
    "1. Right now, the dataset is indexed by numbers 0 - 800. You can confirm this by printing `df.index`. Suppose we want to index the pokemon by 'Name' instead of by number. Set the index to become the 'Name' column. [[Hint](https://pandas.pydata.org/pandas-docs/stable/generated/pandas.DataFrame.set_index.html)]\n",
    "2. Drop the '#' column and inspect your dataset for changes. [[Hint1](https://pandas.pydata.org/pandas-docs/stable/generated/pandas.DataFrame.drop.html)] [[Hint2](https://stackoverflow.com/questions/22149584/what-does-axis-in-pandas-mean)]\n",
    "3. - Option 1: Remove all spaces in the column names (e.g. 'Type 1' becomes 'Type1'); \n",
    "   - Option 2: Replace all spaces in the column names with underscores (e.g. 'Type 1' becomes 'Type_1'). [[Hint](https://stackoverflow.com/questions/30763351/removing-space-in-dataframe-python)]\n",
    "4. Time to clean up null entries. You can check if a column contains null values using `df.isnull().any()`. Your job is to find columns with null values and replace NaN with the string 'None'. [[Hint](https://pandas.pydata.org/pandas-docs/stable/generated/pandas.DataFrame.fillna.html)]"
   ]
  },
  {
   "cell_type": "code",
   "execution_count": null,
   "metadata": {
    "collapsed": true
   },
   "outputs": [],
   "source": [
    "# Write your code here"
   ]
  },
  {
   "cell_type": "markdown",
   "metadata": {},
   "source": [
    "#### Exercise 3: Basic Selection - loc and iloc\n",
    "---\n",
    "1. Retrieve the row data of the first pokemon in the dataset by <b>integer-location</b> based indexing. [[Hint](https://pandas.pydata.org/pandas-docs/stable/generated/pandas.DataFrame.iloc.html)]\n",
    "2. Retrieve the row data of <b>Bulbasaur</b> in the dataset by <b>label-location</b> based indexing. [[Hint](https://pandas.pydata.org/pandas-docs/stable/generated/pandas.DataFrame.loc.html)] \n",
    "3. Retrieve the row data of the <b>20th</b> pokemon in the dataset by <b>integer-location</b> based indexing. [[Hint](https://pandas.pydata.org/pandas-docs/stable/generated/pandas.DataFrame.iloc.html)]\n",
    "4. Retrieve the row data of <b>Ninetales</b> in the dataset by <b>label-location</b> based indexing. [[Hint](https://pandas.pydata.org/pandas-docs/stable/generated/pandas.DataFrame.loc.html)] \n",
    "5. Retrieve the row data of your favorite Pokemon.  "
   ]
  },
  {
   "cell_type": "code",
   "execution_count": null,
   "metadata": {
    "collapsed": true
   },
   "outputs": [],
   "source": [
    "# Write your code here"
   ]
  },
  {
   "cell_type": "markdown",
   "metadata": {},
   "source": [
    "### [Continue to Part 2.](https://github.com/wwcodemanila/WWCodeManila-ML.AI/blob/master/exercises/pokemon_pandas_part2.ipynb)"
   ]
  }
 ],
 "metadata": {
  "kernelspec": {
   "display_name": "Python 3",
   "language": "python",
   "name": "python3"
  },
  "language_info": {
   "codemirror_mode": {
    "name": "ipython",
    "version": 3
   },
   "file_extension": ".py",
   "mimetype": "text/x-python",
   "name": "python",
   "nbconvert_exporter": "python",
   "pygments_lexer": "ipython3",
   "version": "3.6.0"
  }
 },
 "nbformat": 4,
 "nbformat_minor": 2
}
