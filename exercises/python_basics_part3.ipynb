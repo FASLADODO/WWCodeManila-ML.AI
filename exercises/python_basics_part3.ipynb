{
 "cells": [
  {
   "cell_type": "markdown",
   "metadata": {},
   "source": [
    "# Python Basics Exercise Part 3\n",
    "\n",
    "<b>Resources:</b> [[Python/Numpy Tutorial](http://cs231n.github.io/python-numpy-tutorial/)], [[Python Study Group Tutorials](https://github.com/wwcodemanila/WWCodeManila-Python)]\n",
    "\n",
    "Python is a great general-purpose programming language on its own, but with the help of a few popular libraries (numpy, scipy, matplotlib) it becomes a powerful environment for scientific computing.\n",
    "\n",
    "These exercises will serve as a quick crash course both on the Python programming language and on the use of Python for scientific computing. "
   ]
  },
  {
   "cell_type": "markdown",
   "metadata": {},
   "source": [
    "## Python Functions"
   ]
  },
  {
   "cell_type": "markdown",
   "metadata": {},
   "source": [
    "#### Exercise 1: Rock Paper Scissors\n",
    "---\n",
    "- Create a Rock-Paper-Scissors game by creating a `rps()` function.\n",
    "- Prompt player 1 and player 2 for their play (input) and use this as input to the function.\n",
    "- The function will return the winner. Remember the rules\n",
    "    - rock beats scissors\n",
    "    - scissors beats paper\n",
    "    - paper beats rock\n",
    "- Challenge 1: Try handling abnormal inputs, i.e. if the input is anything other than rock, paper, or scissors, print 'Invalid input!'.\n",
    "- Challenge 2: Try making the game continuous, i.e. using an infinite while loop, the program will continue to keep asking for user input until the input is 'quit'. (Hint: use the break statement)\n",
    "\n",
    "Example:\n",
    "```shell\n",
    "Player1 input: paper\n",
    "Player2 input: scissors\n",
    "The winner of this round is Player2!\n",
    "Player1 input: paper\n",
    "Player2 input: rock\n",
    "The winner of this round is Player1!\n",
    "Player1 input: paper\n",
    "Player2 input: spock\n",
    "Invalid input!\n",
    "Player1 input: rock\n",
    "Player2 input: quit\n",
    "[program terminates]\n",
    "```\n",
    "\n",
    "<b>Hints</b>: [[Python functions](http://cs231n.github.io/python-numpy-tutorial/#python-functions)] [[Python break](https://www.tutorialspoint.com/python/python_break_statement.htm)]"
   ]
  },
  {
   "cell_type": "code",
   "execution_count": 8,
   "metadata": {
    "collapsed": false
   },
   "outputs": [],
   "source": [
    "# Write your code here"
   ]
  },
  {
   "cell_type": "markdown",
   "metadata": {},
   "source": [
    "#### Exercise 2: Computing distance\n",
    "---\n",
    "- Create a function `computeDist()` which computes the euclidean distance between two vectors (lists).\n",
    "- The distance between vectors $\\textbf{x} = (x_1, x_2, ..., x_n)$ and $\\textbf{y} = (y_1, y_2, ..., y_n)$ can be computed as follows:\n",
    "\n",
    "  $d = \\sqrt{(x_1 - y_1)^2 + (x_2 - y_2)^2 + ... + (x_n - y_n)^2}$\n",
    "  \n",
    "  where $n$ is the length of both $\\textbf{x}$ and $\\textbf{y}$.\n",
    "    \n",
    "- For example, if the input to the function are:\n",
    "    ```python\n",
    "    x = [1, 2, 3]\n",
    "    y = [4, 5, 6]\n",
    "    ```\n",
    "    \n",
    "    Your function should compute:\n",
    "    \n",
    "    $d = \\sqrt{(1 - 4)^2 + (2 - 5)^2 + (3 - 6)^2} = 27$\n",
    "        \n",
    "Test cases:\n",
    "```shell\n",
    "computeDist([1,2], [10,20])\n",
    "Ouput: 20.1246\n",
    "```\n",
    "\n",
    "```shell\n",
    "computeDist([2, 4, 6], [15, 17, 12])\n",
    "Output: 19.3391\n",
    "```\n",
    "    \n",
    "\n",
    "<b>Hints</b>: [[Zip method](https://www.saltycrane.com/blog/2008/04/how-to-use-pythons-enumerate-and-zip-to/)] [[Square Root](https://docs.python.org/2/library/math.html#math.sqrt)]"
   ]
  },
  {
   "cell_type": "code",
   "execution_count": 9,
   "metadata": {
    "collapsed": false
   },
   "outputs": [],
   "source": [
    "# Write your code here"
   ]
  },
  {
   "cell_type": "markdown",
   "metadata": {},
   "source": [
    "#### Challenge: Fibonacci Sequence\n",
    "---\n",
    "The Fibonnaci seqence is a sequence of numbers where the next number in the sequence is the sum of the previous two numbers in the sequence. The sequence looks like this: 0, 1, 1, 2, 3, 5, 8, 13, 21, ...\n",
    "\n",
    "Write a function that takes as input the number of Fibonnaci numbers to generate and then generate them. \n",
    "\n",
    "Test Cases:\n",
    "```shell\n",
    "fib(10)\n",
    "Output: [0, 1, 1, 2, 3, 5, 8, 13, 21, 34]\n",
    "```\n",
    "```shell\n",
    "fib(18)\n",
    "Output: [0, 1, 1, 2, 3, 5, 8, 13, 21, 34, 55, 89, 144, 233, 377, 610, 987, 1597]\n",
    "```"
   ]
  },
  {
   "cell_type": "code",
   "execution_count": 10,
   "metadata": {
    "collapsed": true
   },
   "outputs": [],
   "source": [
    "# Write your code here"
   ]
  },
  {
   "cell_type": "markdown",
   "metadata": {
    "collapsed": true
   },
   "source": [
    "### Congrats on finishing this exercise!"
   ]
  }
 ],
 "metadata": {
  "kernelspec": {
   "display_name": "Python 3",
   "language": "python",
   "name": "python3"
  },
  "language_info": {
   "codemirror_mode": {
    "name": "ipython",
    "version": 3
   },
   "file_extension": ".py",
   "mimetype": "text/x-python",
   "name": "python",
   "nbconvert_exporter": "python",
   "pygments_lexer": "ipython3",
   "version": "3.6.0"
  }
 },
 "nbformat": 4,
 "nbformat_minor": 2
}
