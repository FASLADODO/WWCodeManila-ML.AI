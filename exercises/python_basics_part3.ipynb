{
 "cells": [
  {
   "cell_type": "markdown",
   "metadata": {},
   "source": [
    "# Python Basics Exercise Part 3\n",
    "\n",
    "<b>Resources:</b> \n",
    "- [Python/Numpy Tutorial](http://cs231n.github.io/python-numpy-tutorial/)\n",
    "- [Python Study Group Tutorials](https://github.com/wwcodemanila/WWCodeManila-Python)"
   ]
  },
  {
   "cell_type": "markdown",
   "metadata": {},
   "source": [
    "#### Challenge 1: Factorials\n",
    "---\n",
    "Write a program which can compute the factorial of a given number.\n",
    "- The factorial of a number $x$ is equal to $(x)(x-1)(x-2)...(1)$.\n",
    "- For example, $5!$ is equal to $5 \\times 4 \\times 3 \\times 2 \\times 1$ = 120.\n",
    "\n",
    "Test cases:\n",
    "```shell\n",
    "Enter an integer: 6\n",
    "Output: 720\n",
    "```\n",
    "```shell\n",
    "Enter an integer: 8\n",
    "Output: 40320\n",
    "```\n",
    "```shell\n",
    "Enter an integer: 15\n",
    "Output: 1307674368000\n",
    "```"
   ]
  },
  {
   "cell_type": "code",
   "execution_count": 8,
   "metadata": {
    "collapsed": false
   },
   "outputs": [],
   "source": [
    "# Write your code here"
   ]
  },
  {
   "cell_type": "markdown",
   "metadata": {},
   "source": [
    "#### Challenge 2: Computing distance\n",
    "---\n",
    "- Create a function `computeDist()` which computes the euclidean distance between two vectors (lists).\n",
    "- The distance between vectors $\\textbf{x} = (x_1, x_2, ..., x_n)$ and $\\textbf{y} = (y_1, y_2, ..., y_n)$ can be computed as follows:\n",
    "\n",
    "  $d = \\sqrt{(x_1 - y_1)^2 + (x_2 - y_2)^2 + ... + (x_n - y_n)^2}$\n",
    "  \n",
    "  where $n$ is the length of both $\\textbf{x}$ and $\\textbf{y}$.\n",
    "    \n",
    "- For example, if the input to the function are:\n",
    "    ```python\n",
    "    x = [1, 2, 3]\n",
    "    y = [4, 5, 6]\n",
    "    ```\n",
    "    \n",
    "    Your function should compute:\n",
    "    \n",
    "    $d = \\sqrt{(1 - 4)^2 + (2 - 5)^2 + (3 - 6)^2} = 27$\n",
    "        \n",
    "Test cases:\n",
    "```shell\n",
    "computeDist([1,2], [10,20])\n",
    "Ouput: 20.1246\n",
    "```\n",
    "\n",
    "```shell\n",
    "computeDist([2, 4, 6], [15, 17, 12])\n",
    "Output: 19.3391\n",
    "```\n",
    "    \n",
    "\n",
    "<b>Hint</b>: [[Zip method](https://www.saltycrane.com/blog/2008/04/how-to-use-pythons-enumerate-and-zip-to/)] "
   ]
  },
  {
   "cell_type": "code",
   "execution_count": 9,
   "metadata": {
    "collapsed": false
   },
   "outputs": [],
   "source": [
    "# Write your code here"
   ]
  },
  {
   "cell_type": "markdown",
   "metadata": {},
   "source": [
    "#### Challenge 3: Fibonacci Sequence\n",
    "---\n",
    "The Fibonnaci seqence is a sequence of numbers where the next number in the sequence is the sum of the previous two numbers in the sequence. The sequence looks like this: 0, 1, 1, 2, 3, 5, 8, 13, 21, ...\n",
    "\n",
    "Write a function that takes as input the number of Fibonnaci numbers to generate and then generate them. \n",
    "\n",
    "Test Cases:\n",
    "```shell\n",
    "fib(10)\n",
    "Output: [0, 1, 1, 2, 3, 5, 8, 13, 21, 34]\n",
    "```\n",
    "```shell\n",
    "fib(18)\n",
    "Output: [0, 1, 1, 2, 3, 5, 8, 13, 21, 34, 55, 89, 144, 233, 377, 610, 987, 1597]\n",
    "```"
   ]
  },
  {
   "cell_type": "code",
   "execution_count": 10,
   "metadata": {
    "collapsed": true
   },
   "outputs": [],
   "source": [
    "# Write your code here"
   ]
  },
  {
   "cell_type": "markdown",
   "metadata": {
    "collapsed": true
   },
   "source": [
    "### Congrats on finishing this exercise!"
   ]
  }
 ],
 "metadata": {
  "kernelspec": {
   "display_name": "Python 3",
   "language": "python",
   "name": "python3"
  },
  "language_info": {
   "codemirror_mode": {
    "name": "ipython",
    "version": 3
   },
   "file_extension": ".py",
   "mimetype": "text/x-python",
   "name": "python",
   "nbconvert_exporter": "python",
   "pygments_lexer": "ipython3",
   "version": "3.6.0"
  }
 },
 "nbformat": 4,
 "nbformat_minor": 2
}
