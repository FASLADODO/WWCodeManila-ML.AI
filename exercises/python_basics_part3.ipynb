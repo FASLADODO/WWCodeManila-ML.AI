{
 "cells": [
  {
   "cell_type": "markdown",
   "metadata": {},
   "source": [
    "## Python Basics Exercise Part 3\n",
    "\n",
    "Main Resource: [Python Numpy Tutorial](http://cs231n.github.io/python-numpy-tutorial/)\n",
    "\n",
    "Python is a great general-purpose programming language on its own, but with the help of a few popular libraries (numpy, scipy, matplotlib) it becomes a powerful environment for scientific computing.\n",
    "\n",
    "This section will serve as a quick crash course both on the Python programming language and on the use of Python for scientific computing. "
   ]
  },
  {
   "cell_type": "markdown",
   "metadata": {},
   "source": [
    "## Python Functions\n",
    "\n",
    "Section Resource: [Functions tutorial](http://cs231n.github.io/python-numpy-tutorial/#python-functions)"
   ]
  },
  {
   "cell_type": "markdown",
   "metadata": {},
   "source": [
    "1. Create a function `stoplight` that takes as input a string indicating the color of the light and outputs either 'Stop', 'Slow down', or 'Go', based on the color provided. If the input color is not the standard red, orange, or green, return 'Invalid color'.\n",
    "\n",
    "    Run the following:\n",
    "    - `stoplight('red')`\n",
    "    - `stoplight('orange')`\n",
    "    - `stoplight('blue')`\n",
    "    \n",
    "2. Create a function `computeDist` which computes the euclidean distance between two vectors (lists).\n",
    "\n",
    "    The distance between vectors $\\textbf{x}$ and $\\textbf{y}$ can be computed as follows:\n",
    "    \n",
    "    $d = \\sqrt{(x_1 - y_1)^2 + (x_2 - y_2)^2 + ... + (x_n - y_n)^2}$\n",
    "    \n",
    "    where $n$ is the length of both $\\textbf{x}$ and $\\textbf{y}$.\n",
    "    \n",
    "    For example, if the input to the function are:\n",
    "    ```python\n",
    "    list1 = [1, 2, 3]\n",
    "    list2 = [4, 5, 6]\n",
    "    ```\n",
    "    \n",
    "    Your function should compute:\n",
    "    \n",
    "    $d = \\sqrt{(1 - 4)^2 + (2 - 5)^2 + (3 - 6)^2} = 27$\n",
    "    \n",
    "    [Hint](https://www.saltycrane.com/blog/2008/04/how-to-use-pythons-enumerate-and-zip-to/)\n",
    "    \n",
    "    Test your function for the following:\n",
    "    - `computeDist([1,2], [10,20])` should output 20.1246\n",
    "    - `computeDist([2, 4, 6], [15, 17, 12])` should output 19.3391"
   ]
  },
  {
   "cell_type": "markdown",
   "metadata": {},
   "source": [
    "## Python Classes\n",
    "\n",
    "Section Resource: [Classes tutorial](http://cs231n.github.io/python-numpy-tutorial/#python-classes)"
   ]
  },
  {
   "cell_type": "markdown",
   "metadata": {
    "collapsed": true
   },
   "source": [
    "Create a class `ComplexNumber`.\n",
    "1. Ever complex number should be instantiated with a `real` part and an `imaginary` part.\n",
    "2. Create a method `getData` which should return the string \"`[real]+[imaginary]j`\".\n",
    "\n",
    "    For example:\n",
    "    ```python\n",
    "    num = ComplexNumber(3, 2)\n",
    "    print(num.getData())\n",
    "    ```\n",
    "    which should print the string `\"3+2j\"`."
   ]
  },
  {
   "cell_type": "markdown",
   "metadata": {
    "collapsed": true
   },
   "source": [
    "### Congrats on finishing this exercise!"
   ]
  }
 ],
 "metadata": {
  "kernelspec": {
   "display_name": "Python 3",
   "language": "python",
   "name": "python3"
  },
  "language_info": {
   "codemirror_mode": {
    "name": "ipython",
    "version": 3
   },
   "file_extension": ".py",
   "mimetype": "text/x-python",
   "name": "python",
   "nbconvert_exporter": "python",
   "pygments_lexer": "ipython3",
   "version": "3.6.0"
  }
 },
 "nbformat": 4,
 "nbformat_minor": 2
}
