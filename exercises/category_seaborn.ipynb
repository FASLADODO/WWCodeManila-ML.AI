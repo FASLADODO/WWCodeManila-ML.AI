{
 "cells": [
  {
   "cell_type": "markdown",
   "metadata": {},
   "source": [
    "## Data Visualization with Seaborn: Categorical Plots"
   ]
  },
  {
   "cell_type": "markdown",
   "metadata": {},
   "source": [
    "Seaborn provides an API on top of matplotlib which uses sane plot & color defaults, uses simple functions for common statistical plot types, and which integrates with the functionality provided by Pandas dataframes. [[Source](https://www.oreilly.com/learning/data-visualization-with-seaborn)]\n",
    "\n",
    "It’s useful to divide seaborn’s categorical plots into three groups: \n",
    "- those that show each observation at each level of the categorical variable (swarmplot, stripplot)\n",
    "- those that show a representation of the distribution of observations (boxplot)\n",
    "- those that compute a statistic for the second variable, e.g. number of observations or count (barplot an\n",
    "\n",
    "The first includes the functions swarmplot() and stripplot(), the second includes boxplot() and violinplot(), and the third includes barplot() and pointplot()\n",
    "\n",
    "<b>Resources</b>: [[Seaborn API](http://seaborn.pydata.org/api.html#categorical-plots)][[Seaborn - Plotting with Categorical Data](http://seaborn.pydata.org/tutorial/categorical.html#plotting-with-categorical-data)]"
   ]
  },
  {
   "cell_type": "markdown",
   "metadata": {},
   "source": [
    "![alt text](images/pokemon.jpg)"
   ]
  },
  {
   "cell_type": "markdown",
   "metadata": {},
   "source": [
    "### About the Dataset: \n",
    "---\n",
    "This data set includes 721 Pokemon, including their number, name, first and second type, and basic stats: HP, Attack, Defense, Special Attack, Special Defense, and Speed. These are the raw attributes that are used for calculating how much damage an attack will do in the games. This dataset is about the pokemon games (NOT pokemon cards or Pokemon Go). \n",
    "\n",
    "- <b>#</b>: ID for each pokemon\n",
    "- <b>Name</b>: Name of each pokemon\n",
    "- <b>Type 1</b>: Primary type; each pokemon has a type, this determines weakness/resistance to attacks\n",
    "- <b>Type 2</b>: Secondary type; some pokemon are dual type and have 2\n",
    "- <b>Total</b>: sum of all stats that come after this, a general guide to how strong a pokemon is\n",
    "- <b>HP</b>: hit points, or health, defines how much damage a pokemon can withstand before fainting\n",
    "- <b>Attack</b>: the base modifier for normal attacks (eg. Scratch, Punch)\n",
    "- <b>Defense</b>: the base damage resistance against normal attacks\n",
    "- <b>SP Atk</b>: special attack, the base modifier for special attacks (e.g. fire blast, bubble beam)\n",
    "- <b>SP Def</b>: the base damage resistance against special attacks\n",
    "- <b>Speed</b>: determines which pokemon attacks first each round\n",
    "\n",
    "The data for this table has been acquired from several different sites, including: pokemon.com, pokemondb, and bulbapeida.\n",
    "    \n",
    "<b>Source</b>: https://www.kaggle.com/abcsds/pokemon"
   ]
  },
  {
   "cell_type": "markdown",
   "metadata": {},
   "source": [
    "### Getting Started\n",
    "---\n",
    "1. Download: [Pokemon dataset](https://github.com/wwcodemanila/WWCodeManila-ML.AI/blob/master/datasets/pokemon.csv)\n",
    "2. Import the necessary libraries (`pandas`, `numpy`, `matplotlib.pyplot`)\n",
    "3. Import seaborn. The way to import seaborn is:\n",
    "    ```python\n",
    "    import seaborn as sns\n",
    "    ```\n",
    "4. Load the dataset "
   ]
  },
  {
   "cell_type": "code",
   "execution_count": 6,
   "metadata": {
    "collapsed": false
   },
   "outputs": [],
   "source": [
    "# Write your code here"
   ]
  },
  {
   "cell_type": "markdown",
   "metadata": {},
   "source": [
    "#### 1. [Bar Plot](http://seaborn.pydata.org/tutorial/categorical.html#bar-plots)\n",
    "- Show the bar plot containing the count of each Primary type (i.e. Type 1) of Pokemon. [[Hint](https://seaborn.pydata.org/generated/seaborn.countplot.html)]\n",
    "    - Note that if the plot does not display properly, you may need to call `plt.show()`.\n",
    "- For vertical charts: Notice how the x labels overlap? \n",
    "    - Option 1: Rotate the labels. [[Hint](https://stackoverflow.com/questions/39689352/plotting-bar-plot-in-seaborn-python-with-rotated-xlabels/39689464#39689464)]\n",
    "    - Option 2: Convert it to a horizontal chart. \n",
    "- Try displaying the countplot in either ascending or descending order. [[Hint](https://stackoverflow.com/questions/46623583/seaborn-countplot-order-categories-by-count)]\n",
    "- Write down your observations from the plot. Which type has the highest count? lowest?"
   ]
  },
  {
   "cell_type": "code",
   "execution_count": 7,
   "metadata": {
    "collapsed": false
   },
   "outputs": [],
   "source": [
    "# Write your code here"
   ]
  },
  {
   "cell_type": "markdown",
   "metadata": {},
   "source": [
    "#### 2. [Strip Plot](http://seaborn.pydata.org/tutorial/categorical.html#categorical-scatterplots)\n",
    "- A strip plot is basically a [scatter plot](https://en.wikipedia.org/wiki/Scatter_plot) where one variable is categorical.\n",
    "- Display the Attack of each Pokemon and its Primary Type using a strip plot. [[Hint](http://seaborn.pydata.org/generated/seaborn.stripplot.html#seaborn.stripplot)]\n",
    "- What do you observe from the plot? What are the limitation of this type of plot?"
   ]
  },
  {
   "cell_type": "code",
   "execution_count": 8,
   "metadata": {
    "collapsed": false
   },
   "outputs": [],
   "source": [
    "# Write your code here"
   ]
  },
  {
   "cell_type": "markdown",
   "metadata": {},
   "source": [
    "#### 3. [Swarm Plot](http://seaborn.pydata.org/generated/seaborn.swarmplot.html#seaborn.swarmplot)\n",
    "- A swarm plot is another categorical scatter plot where the points <i>do not</i> overlap.\n",
    "- Show the Total of each Pokemon and its Primary Type using a swarm plot. [[Hint](http://seaborn.pydata.org/generated/seaborn.swarmplot.html#seaborn.swarmplot)]\n",
    "- Show the Attack of each Pokemon and its Primary Type using a swarm plot. \n",
    "- Show the Defense of each Pokemon and its Primary Type using a swarm plot.\n",
    "- Notice the distribution of the points. What do you observe?"
   ]
  },
  {
   "cell_type": "code",
   "execution_count": 9,
   "metadata": {
    "collapsed": false
   },
   "outputs": [],
   "source": [
    "# Write your code here"
   ]
  },
  {
   "cell_type": "markdown",
   "metadata": {},
   "source": [
    "At a certain point, the categorical scatterplot approach becomes limited in the information it can provide about the distribution of values within each category. There are several ways to summarize this information in ways that facilitate easy comparisons across the category levels. [[Source](http://seaborn.pydata.org/tutorial/categorical.html#distributions-of-observations-within-categories)]"
   ]
  },
  {
   "cell_type": "markdown",
   "metadata": {},
   "source": [
    "#### 4. [Box and Whisker Plot](http://seaborn.pydata.org/tutorial/categorical.html#boxplots)\n",
    "<img align=\"right\" style=\"width: 200px;\" src=\"https://datavizcatalogue.com/methods/images/anatomy/box_plot.png\">\n",
    "A box and whisker plot (sometimes called a boxplot) shows the three quartile values of the distribution along with extreme values. \n",
    "\n",
    "More specifically, this kind of plot is a graph that presents information from a five-number summary:\n",
    "- <b>upper extreme</b>: Q3 + 1.5 IQR\n",
    "- <b>upper quartile (Q3)</b>: median of the upper half of the data set\n",
    "- <b>median</b>: middle value of the data set\n",
    "- <b>lower quartile (Q1)</b>: median of the lower half of the data set\n",
    "- <b>lower extreme</b>: Q1 – 1.5 IQR\n",
    "- (Interquartile Range (IQR) = Upper Quartile (Q3) – Lower Quartile (Q1))\n",
    "\n",
    "[Learn more about Box and Whisker Plots here.](https://www.statcan.gc.ca/edu/power-pouvoir/ch12/5214889-eng.htm)"
   ]
  },
  {
   "cell_type": "markdown",
   "metadata": {},
   "source": [
    "- Create 5 graphs which show, for each Primary type, the box plots of:\n",
    "    - Total\n",
    "    - Attack\n",
    "    - Defense\n",
    "    - Speed\n",
    "    - HP\n",
    "- Which types have the highest Total, Attack, Defense, etc. based on the box plots? \n",
    "- Which types have the lowest Total, Attack, Defense, etc. based on the box plots?\n",
    "- What are your other observations?"
   ]
  },
  {
   "cell_type": "code",
   "execution_count": 10,
   "metadata": {
    "collapsed": false
   },
   "outputs": [],
   "source": [
    "# Write your code here"
   ]
  }
 ],
 "metadata": {
  "kernelspec": {
   "display_name": "Python 3",
   "language": "python",
   "name": "python3"
  },
  "language_info": {
   "codemirror_mode": {
    "name": "ipython",
    "version": 3
   },
   "file_extension": ".py",
   "mimetype": "text/x-python",
   "name": "python",
   "nbconvert_exporter": "python",
   "pygments_lexer": "ipython3",
   "version": "3.6.0"
  }
 },
 "nbformat": 4,
 "nbformat_minor": 2
}
