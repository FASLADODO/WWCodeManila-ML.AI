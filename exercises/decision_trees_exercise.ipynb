{
 "cells": [
  {
   "cell_type": "markdown",
   "metadata": {},
   "source": [
    "# Decision Trees Exercise\n",
    "\n",
    "Your task is to build decision tree models for Dataset1 and Dataset2\n",
    "    1. Using entropy as the impurity metric\n",
    "    2. Using gini index as the impurity metric\n",
    "Answer the given questions, then upload your solutions. \n",
    "\n",
    "<b>Exercise Options: </b>\n",
    "1. Solve by hand / calculator (this might take a lot of time!)\n",
    "2. Use python to write functions that compute the entropy, gini index, and information gain.\n",
    "3. (Advanced) Write a program that builds a decision tree!\n",
    "    - Requires some knowledge on recursion, abstract data types\n",
    "\n",
    "\n",
    "<b>Submission</b>\n",
    "1. Draw your decision tree using any graphics app (e.g. MS Paint) or by taking photo (if drawn on paper).   \n",
    "   Include your solution and/or Python code. \n",
    "2. Save your files as a zip file with file name: `[Your Name] - DecisionTree`\n",
    "3. Send your e-mail via gitter: https://gitter.im/WWCodeManila/Machine-Learning-AI (so I can give you write access to our submissions folder)\n",
    "4. Upload the files to the following Dropbox submission folder:https://tinyurl.com/yarmxkbl\n",
    "\n",
    "<b>Questions/ Discussions</b>\n",
    "- You can post questions and or discuss the exercise using gitter: https://gitter.im/WWCodeManila/Machine-Learning-AI\n",
    "\n",
    "<b>Enjoy!</b>"
   ]
  },
  {
   "cell_type": "markdown",
   "metadata": {},
   "source": [
    "## Dataset 1\n",
    "Dataset 1 shows whether or not a file is infected with a computer virus based on its size, writability, and whether or not it has been updated recently.\n",
    "\n",
    "|   \t| Writable \t| Updated \t| Size  \t| Class    \t|\n",
    "|---\t|----------\t|---------\t|-------\t|----------\t|\n",
    "| 1 \t| yes      \t| no      \t| small \t| infected \t|\n",
    "| 2 \t| yes      \t| yes     \t| large \t| infected \t|\n",
    "| 3 \t| no       \t| yes     \t| med   \t| infected \t|\n",
    "| 4 \t| no       \t| no      \t| med   \t| clean    \t|\n",
    "| 5 \t| yes      \t| no      \t| large \t| clean    \t|\n",
    "| 6 \t| no       \t| no      \t| large \t| clean    \t|\n",
    "\n",
    "Would a writable, medium-sized file that has not been updated recently be flagged as infected or not?"
   ]
  },
  {
   "cell_type": "markdown",
   "metadata": {},
   "source": [
    "## Dataset 2\n",
    "Dataset 2 shows the type of vegetation that is likely to grow in areas of land based on the following descriptive features:\n",
    "- Stream - describes whether or not a stream is near the area\n",
    "- Slope - determines whether the slope of the terrain is steep, moderate, or flat\n",
    "- Elevation - determines whether the elevation of the terrain is highest, high, medium, or low\n",
    "\n",
    "|   \t| Stream \t| Slope    \t| Elevation \t| Vegetation \t|\n",
    "|---\t|--------\t|----------\t|-----------\t|------------\t|\n",
    "| 1 \t| False  \t| Steep    \t| High      \t| Chapparal  \t|\n",
    "| 2 \t| True   \t| Moderate \t| Low       \t| Riparian   \t|\n",
    "| 3 \t| True   \t| Steep    \t| Medium    \t| Riparian   \t|\n",
    "| 4 \t| False  \t| Steep    \t| Medium    \t| Chapparal  \t|\n",
    "| 5 \t| False  \t| Flat     \t| High      \t| Conifer    \t|\n",
    "| 6 \t| True   \t| Steep    \t| Highest   \t| Conifer    \t|\n",
    "| 7 \t| True   \t| Steep    \t| High      \t| Chapparal  \t|\n",
    "\n",
    "1. What type of vegetation would likely grow on terrain with a steep slope and medium elevation and is near a stream?\n",
    "2. How about on terrain near a stream with high elevation, moderate slope?"
   ]
  },
  {
   "cell_type": "markdown",
   "metadata": {},
   "source": [
    "## Writing Python Codes (Guide)\n",
    "Make sure to import the math library first."
   ]
  },
  {
   "cell_type": "code",
   "execution_count": null,
   "metadata": {
    "collapsed": true
   },
   "outputs": [],
   "source": [
    "import math"
   ]
  },
  {
   "cell_type": "markdown",
   "metadata": {},
   "source": [
    "### Computing Entropy\n",
    "Write a python function that takes as input a list containing the count of each class for a given subset/node, e.g.,\n",
    "    - [9, 5] to indicate (9 Yes / 5 No)\n",
    "    - [2, 1] to indicate (2 Infected / 1 Clean)\n",
    "    - [2, 3, 2] to indicate (2 Riparian / 3 Chiparian / 2 Conifer)\n",
    "and outputs the entropy:\n",
    "    - if input is [9, 5], output should be 0.940\n",
    "    - if input is [2, 1], output should be 0.918\n",
    "    - if input is [2, 3, 2], output should be 1.5567\n",
    "Hints:\n",
    "    - You'll need to use the log2 function from the math library\n",
    "    - Make sure to handle log2 0 (or you'll get an error)\n",
    "    - The sum() function for lists might come in handy"
   ]
  },
  {
   "cell_type": "code",
   "execution_count": 24,
   "metadata": {
    "collapsed": false
   },
   "outputs": [
    {
     "data": {
      "text/plain": [
       "0"
      ]
     },
     "execution_count": 24,
     "metadata": {},
     "output_type": "execute_result"
    }
   ],
   "source": [
    "def entropy(list_):\n",
    "    # Returns the entropy give the list \n",
    "    # Fill this part in\n",
    "    return 0\n",
    "entropy([9, 5])"
   ]
  },
  {
   "cell_type": "markdown",
   "metadata": {
    "collapsed": true
   },
   "source": [
    "### Computing Information Gain\n",
    "Write a python function that takes two (2) inputs:\n",
    "    1. The 1st input is a list containing the count of each class for the parent node.\n",
    "    2. The 2nd input is a list of lists containing the count of each class for each of the child nodes under the parent node\n",
    "Test cases:\n",
    "    - if input is ([9,5], [[6,2], [3,3]]) output should be 0.0481\n",
    "    - if input is ([3,3], [[2, 1], [1, 2]]), output should be 0.08170\n",
    "    - if input is ([2, 3, 2], [[1, 3, 1], [1, 0, 0], [0, 0, 1]]) output should be 0.5774"
   ]
  },
  {
   "cell_type": "code",
   "execution_count": 23,
   "metadata": {
    "collapsed": false
   },
   "outputs": [
    {
     "data": {
      "text/plain": [
       "0"
      ]
     },
     "execution_count": 23,
     "metadata": {},
     "output_type": "execute_result"
    }
   ],
   "source": [
    "def gain(parent, children):\n",
    "    # Returns the information gain\n",
    "    # Fill this part in\n",
    "    return 0\n",
    "gain([9,5], [[6,2], [3,3]])"
   ]
  },
  {
   "cell_type": "markdown",
   "metadata": {},
   "source": [
    "When you're done, write a function (similar to the `entropy` function) that computes the gini index. "
   ]
  },
  {
   "cell_type": "code",
   "execution_count": null,
   "metadata": {
    "collapsed": true
   },
   "outputs": [],
   "source": []
  }
 ],
 "metadata": {
  "kernelspec": {
   "display_name": "Python 3",
   "language": "python",
   "name": "python3"
  },
  "language_info": {
   "codemirror_mode": {
    "name": "ipython",
    "version": 3
   },
   "file_extension": ".py",
   "mimetype": "text/x-python",
   "name": "python",
   "nbconvert_exporter": "python",
   "pygments_lexer": "ipython3",
   "version": "3.6.0"
  }
 },
 "nbformat": 4,
 "nbformat_minor": 2
}
