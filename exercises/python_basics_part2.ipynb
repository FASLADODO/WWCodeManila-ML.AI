{
 "cells": [
  {
   "cell_type": "markdown",
   "metadata": {},
   "source": [
    "## Python Basics Exercise Part 2\n",
    "\n",
    "Main Resource: [Python Numpy Tutorial](http://cs231n.github.io/python-numpy-tutorial/)\n",
    "\n",
    "Python is a great general-purpose programming language on its own, but with the help of a few popular libraries (numpy, scipy, matplotlib) it becomes a powerful environment for scientific computing.\n",
    "\n",
    "This section will serve as a quick crash course both on the Python programming language and on the use of Python for scientific computing. "
   ]
  },
  {
   "cell_type": "markdown",
   "metadata": {},
   "source": [
    "## Python Containers\n",
    "\n",
    "Section Resource: [Containers tutorial](http://cs231n.github.io/python-numpy-tutorial/#python-containers)"
   ]
  },
  {
   "cell_type": "markdown",
   "metadata": {},
   "source": [
    "### Lists\n",
    "Given the list:\n",
    "```python\n",
    "fib = [1, 1, 2, 3, 5, 8, 13]\n",
    "```\n",
    "1. Print the 3rd element in the list. \n",
    "2. Replace the 3rd element with the string \"`python`\"\n",
    "3. Add the new string element \"`pandas`\" to the list\n",
    "4. Remove and return the last element of the list.\n",
    "5. Using negative indices, print the last element and the second to the last element in the list.\n",
    "6. Get the sum of the last element and the second to the last element in the list. Append this value to the list. "
   ]
  },
  {
   "cell_type": "markdown",
   "metadata": {},
   "source": [
    "### Slicing\n",
    "1. Using Python built-in function `range`, create a new list containing integers 10 to 20 (inclusive). Print the list.\n",
    "2. Get slice from index 4 to 8 (inclusive)\n",
    "3. Get slice from index 4 to the end.\n",
    "4. Get slice from the start to index 4 (inclusive).\n",
    "5. Repeat Number 4 using negative indices.\n",
    "6. Get slice of the whole list. \n",
    "7. Assign new sublist `[2, 3, 4]` to the slice starting at index 2 until index 4"
   ]
  },
  {
   "cell_type": "markdown",
   "metadata": {},
   "source": [
    "### Loops\n",
    "Given the list:\n",
    "```python\n",
    "dogs = ['maltese', 'shih tzu', 'husky', 'shiba inu', 'mixed breed']\n",
    "nums = [0, 1, 4, 9, 16, 25, 36, 49, 64, 81, 100]\n",
    "```\n",
    "\n",
    "1. Using loops, iterate over each element in `dogs` and print them.\n",
    "2. Using loops, print the index of each element in `dogs` within the body of a loop along with the element.\n",
    "3. Create an empty list, and using loops, fill this list with the sqare root of each element in the `nums` list (i.e. $\\sqrt{0}$, $\\sqrt{1}$, $\\sqrt{4}$ ...)\n",
    "4. Repeat Number 3 using list comprehension.\n",
    "5. Using list comprehension, create a list of all odd numbers from 0 to 20."
   ]
  },
  {
   "cell_type": "markdown",
   "metadata": {},
   "source": [
    "### Dictionaries \n",
    "\n",
    "Given the a dictionary with (key,value) pairs where the key represents a woman and the value is the her profession:\n",
    "```python\n",
    "professions = {'Marie Curie': 'Chemist','Lise Meitner': 'Physicist', 'Ada Lovelace': 'Mathematician', 'Jocelyn Bell Burnell': 'Astrophysicist'}\n",
    "```\n",
    "\n",
    "1. Retrieve the profession of Ada Lovelace.\n",
    "2. Check if the dictionary contains the key \"`Margaret Hamilton`\".\n",
    "3. Set a new entry in the dictionary with key \"`Margaret Hamilton`\" having a profession of \"`Computer Programmer`\".\n",
    "4. Delete key \"`Lise Meitner`\" from the dictionary.\n",
    "5. Using loops, iterate over the dictionary and print each person's name along with their profession.\n",
    "6. Using dictionary comprehension, for the following list:\n",
    "```python\n",
    "nums = [0, 1, 4, 9, 16, 25, 36, 49, 64, 81, 100]\n",
    "```\n",
    "Create a new dictionary having the elements in `nums` as the keys and their respective sqare roots as the values."
   ]
  },
  {
   "cell_type": "markdown",
   "metadata": {},
   "source": [
    "### Sets\n",
    "1. Using set comprehension, create a new set containing the key values in dictionary `professions`\n",
    "2. Add \"`Lise Meitner`\" to the set. \n",
    "3. Remove \"`Marie Curie`\" from the set."
   ]
  },
  {
   "cell_type": "markdown",
   "metadata": {},
   "source": [
    "### [Continue to Part 3 (Functions)](https://github.com/wwcodemanila/WWCodeManila-ML.AI/blob/master/exercises/python_basics_part3.ipynb)"
   ]
  }
 ],
 "metadata": {
  "kernelspec": {
   "display_name": "Python 3",
   "language": "python",
   "name": "python3"
  },
  "language_info": {
   "codemirror_mode": {
    "name": "ipython",
    "version": 3
   },
   "file_extension": ".py",
   "mimetype": "text/x-python",
   "name": "python",
   "nbconvert_exporter": "python",
   "pygments_lexer": "ipython3",
   "version": "3.6.0"
  }
 },
 "nbformat": 4,
 "nbformat_minor": 2
}
