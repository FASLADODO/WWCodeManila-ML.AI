{
 "cells": [
  {
   "cell_type": "markdown",
   "metadata": {},
   "source": [
    "# Python Basics Exercise Part 2\n",
    "\n",
    "<b>Resources:</b> \n",
    "- [Python/Numpy Tutorial](http://cs231n.github.io/python-numpy-tutorial/)\n",
    "- [Python Study Group Tutorials](https://github.com/wwcodemanila/WWCodeManila-Python)"
   ]
  },
  {
   "cell_type": "markdown",
   "metadata": {},
   "source": [
    "## Python Containers: Lists, Dictionaries"
   ]
  },
  {
   "cell_type": "markdown",
   "metadata": {},
   "source": [
    "#### Exercise 1: Caesar's Cipher\n",
    "---\n",
    "Using dictionaries and string manipulation, create a program that takes as input a message (plaintext) and outputs the resulting encrypted text based on the cipher provided below. \n",
    "\n",
    "![alt text](images/caesar_cipher.jpg)\n",
    "\n",
    "Example\n",
    "```python\n",
    "Enter message here: PYTHON\n",
    "The encoded text is: sbwkrq\n",
    "\n",
    "Enter message here: I LOVE PYTHON\n",
    "The encoded text is: l orzh sbwkrq\n",
    "```"
   ]
  },
  {
   "cell_type": "code",
   "execution_count": null,
   "metadata": {
    "collapsed": false
   },
   "outputs": [],
   "source": [
    "# Write your code here"
   ]
  },
  {
   "cell_type": "markdown",
   "metadata": {},
   "source": [
    "#### Exercise 2: Frequency Counter\n",
    "---\n",
    "Write a program that computes the frequency of the words from the input. For simplicity, we define words to be a sequence of substrings separated by a white space (' '). Bonus points if you can remove punctuation marks and make the frequency counter NOT case sensitive (e.g. \"you\" and \"You\" are the same word).\n",
    "\n",
    "Example\n",
    "```\n",
    "Enter message: Do you use Python 2? You should use Python 3!\n",
    "Output:\n",
    "    do: 1\n",
    "    you: 2\n",
    "    use: 2\n",
    "    python: 2\n",
    "    2: 1\n",
    "    should: 1\n",
    "    3: 1\n",
    "```"
   ]
  },
  {
   "cell_type": "code",
   "execution_count": null,
   "metadata": {
    "collapsed": false
   },
   "outputs": [],
   "source": [
    "# Write your code here"
   ]
  },
  {
   "cell_type": "markdown",
   "metadata": {},
   "source": [
    "### [Continue to Part 3 (Functions)](https://github.com/wwcodemanila/WWCodeManila-ML.AI/blob/master/exercises/python_basics_part3.ipynb)"
   ]
  }
 ],
 "metadata": {
  "kernelspec": {
   "display_name": "Python 3",
   "language": "python",
   "name": "python3"
  },
  "language_info": {
   "codemirror_mode": {
    "name": "ipython",
    "version": 3
   },
   "file_extension": ".py",
   "mimetype": "text/x-python",
   "name": "python",
   "nbconvert_exporter": "python",
   "pygments_lexer": "ipython3",
   "version": "3.6.0"
  }
 },
 "nbformat": 4,
 "nbformat_minor": 2
}
