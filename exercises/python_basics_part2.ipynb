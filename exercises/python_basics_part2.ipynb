{
 "cells": [
  {
   "cell_type": "markdown",
   "metadata": {},
   "source": [
    "# Python Basics Exercise Part 2\n",
    "\n",
    "<b>Resources:</b> [[Python/Numpy Tutorial](http://cs231n.github.io/python-numpy-tutorial/)], [[Python Study Group Tutorials](https://github.com/wwcodemanila/WWCodeManila-Python)]\n",
    "\n",
    "Python is a great general-purpose programming language on its own, but with the help of a few popular libraries (numpy, scipy, matplotlib) it becomes a powerful environment for scientific computing.\n",
    "\n",
    "These exercises will serve as a quick crash course both on the Python programming language and on the use of Python for scientific computing. "
   ]
  },
  {
   "cell_type": "markdown",
   "metadata": {},
   "source": [
    "## Python Containers: Lists, Dictionaries"
   ]
  },
  {
   "cell_type": "markdown",
   "metadata": {},
   "source": [
    "#### Exercise 1: List Slicing\n",
    "---\n",
    "1. Using Python built-in function `range`, create a new list containing integers 10 to 20 (inclusive), i.e. `[10, 11, ..., 19, 20]`\n",
    "2. Print the slice from index 4 to 8 (inclusive)\n",
    "3. Print the slice from index 4 to the end.\n",
    "4. Print the slice from the start to index 4 (inclusive).\n",
    "5. Repeat Number 4 using negative indices.\n",
    "6. Get the slice of the whole list. \n",
    "7. Assign new sublist `[2, 3, 4]` to the slice starting at index 2 until index 4\n",
    "\n",
    "<b>Hint</b>: [[Python range and list slicing](http://cs231n.github.io/python-numpy-tutorial/#python-lists)]"
   ]
  },
  {
   "cell_type": "code",
   "execution_count": 1,
   "metadata": {
    "collapsed": false
   },
   "outputs": [],
   "source": [
    "# Write your code here"
   ]
  },
  {
   "cell_type": "markdown",
   "metadata": {},
   "source": [
    "#### Exercise 2: List Comprehension\n",
    "---\n",
    "Consider the list:\n",
    "```python\n",
    "x = [1, 4, 9, 16, 25, 36, 49, 64, 81, 100]\n",
    "``` \n",
    "Take this list `x` and makes a new list that has only the even elements of this list in it.\n",
    "- Challenge 1: When you've finished, try accomplishing this using only one line of Python code.\n",
    "- Challenge 2: Create a list of all odd numbers from 0 to 50 using only one line of Python code.\n",
    "\n",
    "<b>Hint</b>: [[List Comprehension](http://cs231n.github.io/python-numpy-tutorial/#python-lists)]"
   ]
  },
  {
   "cell_type": "code",
   "execution_count": 2,
   "metadata": {
    "collapsed": false
   },
   "outputs": [],
   "source": [
    "# Write your code here"
   ]
  },
  {
   "cell_type": "markdown",
   "metadata": {},
   "source": [
    "#### Exercise 3: Dictionaries \n",
    "---\n",
    "Given the a dictionary with (key,value) pairs where the key represents a woman and the value is the her profession:\n",
    "```python\n",
    "professions = {\n",
    "    'Marie Curie': 'Chemist',\n",
    "    'Lise Meitner': 'Physicist', \n",
    "    'Ada Lovelace': 'Mathematician', \n",
    "    'Jocelyn Bell Burnell': 'Astrophysicist'\n",
    "    }\n",
    "```\n",
    "\n",
    "1. Print the profession of Ada Lovelace.\n",
    "2. Set a new entry in the dictionary with key \"`Margaret Hamilton`\" having a profession of \"`Computer Programmer`\".\n",
    "3. Delete key \"`Lise Meitner`\" from the dictionary.\n",
    "4. Using loops, iterate over the dictionary and print each person's name along with their profession.\n",
    "5. Using dictionary comprehension, for the following list:\n",
    "```python\n",
    "nums = [0, 1, 4, 9, 16, 25, 36, 49, 64, 81, 100]\n",
    "```\n",
    "Create a new dictionary having the elements in `nums` as the keys and their respective sqare roots as the values."
   ]
  },
  {
   "cell_type": "code",
   "execution_count": 3,
   "metadata": {
    "collapsed": false
   },
   "outputs": [],
   "source": [
    "# Write your code here"
   ]
  },
  {
   "cell_type": "markdown",
   "metadata": {},
   "source": [
    "### [Continue to Part 3 (Functions)](https://github.com/wwcodemanila/WWCodeManila-ML.AI/blob/master/exercises/python_basics_part3.ipynb)"
   ]
  }
 ],
 "metadata": {
  "kernelspec": {
   "display_name": "Python 2",
   "language": "python",
   "name": "python2"
  },
  "language_info": {
   "codemirror_mode": {
    "name": "ipython",
    "version": 2
   },
   "file_extension": ".py",
   "mimetype": "text/x-python",
   "name": "python",
   "nbconvert_exporter": "python",
   "pygments_lexer": "ipython2",
   "version": "2.7.13"
  }
 },
 "nbformat": 4,
 "nbformat_minor": 2
}
