{
 "cells": [
  {
   "cell_type": "markdown",
   "metadata": {},
   "source": [
    "# MNIST Exercise \n",
    "\n",
    "#### Task\n",
    "Using our [iris classification code](https://github.com/wwcodemanila/WWCodeManila-ML.AI/blob/master/tutorials/Intro-to-Machine-Learning.ipynb) as a template,\n",
    "create a Handwritten Digit Recognizer using the mnist dataset (dataset/mnist.csv) using different classifiers. \n",
    "\n",
    "#### About the MNIST dataset \n",
    "Source: [https://www.kaggle.com/c/digit-recognizer/data](https://www.kaggle.com/c/digit-recognizer/data)\n",
    "- The data file `mnist.csv` contains grey-scale images of hand-drawn digits, from 0 through 9. \n",
    "    - Each image is 28 x 28 pixels, for a total of 784 pixels. \n",
    "    - Each pixel has a single pixel-value, indicating the lightness or darkness of that pixel, with higher numbers meaning darker. \n",
    "    - Each pixel-value is an integer between 0 and 255, inclusive.\n",
    "    \n",
    "    \n",
    "- <b>Features</b>:  784 pixels values\n",
    "- <b>Classes</b>: Labels 0-9 (first column of the dataset)\n",
    "\n",
    "#### Visualizing a sample (optional)\n",
    "After loading the dataset, you can visualize a row/sample `i`, which can be any value from 0 to 42000, using the following code snippet:\n",
    "\n",
    "    import matplotlib.pyplot as plt\n",
    "    i = 8 #8th row in the dataset\n",
    "    image_data = dataframe.iloc[:, 1:]\n",
    "    img = image_data.iloc[i].as_matrix()\n",
    "    img = img.reshape((28, 28))\n",
    "    plt.imshow(img, cmap='gray_r')\n",
    "    plt.title('Class label: ' + str(dataframe.iloc[i, 0]))\n",
    "    plt.show()"
   ]
  },
  {
   "cell_type": "code",
   "execution_count": 1,
   "metadata": {
    "collapsed": false
   },
   "outputs": [],
   "source": [
    "filename = '../datasets/mnist.csv'"
   ]
  }
 ],
 "metadata": {
  "kernelspec": {
   "display_name": "Python 3",
   "language": "python",
   "name": "python3"
  },
  "language_info": {
   "codemirror_mode": {
    "name": "ipython",
    "version": 3
   },
   "file_extension": ".py",
   "mimetype": "text/x-python",
   "name": "python",
   "nbconvert_exporter": "python",
   "pygments_lexer": "ipython3",
   "version": "3.6.0"
  }
 },
 "nbformat": 4,
 "nbformat_minor": 2
}
