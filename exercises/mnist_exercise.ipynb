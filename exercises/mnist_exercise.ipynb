{
 "cells": [
  {
   "cell_type": "markdown",
   "metadata": {},
   "source": [
    "# MNIST Exercise \n",
    "\n",
    "<b>Goal</b>: Using our iris classification code from the first session ([complete code can be found here](https://github.com/wwcodemanila/WWCodeManila-ML.AI/blob/master/tutorials/Intro-to-Machine-Learning.ipynb)) as a template,\n",
    "create a Handwritten Digit Recognizer using the mnist dataset (dataset/mnist.csv) using different classifiers. \n",
    "\n",
    "About the MNIST dataset:\n",
    "The data files mnist.csv contains grey-scale images of hand-drawn digits, from 0 through 9. \n",
    "Each image is 28 x 28 pixels, for a total of 784 pixels. \n",
    "Each pixel has a single pixel-value, indicating the lightness or darkness of that pixel, with higher numbers meaning darker. \n",
    "Each pixel-value is an integer between 0 and 255, inclusive.\n",
    "\n",
    "[More information in the Kaggle website.](https://www.kaggle.com/c/digit-recognizer/data)\n",
    "\n",
    "- Features/attributes:  784 pixels values\n",
    "- Classes: Labels 0-9 (first column of the dataset)\n",
    "\n",
    "<b>Tip</b>: After loading the dataset, you can visualize an instance `i` in `[0, 42000]` using the following code snippet (make sure you import `matplotlib.pyplot as plt` at the beginning of the script):\n",
    "\n",
    "    i = 8 #8th row in the dataset\n",
    "    image_data = dataframe.iloc[:, 1:]\n",
    "    img = image_data.iloc[i].as_matrix()\n",
    "    img = img.reshape((28, 28))\n",
    "    plt.imshow(img, cmap='gray_r')\n",
    "    plt.title('Class label: ' + str(dataframe.iloc[i, 0]))\n",
    "    plt.show()\n",
    "\n",
    "Enjoy! (ง •̀ω•́)ง✧"
   ]
  },
  {
   "cell_type": "code",
   "execution_count": 9,
   "metadata": {
    "collapsed": false
   },
   "outputs": [],
   "source": [
    "filename = '../datasets/mnist.csv'"
   ]
  }
 ],
 "metadata": {
  "kernelspec": {
   "display_name": "Python 2",
   "language": "python",
   "name": "python2"
  },
  "language_info": {
   "codemirror_mode": {
    "name": "ipython",
    "version": 2
   },
   "file_extension": ".py",
   "mimetype": "text/x-python",
   "name": "python",
   "nbconvert_exporter": "python",
   "pygments_lexer": "ipython2",
   "version": "2.7.13"
  }
 },
 "nbformat": 4,
 "nbformat_minor": 2
}
