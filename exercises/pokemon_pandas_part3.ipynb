{
 "cells": [
  {
   "cell_type": "markdown",
   "metadata": {},
   "source": [
    "## Learning Pandas with Pokemon - Part 3\n",
    "Continuation of [Learning Pandas with Pokemon - Part 2](https://github.com/wwcodemanila/WWCodeManila-ML.AI/blob/master/exercises/pokemon_pandas_part2.ipynb).\n",
    "\n",
    "### Selection by Characteristic\n",
    "Retrieve the name and statistics of the Pokemon as requested below.\n",
    "\n",
    "<b>Bonus Challenge</b>: If there are more than one Pokemon for each category, (e.g. there may be multiple Pokemon sharing the same highest Total value), print all of them.\n",
    "\n",
    "1. Strongest Pokemon (i.e. has the highest 'Total' value) \n",
    "2. Choose 3 to answer among the following: \n",
    "    - Pokemon with the highest HP\n",
    "    - Pokemon with the highest Attack\n",
    "    - Pokemon with the highest Defense\n",
    "    - Pokemon with the highest Special Attack\n",
    "    - Pokemon with the highest Special Defense\n",
    "    - Pokemon with the highest Speed \n",
    "3. For item 1 and 2, get their lowest counterparts.\n",
    "4. Print the top 10 strongest Pokemon in descending order. \n",
    "5. Print the top 10 weakest Pokemon in ascending order.\n",
    "6. Print the top 10 strongest legendary Pokemon in descending order. \n",
    "7. Which is the strongest Psychic non-legendary non-Mega Pokemon?  [Hint](https://stackoverflow.com/questions/17097643/search-for-does-not-contain-on-a-dataframe-in-pandas)\n",
    "8. Which is the strongest legenday Fire Pokemon from Generation 1?\n",
    "\n",
    "<b>Bonus:</b> Have questions of your own? (e.g. Which is the strongest Water Pokemon?) Answer them here!\n",
    "\n",
    "### Final Challenge\n",
    "Suppose Professor Oak allows you to choose 5 Pokemon from his entire collection to be in your starter team. However, he has the following restrictions:\n",
    "- Your first pokemon must be one of the 1st generation starter pokemon: <b>Bulbasaur, Squirtle, Charmander, Pikachu, Eevee</b>\n",
    "- You cannot choose a legendary Pokemon or a Pokemon whose name contains the word \"Mega\" to be in your team.\n",
    "- No two Pokemon can have the same Primary type.\n",
    "- You can only have at most 2 Pokemon from the same generation.\n",
    "- <b>Bonus Challenge </b>: If you chose Eevee, who will you evolve it to? You can check out [Eevee's evolve forms here](https://www.bustle.com/articles/174759-what-are-the-different-eevee-evolutions-vaporeon-flareon-and-jolteon-arent-the-only-ones). \n",
    "\n",
    "#### Your Task\n",
    "1. Mine the dataset for additional information.\n",
    "2. Using what you've discovered, which 5 Pokemon will you choose and why? \n",
    "\n",
    "### Congrats on finishing the exercise!"
   ]
  },
  {
   "cell_type": "code",
   "execution_count": null,
   "metadata": {
    "collapsed": true
   },
   "outputs": [],
   "source": []
  }
 ],
 "metadata": {
  "kernelspec": {
   "display_name": "Python 3",
   "language": "python",
   "name": "python3"
  }
 },
 "nbformat": 4,
 "nbformat_minor": 2
}
