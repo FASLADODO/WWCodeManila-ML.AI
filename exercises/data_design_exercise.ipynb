{
 "cells": [
  {
   "cell_type": "markdown",
   "metadata": {},
   "source": [
    "# Data + Design"
   ]
  },
  {
   "cell_type": "markdown",
   "metadata": {},
   "source": [
    "Before jumping into the code, it's important to gain a fundamental understanding of basic data collection, preparation, transformation, and visualization. The online book [Data + Design: A simple introduction to preparing and visualizing information](https://infoactive.co/data-design/titlepage01.html) is extremely valuable in giving an overview of the practice. \n",
    "\n",
    "The content is simple, approachable, and appeals to those experienced in data science as well as to self-identified “non-math people” looking for a resource that could introduce them to rudimentary data concepts.\n",
    "\n",
    "<b>Your task</b>: Read through each chapter of the online book [Data + Design](https://infoactive.co/data-design/titlepage01.html) and take note of the important points. The goal of this exercise is to help you gain, organize, and retain new information through note-taking. \n",
    "\n",
    "<b>Note</b>: Don't worry if you don't finish all 7 chapters in one study group session. You can always attend the next sessions or finish the exercise at home.\n",
    "\n",
    "Lastly, be prepared to present what you've learned to the study group. By explaining what you've learned in your own words, you may be able to help others understand these new concepts!"
   ]
  },
  {
   "cell_type": "markdown",
   "metadata": {},
   "source": [
    "#### For Beginners\n",
    "---\n",
    "For the absolute beginners to data science, we highly recommend reading each chapter carefully. Take notes if you want. :)"
   ]
  },
  {
   "cell_type": "markdown",
   "metadata": {},
   "source": [
    "#### Advanced \n",
    "---\n",
    "For those with experience in data science, you may opt to skim/scan the book and take note of information that is new to you or that you find interesting. You may also share some of your own experience relating to the topics discussed. "
   ]
  }
 ],
 "metadata": {
  "kernelspec": {
   "display_name": "Python 2",
   "language": "python",
   "name": "python2"
  },
  "language_info": {
   "codemirror_mode": {
    "name": "ipython",
    "version": 2
   },
   "file_extension": ".py",
   "mimetype": "text/x-python",
   "name": "python",
   "nbconvert_exporter": "python",
   "pygments_lexer": "ipython2",
   "version": "2.7.13"
  }
 },
 "nbformat": 4,
 "nbformat_minor": 2
}
