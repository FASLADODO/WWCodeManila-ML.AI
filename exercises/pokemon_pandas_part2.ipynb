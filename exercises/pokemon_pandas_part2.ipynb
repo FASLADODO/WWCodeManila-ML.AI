{
 "cells": [
  {
   "cell_type": "markdown",
   "metadata": {},
   "source": [
    "## Learning Pandas with Pokemon - Part 2\n",
    "Continuation of [Learning Pandas with Pokemon - Part 1](https://github.com/wwcodemanila/WWCodeManila-ML.AI/blob/master/exercises/pokemon_pandas_part1.ipynb).\n",
    "\n",
    "### Selection by Type\n",
    "Note: For the following items, refer to [this tutorial](http://nbviewer.jupyter.org/github/jvns/pandas-cookbook/blob/v0.1/cookbook/Chapter%203%20-%20Which%20borough%20has%20the%20most%20noise%20complaints%3F%20%28or%2C%20more%20selecting%20data%29.ipynb).\n",
    "1. Retrieve the first 3 Pokemon in the dataset whose Primary type is 'Psychic'. \n",
    "2. Retrieve the first 3 Fire Type Pokemon (i.e. either Primary type is Fire or Secondary type is Fire)\n",
    "5. Retrieve the row data of <b>Vulpix</b> and <b>Ninetales</b> in a single table. [Hint: use df.index]\n",
    "3. How many Pokemon are there that are both Bug type and Flying type? \n",
    "4. How many Pokemon are either Dragon type or Flying type?\n",
    "5. How many Pokemon are Water Type and have an attack greater than 100? \n",
    "6. - What are your favorite Pokemon Types? \n",
    "   - Choose one (or two) types, and retrieve all Pokemon that fit that criteria. \n",
    "   - e.g. \"I like Pokemon that are both Psychic and Flying\".\n",
    "\n",
    "### Selection by Characteristic\n",
    "Retrieve the name and statistics of the Pokemon as requested below.\n",
    "\n",
    "<b>Bonus Challenge</b>: If there are more than one Pokemon for each category, (e.g. there might be more than one Pokemon sharing the same highest Total value), print all of them.\n",
    "\n",
    "1. Strongest Pokemon (i.e. has the highest 'Total' value) \n",
    "2. Pokemon with the highest HP\n",
    "3. Pokemon with the highest Attack\n",
    "4. Pokemon with the highest Defense\n",
    "5. Pokemon with the highest Special Attack\n",
    "6. Pokemon with the highest Special Defense\n",
    "7. Pokemon with the highest Speed \n",
    "8. For items 1-7, get their lowest counterpart.\n",
    "9. Print the top 10 strongest Pokemon in descending order. \n",
    "10. Print the top 10 weakest Pokemon in ascending order.\n",
    "11. Print the top 10 strongest legendary Pokemon in descending order. \n",
    "12. Which is the strongest Psychic non-legendary non-Mega Pokemon?  [Hint](https://stackoverflow.com/questions/17097643/search-for-does-not-contain-on-a-dataframe-in-pandas)\n",
    "13. Which is the strongest legenday Fire Pokemon from Generation 1?\n",
    "\n",
    "<b>Bonus:</b> Have questions of your own? (e.g. Which is the strongest Water Pokemon?) Answer them here!\n",
    "\n",
    "### Final Challenge\n",
    "Suppose Professor Oak allows you to choose 5 Pokemon from his entire collection to be in your starter team. However, he has the following restrictions:\n",
    "- Your first pokemon must be one of the 1st generation starter pokemon: <b>Bulbasaur, Squirtle, Charmander, Pikachu, Eevee</b>\n",
    "- You cannot choose a legendary Pokemon or a Pokemon whose name contains the word \"Mega\" to be in your team.\n",
    "- No two Pokemon can have the same Primary type.\n",
    "- You can only have at most 2 Pokemon from the same generation.\n",
    "- <b>Bonus Challenge </b>: If you chose Eevee, who will you evolve it to? You can check out [Eevee's evolve forms here](https://www.bustle.com/articles/174759-what-are-the-different-eevee-evolutions-vaporeon-flareon-and-jolteon-arent-the-only-ones). \n",
    "\n",
    "#### You Task\n",
    "1. Mine the dataset for additional information.\n",
    "2. Using what you've discovered, which 5 Pokemon will you choose and why? \n",
    "\n",
    "### Congrats on finishing the exercise!"
   ]
  },
  {
   "cell_type": "code",
   "execution_count": null,
   "metadata": {
    "collapsed": true
   },
   "outputs": [],
   "source": []
  }
 ],
 "metadata": {
  "kernelspec": {
   "display_name": "Python 3",
   "language": "python",
   "name": "python3"
  },
  "language_info": {
   "codemirror_mode": {
    "name": "ipython",
    "version": 3
   },
   "file_extension": ".py",
   "mimetype": "text/x-python",
   "name": "python",
   "nbconvert_exporter": "python",
   "pygments_lexer": "ipython3",
   "version": "3.6.0"
  }
 },
 "nbformat": 4,
 "nbformat_minor": 2
}
