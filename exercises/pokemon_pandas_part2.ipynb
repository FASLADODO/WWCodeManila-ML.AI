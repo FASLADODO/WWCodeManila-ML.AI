{
 "cells": [
  {
   "cell_type": "markdown",
   "metadata": {},
   "source": [
    "## Learning Pandas with Pokemon - Part 2\n",
    "Continuation of [Learning Pandas with Pokemon - Part 1](https://github.com/wwcodemanila/WWCodeManila-ML.AI/blob/master/exercises/pokemon_pandas_part1.ipynb).\n",
    "\n",
    "### More on Selection and Counting\n",
    "Note: For the following items, refer to [this tutorial](http://nbviewer.jupyter.org/github/jvns/pandas-cookbook/blob/v0.1/cookbook/Chapter%202%20-%20Selecting%20data%20&%20finding%20the%20most%20common%20complaint%20type.ipynb).\n",
    "\n",
    "1. Select just the 'Total' column of the first 5 Pokemon. [Hint](http://nbviewer.jupyter.org/github/jvns/pandas-cookbook/blob/v0.1/cookbook/Chapter%202%20-%20Selecting%20data%20&%20finding%20the%20most%20common%20complaint%20type.ipynb#2.2-Selecting-columns-and-rows)\n",
    "2. Select just the Total and HP columns of the first 5 Pokemon. [Hint](http://nbviewer.jupyter.org/github/jvns/pandas-cookbook/blob/v0.1/cookbook/Chapter%202%20-%20Selecting%20data%20&%20finding%20the%20most%20common%20complaint%20type.ipynb#2.3-Selecting-multiple-columns)\n",
    "3. How many Pokemon are Legendary types? How many are not? [Hint](http://nbviewer.jupyter.org/github/jvns/pandas-cookbook/blob/v0.1/cookbook/Chapter%202%20-%20Selecting%20data%20&%20finding%20the%20most%20common%20complaint%20type.ipynb#2.4-What's-the-most-common-complaint-type?)\n",
    "4. How many Pokemon belong to each Generation? \n",
    "5. How many Pokemon belong to each Primary type?\n",
    "6. How many Pokemon belong to each Secondary type, and how many Pokemon <i>don't have</i> a Secondary type?\n",
    "7. How many Pokemon belong to each Type in general (i.e. combine Primary and Secondary types)? [Hint1](https://pandas.pydata.org/pandas-docs/stable/generated/pandas.Series.add.html) [Hint2](https://stackoverflow.com/questions/20235401/remove-nan-from-pandas-series)\n",
    "8. What's the most common Type of Pokemon?\n",
    "\n",
    "<b>Challenge: </b> Plot the bar graphs for items 3, 4, and 7! \n",
    "- Label the axes properly [Hint](https://stackoverflow.com/questions/42223587/plt-scatter-how-to-add-title-and-xlabel-and-ylabel)\n",
    "- Make sure to call `plt.show()` if you're using jupyter notebook.\n",
    "- Plus points if you can order the elements in the bar plot in descending order (i.e. highest first) [Hint1](https://pandas.pydata.org/pandas-docs/stable/generated/pandas.Series.sort_values.html) [Hint2](https://stackoverflow.com/questions/22149584/what-does-axis-in-pandas-mean)\n",
    "- Afterwards, try plotting only the top 10 elements in each graph.\n",
    "\n",
    "### Selection by Type\n",
    "Note: For the following items, refer to [this tutorial](http://nbviewer.jupyter.org/github/jvns/pandas-cookbook/blob/v0.1/cookbook/Chapter%203%20-%20Which%20borough%20has%20the%20most%20noise%20complaints%3F%20%28or%2C%20more%20selecting%20data%29.ipynb).\n",
    "1. Retrieve the first 3 Pokemon in the dataset whose Primary type is 'Psychic'. \n",
    "2. Retrieve the first 3 Fire Type Pokemon (i.e. either Primary type is Fire or Secondary type is Fire)\n",
    "3. Retrieve the row data of <b>Vulpix</b> and <b>Ninetales</b> in a single table. [Hint: use df.index]\n",
    "4. How many Pokemon are there that are both Bug type and Flying type? \n",
    "5. How many Pokemon are either Dragon type or Flying type?\n",
    "6. How many Pokemon are Water Type and have an attack greater than 100? \n",
    "7. - What are your favorite Pokemon Types? \n",
    "   - Choose one (or two) types, and retrieve all Pokemon that fit that criteria. \n",
    "   - e.g. \"I like Pokemon that are both Psychic and Flying\".\n",
    "   \n",
    "###  Congrats on making it this far! [Click here for Part 3.](https://github.com/wwcodemanila/WWCodeManila-ML.AI/blob/master/exercises/pokemon_pandas_part3.ipynb)"
   ]
  }
 ],
 "metadata": {
  "kernelspec": {
   "display_name": "Python 3",
   "language": "python",
   "name": "python3"
  },
  "language_info": {
   "codemirror_mode": {
    "name": "ipython",
    "version": 3
   },
   "file_extension": ".py",
   "mimetype": "text/x-python",
   "name": "python",
   "nbconvert_exporter": "python",
   "pygments_lexer": "ipython3",
   "version": "3.6.0"
  }
 },
 "nbformat": 4,
 "nbformat_minor": 2
}
