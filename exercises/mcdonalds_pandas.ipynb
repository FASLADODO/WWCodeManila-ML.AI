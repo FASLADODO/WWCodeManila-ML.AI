{
 "cells": [
  {
   "cell_type": "markdown",
   "metadata": {},
   "source": [
    "## Learning Pandas with McDonalds\n",
    "\n",
    "### What is pandas?\n",
    "In computer programming, pandas is a software library written for the Python programming language for data manipulation and analysis. In particular, it offers data structures and operations for manipulating numerical tables and time series. It is free software released under the three-clause BSD license. The name is derived from the term \"<b>pan</b>el <b>da</b>ta\", an econometrics term for multidimensional, structured data sets. (Source: wikipedia)"
   ]
  },
  {
   "cell_type": "markdown",
   "metadata": {},
   "source": [
    "### Today, we'll be exploring the Mcdonalds Dataset! \n",
    "![alt text](images/mcdonalds.jpg)\n",
    "\n",
    "The purpose of this exercise to help you become more aware of the nutritional value of the food choices you make when ordering at McDonald's... all while using pandas! "
   ]
  },
  {
   "cell_type": "markdown",
   "metadata": {},
   "source": [
    "#### About the Dataset: \n",
    "---\n",
    "This dataset provides a nutrition analysis of every menu item on the US McDonald's menu, including breakfast, beef burgers, chicken and fish sandwiches, fries, salads, soda, coffee and tea, milkshakes, and desserts.\n",
    "\n",
    "The menu items and nutrition facts were scraped from the McDonald's website.\n",
    "\n",
    "<b>Source</b>: https://www.kaggle.com/mcdonalds/nutrition-facts"
   ]
  },
  {
   "cell_type": "markdown",
   "metadata": {},
   "source": [
    "#### Understanding Nutritional Facts\n",
    "---\n",
    "- [Guide to Nutritional Facts](https://www.fda.gov/Food/IngredientsPackagingLabeling/LabelingNutrition/ucm274593.htm)\n",
    "\n",
    "\n",
    "- <b>Percent (%) Daily Value (DV)</b> \n",
    "    - A guide to the nutrients in one serving of food.\n",
    "    - If the label lists <i>15% for calcium</i>, it means that one serving provides <i>15% of the calcium you need each day</i>.\n",
    "    - %DVs are based on a 2,000-calorie diet for healthy adults.\n",
    "    - %DVs also tell you whether a food is high or low in a specific nutrient:\n",
    "        - 5 percent or less of a nutrient is low.\n",
    "        - 20 percent or more of a nutrient is high.\n",
    "    - Note: The FDA hasn't set a DV for trans fat because experts recommend that Americans avoid foods with trans fat.\n",
    "    - It is highly recommended that you get in the habit of checking DVs to choose foods \n",
    "        - high in vitamins, minerals and fiber\n",
    "        - low in saturated fat, added sugar and sodium [[Source](https://www.mayoclinic.org/healthy-lifestyle/nutrition-and-healthy-eating/expert-answers/food-and-nutrition/faq-20058436)]\n",
    "        \n",
    "        \n",
    "- <b>Calories vs Calories from Fat</b>\n",
    "    - <b>Calories</b> stands for the total calories in one serving from all sources-fat, carbohydrates, and protein\n",
    "    - <b>Calories from fat</b> stands for just the calories you’re receiving from fat.\n",
    "    - Fat intake is important to monitor. It affects your overall health and heart disease risk. Total fat intake should be 30% of your total daily calories.   So, if you consume 2000 calories each day, no more than 600 calories should come from fat.   That is where the “calories from fat” on food labels can come in handy. [[Source](https://www.healthcentral.com/article/whats-difference-between-calories-calories-fat)]\n",
    "    \n",
    "    \n",
    "- <b>Sugar</b> (metrics: grams)\n",
    "    - According to the American Heart Association (AHA), the maximum amount of added sugars you should eat in a day are: \n",
    "        - Men: 150 calories per day (37.5 grams or 9 teaspoons)\n",
    "        - Women: 100 calories per day (25 grams or 6 teaspoons). [[Source](https://www.healthline.com/nutrition/how-much-sugar-per-day)]\n",
    "        \n",
    "        \n",
    "- <b>Protein</b> (metrics: grams)\n",
    "    - The DRI (Dietary Reference Intake) is 0.8 grams of protein per kilogram of body weight, or 0.36 grams per pound.\n",
    "    - This amounts to:\n",
    "        - 56 grams per day for the average sedentary man.\n",
    "        - 46 grams per day for the average sedentary woman."
   ]
  },
  {
   "cell_type": "markdown",
   "metadata": {},
   "source": [
    "#### Exercise 0: Getting Started\n",
    "---\n",
    "1. Download: [Mcdonalds dataset](https://github.com/wwcodemanila/WWCodeManila-ML.AI/blob/master/datasets/mcdonalds.csv)\n",
    "2. Import the necessary libraries (`pandas`, `numpy`, `matplotlib.pyplot`)\n",
    "3. Load the dataset "
   ]
  },
  {
   "cell_type": "code",
   "execution_count": 1,
   "metadata": {
    "collapsed": true
   },
   "outputs": [],
   "source": [
    "# Write your code here"
   ]
  },
  {
   "cell_type": "markdown",
   "metadata": {},
   "source": [
    "#### Exercise 1: Warmup\n",
    "---\n",
    "<b>Hint</b>: Most commands for this section can be found in our [first machine learning project](https://github.com/wwcodemanila/WWCodeManila-ML.AI/blob/master/tutorials/Intro-to-Machine-Learning.ipynb).\n",
    "\n",
    "1. How many menu items are there in the dataset?\n",
    "2. How many columns are in the dataset?\n",
    "3. What are the columns in the dataset?\n",
    "4. What are the datatypes of each column?\n",
    "5. What are the first 3 menu items in the dataset?\n",
    "6. What are the last 3 menu items in the dataset?\n",
    "7. Print a summary of the data (count, mean, min, max, etc.)"
   ]
  },
  {
   "cell_type": "code",
   "execution_count": 2,
   "metadata": {
    "collapsed": true
   },
   "outputs": [],
   "source": [
    "# Write your code here"
   ]
  },
  {
   "cell_type": "markdown",
   "metadata": {},
   "source": [
    "#### Exercise 2: Cleaning the Data\n",
    "---\n",
    "1. Right now, the dataset is indexed by numbers 0 - 260. You can confirm this by printing `df.index`. Suppose we want to index the pokemon by 'Item' instead of by number. Set the index to become the 'Item' column. [[Hint](https://pandas.pydata.org/pandas-docs/stable/generated/pandas.DataFrame.set_index.html)]\n",
    "2. Check the dataset for any null values. Fill them in if any exist. [[Hint](https://stackoverflow.com/questions/29530232/python-pandas-check-if-any-value-is-nan-in-dataframe)]"
   ]
  },
  {
   "cell_type": "code",
   "execution_count": 3,
   "metadata": {
    "collapsed": true
   },
   "outputs": [],
   "source": [
    "# Write your code here"
   ]
  },
  {
   "cell_type": "markdown",
   "metadata": {},
   "source": [
    "#### Exercise 3: Basic Selection - by Index and Position \n",
    "---\n",
    "1. Retrieve the row data of the first menu item in the dataset by <b>integer-location</b> based indexing. [[Hint](https://pandas.pydata.org/pandas-docs/stable/generated/pandas.DataFrame.iloc.html)]\n",
    "2. Retrieve the row data of <b>Egg McMuffin</b> in the dataset by <b>label-location</b> based indexing. [[Hint](https://pandas.pydata.org/pandas-docs/stable/generated/pandas.DataFrame.loc.html)] \n",
    "3. Retrieve the row data of the <b>20th</b> menu item in the dataset by <b>integer-location</b> based indexing. [[Hint](https://pandas.pydata.org/pandas-docs/stable/generated/pandas.DataFrame.iloc.html)]\n",
    "4. Retrieve the row data of <b>Sausage, Egg & Cheese McGriddles with Egg Whites</b> in the dataset by <b>label-location</b> based indexing. [[Hint](https://pandas.pydata.org/pandas-docs/stable/generated/pandas.DataFrame.loc.html)]\n",
    "5. Retrieve the row data of your favorite menu item in McDonalds.  "
   ]
  },
  {
   "cell_type": "code",
   "execution_count": 4,
   "metadata": {
    "collapsed": true
   },
   "outputs": [],
   "source": [
    "# Write your code here"
   ]
  },
  {
   "cell_type": "markdown",
   "metadata": {},
   "source": [
    "#### Exercise 4: Selection, Counting, and Basic Plotting\n",
    "---\n",
    "Note: For the following items, refer to [this tutorial](http://nbviewer.jupyter.org/github/jvns/pandas-cookbook/blob/v0.1/cookbook/Chapter%202%20-%20Selecting%20data%20&%20finding%20the%20most%20common%20complaint%20type.ipynb).\n",
    "\n",
    "1. Select just the 'Calories' column of the first 5 items. [[Hint](http://nbviewer.jupyter.org/github/jvns/pandas-cookbook/blob/v0.1/cookbook/Chapter%202%20-%20Selecting%20data%20&%20finding%20the%20most%20common%20complaint%20type.ipynb#2.2-Selecting-columns-and-rows)]\n",
    "2. Select just the 'Calories' and 'Total Fat' columns of the first 5 items. [[Hint](http://nbviewer.jupyter.org/github/jvns/pandas-cookbook/blob/v0.1/cookbook/Chapter%202%20-%20Selecting%20data%20&%20finding%20the%20most%20common%20complaint%20type.ipynb#2.3-Selecting-multiple-columns)]\n",
    "3. What are the unique categories under column 'Category'? [[Hint](https://chrisalbon.com/python/pandas_list_unique_values_in_column.html)] \n",
    "4. How many items belong to each Category? [[Hint](http://nbviewer.jupyter.org/github/jvns/pandas-cookbook/blob/v0.1/cookbook/Chapter%202%20-%20Selecting%20data%20&%20finding%20the%20most%20common%20complaint%20type.ipynb#2.4-What's-the-most-common-complaint-type?)]\n",
    "5. What's the most common Category?\n",
    "6. Plot the bar graph for item 4. \n",
    "    - Label the axes properly [[Hint](https://stackoverflow.com/questions/42223587/plt-scatter-how-to-add-title-and-xlabel-and-ylabel)]\n",
    "    - Make sure to call `plt.show()` if you're using jupyter notebook.\n",
    "    - Plus points if you can order the elements in the bar plot in descending order (i.e. highest first) [[Hint1](https://pandas.pydata.org/pandas-docs/stable/generated/pandas.Series.sort_values.html)] [[Hint2](https://stackoverflow.com/questions/22149584/what-does-axis-in-pandas-mean)]"
   ]
  },
  {
   "cell_type": "code",
   "execution_count": 5,
   "metadata": {
    "collapsed": true
   },
   "outputs": [],
   "source": [
    "# Write your code here"
   ]
  },
  {
   "cell_type": "markdown",
   "metadata": {},
   "source": [
    "#### Exercise 5: Selection by Category using Boolean Expressions\n",
    "---\n",
    "Note: For the following items, refer to [this tutorial](http://nbviewer.jupyter.org/github/jvns/pandas-cookbook/blob/v0.1/cookbook/Chapter%203%20-%20Which%20borough%20has%20the%20most%20noise%20complaints%3F%20%28or%2C%20more%20selecting%20data%29.ipynb).\n",
    "1. Retrieve the first 3 menu items in the dataset whose Category is 'Chicken & Fish'. \n",
    "2. Retrieve the first 3 menu items whose Trans fat is greater than or equal to 1. (Then try getting only the Trans Fat column)\n",
    "3. Retrieve all menu items that are desserts and whose sugar content is greater than 40 grams. (Try getting only the Sugars column)\n",
    "4. Retrieve all menu items that are beverages and whose sugar content is greater than 50 grams. (Try getting only the Sugars column)\n",
    "5. Retrieve the row data of <b>Baked Apple Pie</b> and <b>Hot Fudge Sundae</b> in a single table. [Hint: use df.index]\n",
    "6. How many breakfast menu items are there whose Calories from Fat make up more than 50% of the total Calories? "
   ]
  },
  {
   "cell_type": "code",
   "execution_count": 6,
   "metadata": {
    "collapsed": true
   },
   "outputs": [],
   "source": [
    "# Write your code here"
   ]
  },
  {
   "cell_type": "markdown",
   "metadata": {},
   "source": [
    "#### Exercise 6: Selection by Characteristic\n",
    "---\n",
    "Retrieve the name and statistics of the menu item as requested below.\n",
    "\n",
    "Bonus Challenge: If there are more than one item for each category, print all of them (e.g. there may be multiple items sharing the same highest Calories)\n",
    "\n",
    "1. Choose 3 among the following that interest you the most and retrieve those items:\n",
    "    - Highest Calories\n",
    "    - Highest Calories from Fat\n",
    "    - Highest Total Fat (% Daily Value)\n",
    "    - Saturated Fat (% Daily Value)\n",
    "    - Highest Trans Fat\n",
    "    - Highest Cholesterol (% Daily Value)\n",
    "    - Highest Sodium (% Daily Value)\n",
    "    - Highest Carbohydrates (% Daily Value)\n",
    "    - Highest Dietary Fiber (% Daily Value)\n",
    "    - Highest Sugars\n",
    "    - Highest Protein\n",
    "    - Highest Vitamin A (% Daily Value)\n",
    "    - Highest Vitamin C (% Daily Value)\n",
    "    - Highest Calcium (% Daily Value)\n",
    "    - Highest Iron (% Daily Value)\n",
    "2. For the 3 that you chose in Item 1, get their lowest counterparts.\n",
    "3. Print the top 10 items with the highest Calories in descending order.\n",
    "4. Print the top 10 non-beverage (beverages include tea and coffee) items with the lowest Calories in ascending order.\n",
    "\n",
    "<b>Bonus:</b> Have questions of your own? (e.g. Which top 10 items have the most sugar? least sugar?) Answer them here!"
   ]
  },
  {
   "cell_type": "code",
   "execution_count": 7,
   "metadata": {
    "collapsed": true
   },
   "outputs": [],
   "source": [
    "# Write your code here"
   ]
  },
  {
   "cell_type": "markdown",
   "metadata": {},
   "source": [
    "#### Exercise 7: Final Challenge - Eating Healthy with McDonald's?\n",
    "Familiar with the documentary [Super Size Me](https://en.wikipedia.org/wiki/Super_Size_Me)? The film follows Morgan Spurlock for 30 days during which he ate only McDonald's food. The film documents this lifestyle's drastic effect on Spurlock's physical and psychological well-being and how the McDonalds menu encourages poor nutrition. \n",
    "\n",
    "Suppose your friend challenges you to eat nothing but McDonald's for an entire day without gaining weight or succumbing to poor nutrition. Would you take on the challenge?\n",
    "\n",
    "<b>Task</b>: Plan your meals (breakfast, lunch and dinner) for one whole day, keeping health and wellness in mind. Use the following restrictions as a guide:\n",
    "- Total amount calories should be less than 2000 for the entire day\n",
    "- Calories from fat is recommended to be less than or equal to 30% of the Total Calories.\n",
    "- Sugar should be at most 25 grams (women) or 37.5 grams (men) a day\n",
    "- Protein should be more or less 46 grams (women) or 56 grams (men) a day\n",
    "- For Vitamins, Calcium, and Iron, try to meet the 100% Daily Value but do not exceed 200%. [[Source](http://www.whfoods.com/genpage.php?tname=dailytip&dbid=42)]\n",
    "- Try not to exceed 100% for the following:\n",
    "    - Total Fat (% Daily Value)\n",
    "    - Saturated Fat (% Daily Value)               \n",
    "    - Cholesterol (% Daily Value)       \n",
    "    - Sodium (% Daily Value)  \n",
    "    \n",
    "[[Hint1](https://pandas.pydata.org/pandas-docs/stable/generated/pandas.DataFrame.sum.html)] [[Hint2](https://stackoverflow.com/questions/22149584/what-does-axis-in-pandas-mean)]\n",
    "\n",
    "<b>Rules:</b> \n",
    "- Breakfast meals are can only be ordered once during breakfast.\n",
    "- You can't order the same meal twice (add variety to your meals!)\n",
    "- Try to maximize your enjoyment as well (don't just have salad all day if you hate salad)."
   ]
  },
  {
   "cell_type": "code",
   "execution_count": 8,
   "metadata": {
    "collapsed": true
   },
   "outputs": [],
   "source": [
    "# Write your code here"
   ]
  },
  {
   "cell_type": "markdown",
   "metadata": {},
   "source": [
    "### Congrats on finishing the exercise!"
   ]
  }
 ],
 "metadata": {
  "kernelspec": {
   "display_name": "Python 2",
   "language": "python",
   "name": "python2"
  },
  "language_info": {
   "codemirror_mode": {
    "name": "ipython",
    "version": 2
   },
   "file_extension": ".py",
   "mimetype": "text/x-python",
   "name": "python",
   "nbconvert_exporter": "python",
   "pygments_lexer": "ipython2",
   "version": "2.7.13"
  }
 },
 "nbformat": 4,
 "nbformat_minor": 2
}
