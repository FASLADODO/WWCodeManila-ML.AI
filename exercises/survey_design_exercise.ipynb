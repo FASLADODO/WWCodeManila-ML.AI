{
 "cells": [
  {
   "cell_type": "markdown",
   "metadata": {},
   "source": [
    "# Survey Design Exercise"
   ]
  },
  {
   "cell_type": "markdown",
   "metadata": {},
   "source": [
    "<b>Resources</b>: [[Intro to Survey Design](https://infoactive.co/data-design/ch03.html)][[Types of Survey Questions](https://infoactive.co/data-design/ch04.html)][[How to Design and Analyze a Survey](https://zapier.com/learn/forms-surveys/design-analyze-survey/)]\n",
    "\n",
    "You task is to design a survey for any one of the given scenarios below. \n",
    "\n",
    "Write down the following:\n",
    "- <b>Research questions</b> or specific knowledge you'd like to gain from your survey\n",
    "- <b>Hypotheses</b> or what you think might answer your questions\n",
    "\n",
    "Determine the best types of questions to be administered, the level of data to be collected, and what you hope to do with the collected data. \n",
    "\n",
    "You may do either of the following:\n",
    "- Draw the survey form on paper, take a picture of it, then upload it\n",
    "- Create a mockup f the survey form (e.g. using [Balsamiq](https://balsamiq.com/))\n",
    "- Create a [Google form](https://www.google.com/forms/about/)\n",
    "\n",
    "Note: Assume that the surveys will be self-administered through e-mail or through the WWCodeManila registration site. "
   ]
  },
  {
   "cell_type": "markdown",
   "metadata": {},
   "source": [
    "#### Scenario 1: WWCode Manila Hackathon 2018\n",
    "---\n",
    "It's November again and time for the annual WWCode Manila Hackathon! We expect over a hundred participants to join the event. This is the perfect time to gather data on the participants and their motivations for joining. As part of the data science team, your job is to design a survey that each of the participants will be required to answer. \n",
    "\n",
    "What interesting insights might you get from the data and how might it improve subsequent hackathons?"
   ]
  },
  {
   "cell_type": "markdown",
   "metadata": {},
   "source": [
    "#### Scenario 2: WWCode Manila Study Group Participants\n",
    "---\n",
    "Over the past year, WWCode has gained over a thousand members. In order to better understand the needs of the members as well as the demand for the different study groups, you are tasked to create a survey that each member must accomplish. \n",
    "\n",
    "What interesting insights might you get from the data and how might it contribute to improving WWCode Manila study groups?\n",
    "\n",
    "P.S. The different WWCodeManila study groups are: PHP, Android (Java), iOS, JavaScript, GameDev, HTML/CSS, Python, ML/AI"
   ]
  }
 ],
 "metadata": {
  "kernelspec": {
   "display_name": "Python 3",
   "language": "python",
   "name": "python3"
  },
  "language_info": {
   "codemirror_mode": {
    "name": "ipython",
    "version": 3
   },
   "file_extension": ".py",
   "mimetype": "text/x-python",
   "name": "python",
   "nbconvert_exporter": "python",
   "pygments_lexer": "ipython3",
   "version": "3.6.0"
  }
 },
 "nbformat": 4,
 "nbformat_minor": 2
}
