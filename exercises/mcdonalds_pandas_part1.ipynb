{
 "cells": [
  {
   "cell_type": "markdown",
   "metadata": {},
   "source": [
    "## Learning Pandas with McDonalds - Part 1\n",
    "\n",
    "### What is pandas?\n",
    "In computer programming, pandas is a software library written for the Python programming language for data manipulation and analysis. In particular, it offers data structures and operations for manipulating numerical tables and time series. It is free software released under the three-clause BSD license. The name is derived from the term \"<b>pan</b>el <b>da</b>ta\", an econometrics term for multidimensional, structured data sets. (Source: wikipedia)"
   ]
  },
  {
   "cell_type": "markdown",
   "metadata": {},
   "source": [
    "### Today, we'll be exploring the Mcdonalds Dataset! \n",
    "![alt text](images/mcdonalds.jpg)\n",
    "\n",
    "The purpose of this exercise to help you become more aware of the nutritional value of the food choices you make when ordering at McDonald's... all while using pandas! "
   ]
  },
  {
   "cell_type": "markdown",
   "metadata": {},
   "source": [
    "#### About the Dataset: \n",
    "---\n",
    "This dataset provides a nutrition analysis of every menu item on the US McDonald's menu, including breakfast, beef burgers, chicken and fish sandwiches, fries, salads, soda, coffee and tea, milkshakes, and desserts.\n",
    "\n",
    "The menu items and nutrition facts were scraped from the McDonald's website.\n",
    "\n",
    "<b>Source</b>: https://www.kaggle.com/mcdonalds/nutrition-facts"
   ]
  },
  {
   "cell_type": "markdown",
   "metadata": {},
   "source": [
    "#### Understanding Nutritional Facts\n",
    "---\n",
    "- [Guide to Nutritional Facts](https://www.fda.gov/Food/IngredientsPackagingLabeling/LabelingNutrition/ucm274593.htm)\n",
    "\n",
    "\n",
    "- <b>Percent (%) Daily Value (DV)</b> \n",
    "    - A guide to the nutrients in one serving of food.\n",
    "    - If the label lists <i>15% for calcium</i>, it means that one serving provides <i>15% of the calcium you need each day</i>.\n",
    "    - %DVs are based on a 2,000-calorie diet for healthy adults.\n",
    "    - %DVs also tell you whether a food is high or low in a specific nutrient:\n",
    "        - 5 percent or less of a nutrient is low.\n",
    "        - 20 percent or more of a nutrient is high.\n",
    "    - Note: The FDA hasn't set a DV for trans fat because experts recommend that Americans avoid foods with trans fat.\n",
    "    - It is highly recommended that you get in the habit of checking DVs to choose foods \n",
    "        - high in vitamins, minerals and fiber\n",
    "        - low in saturated fat, added sugar and sodium [[Source](https://www.mayoclinic.org/healthy-lifestyle/nutrition-and-healthy-eating/expert-answers/food-and-nutrition/faq-20058436)]\n",
    "        \n",
    "        \n",
    "- <b>Calories vs Calories from Fat</b>\n",
    "    - <b>Calories</b> stands for the total calories in one serving from all sources-fat, carbohydrates, and protein\n",
    "    - <b>Calories from fat</b> stands for just the calories you’re receiving from fat.\n",
    "    - Fat intake is important to monitor. It affects your overall health and heart disease risk. Total fat intake should be 30% of your total daily calories.   So, if you consume 2000 calories each day, no more than 600 calories should come from fat.   That is where the “calories from fat” on food labels can come in handy. [[Source](https://www.healthcentral.com/article/whats-difference-between-calories-calories-fat)]\n",
    "    \n",
    "    \n",
    "- <b>Sugar</b> (metrics: grams)\n",
    "    - According to the American Heart Association (AHA), the maximum amount of added sugars you should eat in a day are: \n",
    "        - Men: 150 calories per day (37.5 grams or 9 teaspoons)\n",
    "        - Women: 100 calories per day (25 grams or 6 teaspoons). [[Source](https://www.healthline.com/nutrition/how-much-sugar-per-day)]\n",
    "        \n",
    "        \n",
    "- <b>Protein</b> (metrics: grams)\n",
    "    - The DRI (Dietary Reference Intake) is 0.8 grams of protein per kilogram of body weight, or 0.36 grams per pound.\n",
    "    - This amounts to:\n",
    "        - 56 grams per day for the average sedentary man.\n",
    "        - 46 grams per day for the average sedentary woman."
   ]
  },
  {
   "cell_type": "markdown",
   "metadata": {},
   "source": [
    "#### Exercise 0: Getting Started\n",
    "---\n",
    "1. Download: [Mcdonalds dataset](https://github.com/wwcodemanila/WWCodeManila-ML.AI/blob/master/datasets/mcdonalds.csv)\n",
    "2. Import the necessary libraries (`pandas`, `numpy`, `matplotlib.pyplot`)\n",
    "3. Load the dataset "
   ]
  },
  {
   "cell_type": "code",
   "execution_count": 5,
   "metadata": {
    "collapsed": true
   },
   "outputs": [],
   "source": [
    "# Write your code here"
   ]
  },
  {
   "cell_type": "markdown",
   "metadata": {},
   "source": [
    "#### Exercise 1: Warmup\n",
    "---\n",
    "<b>Hint</b>: Most commands for this section can be found in our [first machine learning project](https://github.com/wwcodemanila/WWCodeManila-ML.AI/blob/master/tutorials/Intro-to-Machine-Learning.ipynb).\n",
    "\n",
    "- How many menu items are there in the dataset?\n",
    "- What are the columns in the dataset?\n",
    "- What are the datatypes of each column?\n",
    "- What are the first 3 menu items in the dataset?\n",
    "- What are the last 3 menu items in the dataset?\n",
    "- Print a summary of the data (count, mean, min, max, etc.)"
   ]
  },
  {
   "cell_type": "code",
   "execution_count": 6,
   "metadata": {
    "collapsed": true
   },
   "outputs": [],
   "source": [
    "# Write your code here"
   ]
  },
  {
   "cell_type": "markdown",
   "metadata": {},
   "source": [
    "#### Exercise 2: Cleaning the Data\n",
    "---\n",
    "1. Right now, the dataset is indexed by numbers 0 - 260. You can confirm this by printing `df.index`. Suppose we want to index the pokemon by 'Item' instead of by number. Set the index to become the 'Item' column. [[Hint](https://pandas.pydata.org/pandas-docs/stable/generated/pandas.DataFrame.set_index.html)]\n",
    "2. Check the dataset for any null values. Fill them in if any exist. [[Hint](https://stackoverflow.com/questions/29530232/python-pandas-check-if-any-value-is-nan-in-dataframe)]\n",
    "3. Optional : Rename all column names with spaces to something shorter (e.g. Rename 'Total Fat (% Daily Value)' to 'TotalFat%DV'). [[Hint](https://stackoverflow.com/questions/11346283/renaming-columns-in-pandas)]"
   ]
  },
  {
   "cell_type": "code",
   "execution_count": 7,
   "metadata": {
    "collapsed": true
   },
   "outputs": [],
   "source": [
    "# Write your code here"
   ]
  },
  {
   "cell_type": "markdown",
   "metadata": {},
   "source": [
    "#### Exercise 3: Basic Selection\n",
    "---\n",
    "1. Retrieve the row data of the first menu item in the dataset by <b>integer-location</b> based indexing. [[Hint](https://pandas.pydata.org/pandas-docs/stable/generated/pandas.DataFrame.iloc.html)]\n",
    "2. Retrieve the row data of <b>Egg McMuffin</b> in the dataset by <b>label-location</b> based indexing. [[Hint](https://pandas.pydata.org/pandas-docs/stable/generated/pandas.DataFrame.loc.html)] \n",
    "3. Retrieve the row data of the <b>20th</b> menu item in the dataset by <b>integer-location</b> based indexing. [[Hint](https://pandas.pydata.org/pandas-docs/stable/generated/pandas.DataFrame.iloc.html)]\n",
    "4. Retrieve the row data of <b>Sausage, Egg & Cheese McGriddles with Egg Whites</b> in the dataset by <b>label-location</b> based indexing. [[Hint](https://pandas.pydata.org/pandas-docs/stable/generated/pandas.DataFrame.loc.html)]\n",
    "5. Retrieve the row data of your favorite menu item in McDonalds.  "
   ]
  },
  {
   "cell_type": "code",
   "execution_count": 8,
   "metadata": {
    "collapsed": true
   },
   "outputs": [],
   "source": [
    "# Write your code here"
   ]
  },
  {
   "cell_type": "markdown",
   "metadata": {},
   "source": [
    "###  [Continue to Part 2.](https://github.com/wwcodemanila/WWCodeManila-ML.AI/blob/master/exercises/mcdonalds_pandas_part2.ipynb)"
   ]
  }
 ],
 "metadata": {
  "kernelspec": {
   "display_name": "Python 3",
   "language": "python",
   "name": "python3"
  },
  "language_info": {
   "codemirror_mode": {
    "name": "ipython",
    "version": 3
   },
   "file_extension": ".py",
   "mimetype": "text/x-python",
   "name": "python",
   "nbconvert_exporter": "python",
   "pygments_lexer": "ipython3",
   "version": "3.6.0"
  }
 },
 "nbformat": 4,
 "nbformat_minor": 2
}
