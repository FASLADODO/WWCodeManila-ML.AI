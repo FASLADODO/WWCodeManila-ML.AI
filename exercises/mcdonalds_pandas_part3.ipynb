{
 "cells": [
  {
   "cell_type": "markdown",
   "metadata": {},
   "source": [
    "## Learning Pandas with McDonalds - Part 3\n",
    "Continuation of [Learning Pandas with McDonalds - Part 2](https://github.com/wwcodemanila/WWCodeManila-ML.AI/blob/master/exercises/mcdonalds_pandas_part2.ipynb)."
   ]
  },
  {
   "cell_type": "markdown",
   "metadata": {},
   "source": [
    "#### Exercise 6: Selection by Characteristic\n",
    "---\n",
    "Retrieve the name and statistics of the menu item as requested below.\n",
    "\n",
    "Bonus Challenge: If there are more than one item for each category, print all of them (e.g. there may be multiple items sharing the same highest Calories)\n",
    "\n",
    "1. Choose 3-5 among the following that interest you the most and retrieve those items:\n",
    "    - Highest Calories\n",
    "    - Highest Calories from Fat\n",
    "    - Highest Total Fat (% Daily Value)\n",
    "    - Saturated Fat (% Daily Value)\n",
    "    - Highest Trans Fat\n",
    "    - Highest Cholesterol (% Daily Value)\n",
    "    - Highest Sodium (% Daily Value)\n",
    "    - Highest Carbohydrates (% Daily Value)\n",
    "    - Highest Dietary Fiber (% Daily Value)\n",
    "    - Highest Sugars\n",
    "    - Highest Protein\n",
    "    - Highest Vitamin A (% Daily Value)\n",
    "    - Highest Vitamin C (% Daily Value)\n",
    "    - Highest Calcium (% Daily Value)\n",
    "    - Highest Iron (% Daily Value)\n",
    "2. For the 3-5 that you chose in Item 1, get their lowest counterparts.\n",
    "3. Print the top 10 items with the highest Calories in descending order.\n",
    "4. Print the top 10 items with the lowest Calories in ascending order.\n",
    "\n",
    "<b>Bonus:</b> Have questions of your own? (e.g. Which top 10 items have the most sugar? least sugar?) Answer them here!"
   ]
  },
  {
   "cell_type": "code",
   "execution_count": 1,
   "metadata": {
    "collapsed": true
   },
   "outputs": [],
   "source": [
    "# Write your code here"
   ]
  },
  {
   "cell_type": "markdown",
   "metadata": {},
   "source": [
    "#### Exercise 7: Final Challenge - Eating Healthy with McDonald's?\n",
    "Familiar with the documentary [Super Size Me](https://en.wikipedia.org/wiki/Super_Size_Me)? The film follows Morgan Spurlock for 30-day during which he ate only McDonald's food. The film documents this lifestyle's drastic effect on Spurlock's physical and psychological well-being, and how it encourages poor nutrition. \n",
    "\n",
    "Suppose your friend challenges you to eat nothing but McDonald's for an entire day without gaining weight or succumbing to poor nutrition. Would you take on the challenge?\n",
    "\n",
    "<b>Task</b>: Plan your meals (breakfast, lunch and dinner) for one whole day, keeping health and wellness in mind. Use the following restrictions as a guide:\n",
    "- Total amount calories should be less than 2000 for the entire day\n",
    "- Calories from fat is recommended to be less than or equal to 30% of the Total Calories.\n",
    "- Sugar should be at most 25 grams (women) or 37.5 grams (men) a day\n",
    "- Protein should be more or less 46 grams (women) or 56 grams (men) a day\n",
    "- For Vitamins, Calcium, and Iron, try to meet the 100% Daily Value but do not exceed 200%. [[Source](http://www.whfoods.com/genpage.php?tname=dailytip&dbid=42))]\n",
    "- Try not to exceed 100% for the following:\n",
    "    - Total Fat (% Daily Value)\n",
    "    - Saturated Fat (% Daily Value)               \n",
    "    - Cholesterol (% Daily Value)       \n",
    "    - Sodium (% Daily Value)  \n",
    "    \n",
    "[[Hint1](https://pandas.pydata.org/pandas-docs/stable/generated/pandas.DataFrame.sum.html)] [[Hint2](https://stackoverflow.com/questions/22149584/what-does-axis-in-pandas-mean)]\n",
    "\n",
    "<b>Rules:</b> \n",
    "- Breakfast meals are can only be ordered once during breakfast.\n",
    "- You can't order the same meal twice (add variety to your meals!)\n",
    "- Try to maximize your enjoyment as well (don't just have salad all day if you hate salad)."
   ]
  },
  {
   "cell_type": "code",
   "execution_count": 2,
   "metadata": {
    "collapsed": true
   },
   "outputs": [],
   "source": [
    "# Write your code here"
   ]
  },
  {
   "cell_type": "markdown",
   "metadata": {},
   "source": [
    "### Congrats on finishing the exercise!"
   ]
  }
 ],
 "metadata": {
  "kernelspec": {
   "display_name": "Python 3",
   "language": "python",
   "name": "python3"
  },
  "language_info": {
   "codemirror_mode": {
    "name": "ipython",
    "version": 3
   },
   "file_extension": ".py",
   "mimetype": "text/x-python",
   "name": "python",
   "nbconvert_exporter": "python",
   "pygments_lexer": "ipython3",
   "version": "3.6.0"
  }
 },
 "nbformat": 4,
 "nbformat_minor": 2
}
