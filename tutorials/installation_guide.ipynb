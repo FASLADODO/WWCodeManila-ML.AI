{
 "cells": [
  {
   "cell_type": "markdown",
   "metadata": {},
   "source": [
    "## Tools and installation\n",
    "This will take a bit to download and install so please **make sure to set this up before the study group commences.**\n",
    "\n",
    "* Python 3.x\n",
    "* Jupyter notebook\n",
    "* Pandas\n",
    "* Scikit-learn\n",
    "* Seaborn\n",
    "* Plotly\n",
    "\n",
    "The easiest way to obtain most of these is to install the [latest version of Anaconda](https://www.anaconda.com/download/). Simply download the corresponding executable for your operating system. Please choose the Python 3.6.x version. The installer should guide you through the process.\n",
    "\n",
    "Once you have installed Anaconda, you also need to install the Python library `plotly` for the visualization part:\n",
    "\n",
    "1. Open `Anaconda Prompt` from the Start menu (Windows) or open the `Terminal` application (Mac/Linux). \n",
    "2. Type the following, which should guide you through the installation process: \n",
    "\n",
    "```shell\n",
    "conda install plotly\n",
    "```"
   ]
  },
  {
   "cell_type": "markdown",
   "metadata": {},
   "source": [
    "## Launching the Jupyter Notebook\n",
    "\n",
    "Most of the materials in this workshop are presented using follow-along Jupyter notebooks. These are interactive notebooks which can contain texts, codes, results of codes, figures, and more. You can read more about Jupyter notebook [here](https://jupyter-notebook-beginner-guide.readthedocs.io/en/latest/what_is_jupyter.html).\n",
    "\n",
    "You can also [try Jupyter](https://try.jupyter.org/) without installing. \n",
    "\n",
    "However, Anaconda comes with Jupyter notebook! To launch this locally on your computer, simply look for the Jupyter Notebook icon in the Start Menu or Desktop (Windows) or type the following in the command prompt or terminal (Windows, Mac, Linux): \n",
    "\n",
    "```shell\n",
    "jupyter notebook\n",
    "```\n",
    "\n",
    "The notebook will be launched in a new browser window. You can go ahead and explore the dashboard.  More things that you can do is in this [guide](https://jupyter-notebook-beginner-guide.readthedocs.io/en/latest/execute.html). \n",
    "\n",
    "Our mentors will also help you with navigating and using the notebook. But if you want a quick go-over on your own, here's a good [YouTube resource](https://www.youtube.com/watch?v=jZ952vChhuI). Another way to maximize this tool is to familiarize yourselves with [keyboard shortcuts](http://maxmelnick.com/2016/04/19/python-beginner-tips-and-tricks.html). We'll use the basic shortcuts during the workshop, and we'll let you explore more on your own."
   ]
  }
 ],
 "metadata": {
  "kernelspec": {
   "display_name": "Python 3",
   "language": "python",
   "name": "python3"
  },
  "language_info": {
   "codemirror_mode": {
    "name": "ipython",
    "version": 3
   },
   "file_extension": ".py",
   "mimetype": "text/x-python",
   "name": "python",
   "nbconvert_exporter": "python",
   "pygments_lexer": "ipython3",
   "version": "3.6.0"
  }
 },
 "nbformat": 4,
 "nbformat_minor": 2
}
