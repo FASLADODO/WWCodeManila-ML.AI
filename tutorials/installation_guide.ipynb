{
 "cells": [
  {
   "cell_type": "markdown",
   "metadata": {},
   "source": [
    "## Installing Anaconda\n",
    "First, we need to install Anaconda. You can download the [installer here](https://www.continuum.io/downloads). \n",
    "\n",
    "### Why Anaconda?\n",
    "It’s prepackaged with many useful packages and scientific libraries such as:\n",
    "- Pandas \n",
    "- SciPy\n",
    "- NumPy\n",
    "- Scikit-learn\n",
    "- Matplotlib\n",
    "- and a lot more!\n",
    "\n",
    "Using a normal terminal, we would need to install all these libraries one by one. \n",
    "Using Anaconda makes it a lot easier for us to start coding without the hassle. \n",
    "\n",
    "You have 2 options: \n",
    "- Option 1: Run scripts using Jupyter Notebook (recommended)\n",
    "- Option 2: Run scripts using Anaconda Prompt\n",
    "\n",
    "### Option 1: Jupyter Notebook\n",
    "Open a command prompt or terminal and type in \n",
    "```shell\n",
    "jupyter notebook\n",
    "```\n",
    "This will launch a new browser window (or a new tab) showing the Notebook Dashboard, a sort of control panel that allows (among other things) to select which notebook to open.\n",
    "\n",
    "Jupyter allows you to run parts of your code incrementally. \n",
    "- The `+` button allows you to add another cell. \n",
    "- Each cell can contain code, which can be excuted using the play or `Run Cell` button (also located under `Cell`). \n",
    "- Insert comments/notes in between code by switching the cell type from `Code` to `Markdown` (located in the dropdown). \n",
    "\n",
    "Keyboard shortcuts:\n",
    "- Command mode (gray border)\n",
    "- Create new cells above (a) or below (b) the current cell\n",
    "- Navigate using the up arrow and down arrow\n",
    "- Convert the cell type to Markdown (m) or code (y)\n",
    "- See keyboard shortcuts using h\n",
    "- Switch to Edit mode using Enter\n",
    "\n",
    "Edit mode (green border)\n",
    "- Ctrl+Enter to run a cell\n",
    "- Switch to Command mode using Esc\n",
    "\n",
    "### Option 2: Running your first Python script in Anaconda\n",
    "You can also opt to write Python scripts; then run them in the Anaconda Prompt, which resembles a command prompt or terminal.\n",
    "\n",
    "Create a python script `script.py` containing:\n",
    "\n",
    "```shell\n",
    "print(\"Hello World!\")\n",
    "```\n",
    "\n",
    "Search for and open the Anaconda Prompt, `cd` into your directory, and type in:\n",
    "\n",
    "``` shell\n",
    "python script.py\n",
    "```\n",
    "\n",
    "And voila! If no error occurs, you're good to go. :)"
   ]
  },
  {
   "cell_type": "code",
   "execution_count": null,
   "metadata": {
    "collapsed": true
   },
   "outputs": [],
   "source": []
  }
 ],
 "metadata": {
  "kernelspec": {
   "display_name": "Python 3",
   "language": "python",
   "name": "python3"
  },
  "language_info": {
   "codemirror_mode": {
    "name": "ipython",
    "version": 3
   },
   "file_extension": ".py",
   "mimetype": "text/x-python",
   "name": "python",
   "nbconvert_exporter": "python",
   "pygments_lexer": "ipython3",
   "version": "3.6.0"
  }
 },
 "nbformat": 4,
 "nbformat_minor": 2
}
