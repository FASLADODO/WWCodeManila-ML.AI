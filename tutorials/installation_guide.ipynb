{
 "cells": [
  {
   "cell_type": "markdown",
   "metadata": {},
   "source": [
    "## Installing Anaconda\n",
    "First, we need to install Anaconda. You can download the [installer here](https://www.continuum.io/downloads). \n",
    "\n",
    "### Why Anaconda?\n",
    "It’s prepackaged with many useful packages and scientific libraries such as Pandas, SciPy, NumPy, Scikit-learn, Matplotlib, etc. Using a normal terminal, we would need to install all these libraries one by one. Anaconda makes it a lot easier for us to start coding without the hassle. \n",
    "\n",
    "- Option 1: Run scripts using Jupyter Notebook (recommended)\n",
    "- Option 2: Run scripts using Anaconda Prompt\n",
    "\n",
    "### Option 1: Jupyter Notebook\n",
    "Open a command prompt or terminal and type in \n",
    "```shell\n",
    "jupyter notebook\n",
    "```\n",
    "This will launch a new browser window (or a new tab) showing the Notebook Dashboard, a sort of control panel that allows (among other things) to select which notebook to open.\n",
    "\n",
    "#### How to run Jupyter Notebook\n",
    "![alt text](images/jupyter2.gif)\n",
    "\n",
    "1. Type your Python command.\n",
    "<img src=\"images/jupyter3.png\" width=\"600\">\n",
    "2. Hit SHIFT + ENTER to run your Python command.\n",
    "<img src=\"images/jupyter4.png\" width=\"600\">\n",
    "3. You can use the TAB button for auto-completion.\n",
    "<img src=\"images/jupyter5.png\" width=\"600\">\n",
    "4. The `+` button allows you to add another cell. \n",
    "5. Insert comments/notes in between code by switching the cell type from `Code` to `Markdown` (located in the dropdown). \n",
    "<img src=\"images/jupyter1.png\" width=\"700\">\n",
    "\n",
    "#### Keyboard shortcuts:\n",
    "- Default is Command mode (blue border)\n",
    "    - See keyboard shortcuts using h\n",
    "    - Create new cells above (a) or below (b) the current cell\n",
    "    - Navigate using the up arrow and down arrow\n",
    "    - Convert the cell type to Markdown (m) or Code (y)\n",
    "- Switch to Edit mode (green border) using Enter\n",
    "    - Ctrl+Enter to run a cell\n",
    "    - Switch to Command mode using Esc\n",
    "\n",
    "### Option 2: Running your first Python script in Anaconda Prompt\n",
    "You can also opt to write Python scripts; then run them in the Anaconda Prompt, which resembles a command prompt or terminal.\n",
    "\n",
    "Create a python script `script.py` containing:\n",
    "\n",
    "```shell\n",
    "print(\"Hello World!\")\n",
    "```\n",
    "\n",
    "Search for and open the Anaconda Prompt, `cd` into your directory, and type in:\n",
    "\n",
    "``` shell\n",
    "python script.py\n",
    "```\n",
    "\n",
    "And voila! If no error occurs, you're good to go. :)"
   ]
  }
 ],
 "metadata": {
  "kernelspec": {
   "display_name": "Python 2",
   "language": "python",
   "name": "python2"
  },
  "language_info": {
   "codemirror_mode": {
    "name": "ipython",
    "version": 2
   },
   "file_extension": ".py",
   "mimetype": "text/x-python",
   "name": "python",
   "nbconvert_exporter": "python",
   "pygments_lexer": "ipython2",
   "version": "2.7.13"
  }
 },
 "nbformat": 4,
 "nbformat_minor": 2
}
